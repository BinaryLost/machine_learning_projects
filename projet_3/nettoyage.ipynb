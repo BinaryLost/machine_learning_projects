{
 "cells": [
  {
   "cell_type": "code",
   "execution_count": 1,
   "metadata": {
    "collapsed": true
   },
   "outputs": [
    {
     "data": {
      "text/plain": "   OSEBuildingID  DataYear    BuildingType PrimaryPropertyType  \\\n0              1      2016  NonResidential               Hotel   \n1              2      2016  NonResidential               Hotel   \n2              3      2016  NonResidential               Hotel   \n3              5      2016  NonResidential               Hotel   \n4              8      2016  NonResidential               Hotel   \n\n                  PropertyName          Address     City State  ZipCode  \\\n0         Mayflower park hotel    405 Olive way  Seattle    WA  98101.0   \n1              Paramount Hotel  724 Pine street  Seattle    WA  98101.0   \n2      5673-The Westin Seattle  1900 5th Avenue  Seattle    WA  98101.0   \n3                    HOTEL MAX   620 STEWART ST  Seattle    WA  98101.0   \n4  WARWICK SEATTLE HOTEL (ID8)    401 LENORA ST  Seattle    WA  98121.0   \n\n  TaxParcelIdentificationNumber  ...  Electricity(kWh) Electricity(kBtu)  \\\n0                    0659000030  ...      1.156514e+06         3946027.0   \n1                    0659000220  ...      9.504252e+05         3242851.0   \n2                    0659000475  ...      1.451544e+07        49526664.0   \n3                    0659000640  ...      8.115253e+05         2768924.0   \n4                    0659000970  ...      1.573449e+06         5368607.0   \n\n   NaturalGas(therms)  NaturalGas(kBtu)  DefaultData  Comments  \\\n0         12764.52930         1276453.0        False       NaN   \n1         51450.81641         5145082.0        False       NaN   \n2         14938.00000         1493800.0        False       NaN   \n3         18112.13086         1811213.0        False       NaN   \n4         88039.98438         8803998.0        False       NaN   \n\n   ComplianceStatus  Outlier  TotalGHGEmissions  GHGEmissionsIntensity  \n0         Compliant      NaN             249.98                   2.83  \n1         Compliant      NaN             295.86                   2.86  \n2         Compliant      NaN            2089.28                   2.19  \n3         Compliant      NaN             286.43                   4.67  \n4         Compliant      NaN             505.01                   2.88  \n\n[5 rows x 46 columns]",
      "text/html": "<div>\n<style scoped>\n    .dataframe tbody tr th:only-of-type {\n        vertical-align: middle;\n    }\n\n    .dataframe tbody tr th {\n        vertical-align: top;\n    }\n\n    .dataframe thead th {\n        text-align: right;\n    }\n</style>\n<table border=\"1\" class=\"dataframe\">\n  <thead>\n    <tr style=\"text-align: right;\">\n      <th></th>\n      <th>OSEBuildingID</th>\n      <th>DataYear</th>\n      <th>BuildingType</th>\n      <th>PrimaryPropertyType</th>\n      <th>PropertyName</th>\n      <th>Address</th>\n      <th>City</th>\n      <th>State</th>\n      <th>ZipCode</th>\n      <th>TaxParcelIdentificationNumber</th>\n      <th>...</th>\n      <th>Electricity(kWh)</th>\n      <th>Electricity(kBtu)</th>\n      <th>NaturalGas(therms)</th>\n      <th>NaturalGas(kBtu)</th>\n      <th>DefaultData</th>\n      <th>Comments</th>\n      <th>ComplianceStatus</th>\n      <th>Outlier</th>\n      <th>TotalGHGEmissions</th>\n      <th>GHGEmissionsIntensity</th>\n    </tr>\n  </thead>\n  <tbody>\n    <tr>\n      <th>0</th>\n      <td>1</td>\n      <td>2016</td>\n      <td>NonResidential</td>\n      <td>Hotel</td>\n      <td>Mayflower park hotel</td>\n      <td>405 Olive way</td>\n      <td>Seattle</td>\n      <td>WA</td>\n      <td>98101.0</td>\n      <td>0659000030</td>\n      <td>...</td>\n      <td>1.156514e+06</td>\n      <td>3946027.0</td>\n      <td>12764.52930</td>\n      <td>1276453.0</td>\n      <td>False</td>\n      <td>NaN</td>\n      <td>Compliant</td>\n      <td>NaN</td>\n      <td>249.98</td>\n      <td>2.83</td>\n    </tr>\n    <tr>\n      <th>1</th>\n      <td>2</td>\n      <td>2016</td>\n      <td>NonResidential</td>\n      <td>Hotel</td>\n      <td>Paramount Hotel</td>\n      <td>724 Pine street</td>\n      <td>Seattle</td>\n      <td>WA</td>\n      <td>98101.0</td>\n      <td>0659000220</td>\n      <td>...</td>\n      <td>9.504252e+05</td>\n      <td>3242851.0</td>\n      <td>51450.81641</td>\n      <td>5145082.0</td>\n      <td>False</td>\n      <td>NaN</td>\n      <td>Compliant</td>\n      <td>NaN</td>\n      <td>295.86</td>\n      <td>2.86</td>\n    </tr>\n    <tr>\n      <th>2</th>\n      <td>3</td>\n      <td>2016</td>\n      <td>NonResidential</td>\n      <td>Hotel</td>\n      <td>5673-The Westin Seattle</td>\n      <td>1900 5th Avenue</td>\n      <td>Seattle</td>\n      <td>WA</td>\n      <td>98101.0</td>\n      <td>0659000475</td>\n      <td>...</td>\n      <td>1.451544e+07</td>\n      <td>49526664.0</td>\n      <td>14938.00000</td>\n      <td>1493800.0</td>\n      <td>False</td>\n      <td>NaN</td>\n      <td>Compliant</td>\n      <td>NaN</td>\n      <td>2089.28</td>\n      <td>2.19</td>\n    </tr>\n    <tr>\n      <th>3</th>\n      <td>5</td>\n      <td>2016</td>\n      <td>NonResidential</td>\n      <td>Hotel</td>\n      <td>HOTEL MAX</td>\n      <td>620 STEWART ST</td>\n      <td>Seattle</td>\n      <td>WA</td>\n      <td>98101.0</td>\n      <td>0659000640</td>\n      <td>...</td>\n      <td>8.115253e+05</td>\n      <td>2768924.0</td>\n      <td>18112.13086</td>\n      <td>1811213.0</td>\n      <td>False</td>\n      <td>NaN</td>\n      <td>Compliant</td>\n      <td>NaN</td>\n      <td>286.43</td>\n      <td>4.67</td>\n    </tr>\n    <tr>\n      <th>4</th>\n      <td>8</td>\n      <td>2016</td>\n      <td>NonResidential</td>\n      <td>Hotel</td>\n      <td>WARWICK SEATTLE HOTEL (ID8)</td>\n      <td>401 LENORA ST</td>\n      <td>Seattle</td>\n      <td>WA</td>\n      <td>98121.0</td>\n      <td>0659000970</td>\n      <td>...</td>\n      <td>1.573449e+06</td>\n      <td>5368607.0</td>\n      <td>88039.98438</td>\n      <td>8803998.0</td>\n      <td>False</td>\n      <td>NaN</td>\n      <td>Compliant</td>\n      <td>NaN</td>\n      <td>505.01</td>\n      <td>2.88</td>\n    </tr>\n  </tbody>\n</table>\n<p>5 rows × 46 columns</p>\n</div>"
     },
     "execution_count": 1,
     "metadata": {},
     "output_type": "execute_result"
    }
   ],
   "source": [
    "import pandas as pd\n",
    "\n",
    "data = pd.read_csv('2016_Building_Energy_Benchmarking.csv')\n",
    "data.head()"
   ]
  }
 ],
 "metadata": {
  "kernelspec": {
   "display_name": "Python 3",
   "language": "python",
   "name": "python3"
  },
  "language_info": {
   "codemirror_mode": {
    "name": "ipython",
    "version": 2
   },
   "file_extension": ".py",
   "mimetype": "text/x-python",
   "name": "python",
   "nbconvert_exporter": "python",
   "pygments_lexer": "ipython2",
   "version": "2.7.6"
  }
 },
 "nbformat": 4,
 "nbformat_minor": 0
}
