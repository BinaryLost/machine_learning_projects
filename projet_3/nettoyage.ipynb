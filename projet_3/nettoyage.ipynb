{
 "cells": [
  {
   "cell_type": "code",
   "execution_count": 1,
   "metadata": {
    "collapsed": true
   },
   "outputs": [],
   "source": [
    "#import des fichiers et load des ressources\n",
    "import pandas as pd\n",
    "import numpy as np\n",
    "from sklearn.preprocessing import StandardScaler\n",
    "\n",
    "data = pd.read_csv('2016_Building_Energy_Benchmarking.csv')\n",
    "pd.options.display.max_columns = data.shape[1]"
   ]
  },
  {
   "cell_type": "code",
   "execution_count": 2,
   "outputs": [
    {
     "data": {
      "text/plain": "     OSEBuildingID  DataYear    BuildingType   PrimaryPropertyType  \\\n644          19445      2016  NonResidential  Low-Rise Multifamily   \n\n       PropertyName             Address     City State  ZipCode  \\\n644  Pacific Pointe  2108 N Pacific St.  Seattle    WA  98103.0   \n\n    TaxParcelIdentificationNumber  CouncilDistrictCode Neighborhood  Latitude  \\\n644                    0354000254                    4   LAKE UNION  47.64859   \n\n     Longitude  YearBuilt  NumberofBuildings  NumberofFloors  \\\n644 -122.33311       2000                1.0               3   \n\n     PropertyGFATotal  PropertyGFAParking  PropertyGFABuilding(s)  \\\n644             93079               36093                   56986   \n\n    ListOfAllPropertyUseTypes LargestPropertyUseType  \\\n644       Multifamily Housing    Multifamily Housing   \n\n     LargestPropertyUseTypeGFA SecondLargestPropertyUseType  \\\n644                    91064.0                          NaN   \n\n     SecondLargestPropertyUseTypeGFA ThirdLargestPropertyUseType  \\\n644                              NaN                         NaN   \n\n     ThirdLargestPropertyUseTypeGFA YearsENERGYSTARCertified  ENERGYSTARScore  \\\n644                             NaN                      NaN             32.0   \n\n     SiteEUI(kBtu/sf)  SiteEUIWN(kBtu/sf)  SourceEUI(kBtu/sf)  \\\n644              21.9                23.0           63.099998   \n\n     SourceEUIWN(kBtu/sf)  SiteEnergyUse(kBtu)  SiteEnergyUseWN(kBtu)  \\\n644             65.099998            1997181.5            2090011.625   \n\n     SteamUse(kBtu)  Electricity(kWh)  Electricity(kBtu)  NaturalGas(therms)  \\\n644             0.0       511195.5938          1744199.0         2529.819824   \n\n     NaturalGas(kBtu)  DefaultData  Comments ComplianceStatus Outlier  \\\n644          252982.0        False       NaN        Compliant     NaN   \n\n     TotalGHGEmissions  GHGEmissionsIntensity  \n644               25.6                   0.28  ",
      "text/html": "<div>\n<style scoped>\n    .dataframe tbody tr th:only-of-type {\n        vertical-align: middle;\n    }\n\n    .dataframe tbody tr th {\n        vertical-align: top;\n    }\n\n    .dataframe thead th {\n        text-align: right;\n    }\n</style>\n<table border=\"1\" class=\"dataframe\">\n  <thead>\n    <tr style=\"text-align: right;\">\n      <th></th>\n      <th>OSEBuildingID</th>\n      <th>DataYear</th>\n      <th>BuildingType</th>\n      <th>PrimaryPropertyType</th>\n      <th>PropertyName</th>\n      <th>Address</th>\n      <th>City</th>\n      <th>State</th>\n      <th>ZipCode</th>\n      <th>TaxParcelIdentificationNumber</th>\n      <th>CouncilDistrictCode</th>\n      <th>Neighborhood</th>\n      <th>Latitude</th>\n      <th>Longitude</th>\n      <th>YearBuilt</th>\n      <th>NumberofBuildings</th>\n      <th>NumberofFloors</th>\n      <th>PropertyGFATotal</th>\n      <th>PropertyGFAParking</th>\n      <th>PropertyGFABuilding(s)</th>\n      <th>ListOfAllPropertyUseTypes</th>\n      <th>LargestPropertyUseType</th>\n      <th>LargestPropertyUseTypeGFA</th>\n      <th>SecondLargestPropertyUseType</th>\n      <th>SecondLargestPropertyUseTypeGFA</th>\n      <th>ThirdLargestPropertyUseType</th>\n      <th>ThirdLargestPropertyUseTypeGFA</th>\n      <th>YearsENERGYSTARCertified</th>\n      <th>ENERGYSTARScore</th>\n      <th>SiteEUI(kBtu/sf)</th>\n      <th>SiteEUIWN(kBtu/sf)</th>\n      <th>SourceEUI(kBtu/sf)</th>\n      <th>SourceEUIWN(kBtu/sf)</th>\n      <th>SiteEnergyUse(kBtu)</th>\n      <th>SiteEnergyUseWN(kBtu)</th>\n      <th>SteamUse(kBtu)</th>\n      <th>Electricity(kWh)</th>\n      <th>Electricity(kBtu)</th>\n      <th>NaturalGas(therms)</th>\n      <th>NaturalGas(kBtu)</th>\n      <th>DefaultData</th>\n      <th>Comments</th>\n      <th>ComplianceStatus</th>\n      <th>Outlier</th>\n      <th>TotalGHGEmissions</th>\n      <th>GHGEmissionsIntensity</th>\n    </tr>\n  </thead>\n  <tbody>\n    <tr>\n      <th>644</th>\n      <td>19445</td>\n      <td>2016</td>\n      <td>NonResidential</td>\n      <td>Low-Rise Multifamily</td>\n      <td>Pacific Pointe</td>\n      <td>2108 N Pacific St.</td>\n      <td>Seattle</td>\n      <td>WA</td>\n      <td>98103.0</td>\n      <td>0354000254</td>\n      <td>4</td>\n      <td>LAKE UNION</td>\n      <td>47.64859</td>\n      <td>-122.33311</td>\n      <td>2000</td>\n      <td>1.0</td>\n      <td>3</td>\n      <td>93079</td>\n      <td>36093</td>\n      <td>56986</td>\n      <td>Multifamily Housing</td>\n      <td>Multifamily Housing</td>\n      <td>91064.0</td>\n      <td>NaN</td>\n      <td>NaN</td>\n      <td>NaN</td>\n      <td>NaN</td>\n      <td>NaN</td>\n      <td>32.0</td>\n      <td>21.9</td>\n      <td>23.0</td>\n      <td>63.099998</td>\n      <td>65.099998</td>\n      <td>1997181.5</td>\n      <td>2090011.625</td>\n      <td>0.0</td>\n      <td>511195.5938</td>\n      <td>1744199.0</td>\n      <td>2529.819824</td>\n      <td>252982.0</td>\n      <td>False</td>\n      <td>NaN</td>\n      <td>Compliant</td>\n      <td>NaN</td>\n      <td>25.6</td>\n      <td>0.28</td>\n    </tr>\n  </tbody>\n</table>\n</div>"
     },
     "execution_count": 2,
     "metadata": {},
     "output_type": "execute_result"
    }
   ],
   "source": [
    "data.sample(1)"
   ],
   "metadata": {
    "collapsed": false
   }
  },
  {
   "cell_type": "code",
   "execution_count": 3,
   "outputs": [],
   "source": [
    "#variables cohérentes\n",
    "cols = ['OSEBuildingID', 'DataYear', 'BuildingType',\n",
    "       'PropertyName','Neighborhood','YearBuilt','NumberofBuildings','NumberofFloors',\n",
    "        'PropertyGFATotal','PropertyGFAParking','PropertyGFABuilding(s)',\n",
    "       'LargestPropertyUseType', 'ENERGYSTARScore',\n",
    "       'SiteEnergyUseWN(kBtu)', 'SteamUse(kBtu)',\n",
    "        'Electricity(kBtu)','NaturalGas(kBtu)','TotalGHGEmissions']\n",
    "data = data[cols]"
   ],
   "metadata": {
    "collapsed": false
   }
  },
  {
   "cell_type": "code",
   "execution_count": 4,
   "outputs": [
    {
     "data": {
      "text/plain": "NonResidential          1460\nMultifamily LR (1-4)    1018\nMultifamily MR (5-9)     580\nMultifamily HR (10+)     110\nSPS-District K-12         98\nNonresidential COS        85\nCampus                    24\nNonresidential WA          1\nName: BuildingType, dtype: int64"
     },
     "execution_count": 4,
     "metadata": {},
     "output_type": "execute_result"
    }
   ],
   "source": [
    "data['BuildingType'].value_counts()"
   ],
   "metadata": {
    "collapsed": false
   }
  },
  {
   "cell_type": "code",
   "execution_count": 5,
   "outputs": [
    {
     "name": "stdout",
     "output_type": "stream",
     "text": [
      "lignes supprimés  1830\n"
     ]
    }
   ],
   "source": [
    "data_length_before = data.shape[0]\n",
    "data['BuildingType'].replace({'Nonresidential COS': 'NonResidential',\n",
    "                              'Nonresidential WA': 'NonResidential'}, inplace=True)\n",
    "data = data.loc[data['BuildingType'] == 'NonResidential']\n",
    "\n",
    "print(f'lignes supprimés  {data_length_before - data.shape[0]}')"
   ],
   "metadata": {
    "collapsed": false
   }
  },
  {
   "cell_type": "code",
   "execution_count": 6,
   "outputs": [
    {
     "data": {
      "text/plain": "OSEBuildingID               0\nDataYear                    0\nBuildingType                0\nPropertyName                0\nNeighborhood                0\nYearBuilt                   0\nNumberofBuildings           2\nNumberofFloors              0\nPropertyGFATotal            0\nPropertyGFAParking          0\nPropertyGFABuilding(s)      0\nLargestPropertyUseType      6\nENERGYSTARScore           540\nSiteEnergyUseWN(kBtu)       3\nSteamUse(kBtu)              2\nElectricity(kBtu)           2\nNaturalGas(kBtu)            2\nTotalGHGEmissions           2\ndtype: int64"
     },
     "execution_count": 6,
     "metadata": {},
     "output_type": "execute_result"
    }
   ],
   "source": [
    "#valeurs manquantes\n",
    "data.isna().sum()"
   ],
   "metadata": {
    "collapsed": false
   }
  },
  {
   "cell_type": "code",
   "execution_count": 7,
   "outputs": [
    {
     "name": "stdout",
     "output_type": "stream",
     "text": [
      "lignes supprimés  7\n"
     ]
    }
   ],
   "source": [
    "#drop toutes lignes qui ont des valeurs nulles sauf EnergyScore\n",
    "data_length_before = data.shape[0]\n",
    "cols = ['LargestPropertyUseType', 'SiteEnergyUseWN(kBtu)', 'TotalGHGEmissions', 'NaturalGas(kBtu)', 'Electricity(kBtu)', 'SteamUse(kBtu)', 'NumberofBuildings']\n",
    "data.dropna(subset=cols, inplace=True)\n",
    "data.isna().sum()\n",
    "print(f'lignes supprimés  {data_length_before - data.shape[0]}')"
   ],
   "metadata": {
    "collapsed": false
   }
  },
  {
   "cell_type": "code",
   "execution_count": 8,
   "outputs": [
    {
     "data": {
      "text/plain": "       OSEBuildingID  DataYear    YearBuilt  NumberofBuildings  \\\ncount    1539.000000    1539.0  1539.000000        1539.000000   \nmean    16609.779727    2016.0  1961.307342           1.035737   \nstd     13858.481096       0.0    32.888052           0.569622   \nmin         1.000000    2016.0  1900.000000           0.000000   \n25%       609.500000    2016.0  1929.000000           1.000000   \n50%     21213.000000    2016.0  1965.000000           1.000000   \n75%     24629.500000    2016.0  1988.000000           1.000000   \nmax     50226.000000    2016.0  2015.000000           9.000000   \n\n       NumberofFloors  PropertyGFATotal  PropertyGFAParking  \\\ncount     1539.000000      1.539000e+03         1539.000000   \nmean         4.283951      1.120106e+05        13829.220273   \nstd          6.796834      1.918960e+05        43730.728115   \nmin          0.000000      1.128500e+04            0.000000   \n25%          1.000000      2.872800e+04            0.000000   \n50%          2.000000      4.721500e+04            0.000000   \n75%          4.000000      1.028880e+05            0.000000   \nmax         99.000000      1.952220e+06       512608.000000   \n\n       PropertyGFABuilding(s)  ENERGYSTARScore  SiteEnergyUseWN(kBtu)  \\\ncount            1.539000e+03      1003.000000           1.539000e+03   \nmean             9.818137e+04        63.790628           7.761522e+06   \nstd              1.685664e+05        28.923639           1.884349e+07   \nmin              3.636000e+03         1.000000           0.000000e+00   \n25%              2.768500e+04        44.000000           1.265929e+06   \n50%              4.508200e+04        71.000000           2.739122e+06   \n75%              9.290600e+04        89.000000           7.227405e+06   \nmax              1.765970e+06       100.000000           2.966717e+08   \n\n       SteamUse(kBtu)  Electricity(kBtu)  NaturalGas(kBtu)  TotalGHGEmissions  \ncount    1.539000e+03       1.539000e+03      1.539000e+03        1539.000000  \nmean     4.967574e+05       5.435044e+06      1.672264e+06         165.047498  \nstd      5.314667e+06       1.305847e+07      5.513280e+06         571.657895  \nmin      0.000000e+00      -1.154170e+05      0.000000e+00          -0.800000  \n25%      0.000000e+00       7.075250e+05      0.000000e+00          19.335000  \n50%      0.000000e+00       1.633105e+06      4.313920e+05          48.350000  \n75%      0.000000e+00       5.046944e+06      1.409886e+06         136.735000  \nmax      1.349435e+08       2.745325e+08      1.381912e+08       12307.160000  ",
      "text/html": "<div>\n<style scoped>\n    .dataframe tbody tr th:only-of-type {\n        vertical-align: middle;\n    }\n\n    .dataframe tbody tr th {\n        vertical-align: top;\n    }\n\n    .dataframe thead th {\n        text-align: right;\n    }\n</style>\n<table border=\"1\" class=\"dataframe\">\n  <thead>\n    <tr style=\"text-align: right;\">\n      <th></th>\n      <th>OSEBuildingID</th>\n      <th>DataYear</th>\n      <th>YearBuilt</th>\n      <th>NumberofBuildings</th>\n      <th>NumberofFloors</th>\n      <th>PropertyGFATotal</th>\n      <th>PropertyGFAParking</th>\n      <th>PropertyGFABuilding(s)</th>\n      <th>ENERGYSTARScore</th>\n      <th>SiteEnergyUseWN(kBtu)</th>\n      <th>SteamUse(kBtu)</th>\n      <th>Electricity(kBtu)</th>\n      <th>NaturalGas(kBtu)</th>\n      <th>TotalGHGEmissions</th>\n    </tr>\n  </thead>\n  <tbody>\n    <tr>\n      <th>count</th>\n      <td>1539.000000</td>\n      <td>1539.0</td>\n      <td>1539.000000</td>\n      <td>1539.000000</td>\n      <td>1539.000000</td>\n      <td>1.539000e+03</td>\n      <td>1539.000000</td>\n      <td>1.539000e+03</td>\n      <td>1003.000000</td>\n      <td>1.539000e+03</td>\n      <td>1.539000e+03</td>\n      <td>1.539000e+03</td>\n      <td>1.539000e+03</td>\n      <td>1539.000000</td>\n    </tr>\n    <tr>\n      <th>mean</th>\n      <td>16609.779727</td>\n      <td>2016.0</td>\n      <td>1961.307342</td>\n      <td>1.035737</td>\n      <td>4.283951</td>\n      <td>1.120106e+05</td>\n      <td>13829.220273</td>\n      <td>9.818137e+04</td>\n      <td>63.790628</td>\n      <td>7.761522e+06</td>\n      <td>4.967574e+05</td>\n      <td>5.435044e+06</td>\n      <td>1.672264e+06</td>\n      <td>165.047498</td>\n    </tr>\n    <tr>\n      <th>std</th>\n      <td>13858.481096</td>\n      <td>0.0</td>\n      <td>32.888052</td>\n      <td>0.569622</td>\n      <td>6.796834</td>\n      <td>1.918960e+05</td>\n      <td>43730.728115</td>\n      <td>1.685664e+05</td>\n      <td>28.923639</td>\n      <td>1.884349e+07</td>\n      <td>5.314667e+06</td>\n      <td>1.305847e+07</td>\n      <td>5.513280e+06</td>\n      <td>571.657895</td>\n    </tr>\n    <tr>\n      <th>min</th>\n      <td>1.000000</td>\n      <td>2016.0</td>\n      <td>1900.000000</td>\n      <td>0.000000</td>\n      <td>0.000000</td>\n      <td>1.128500e+04</td>\n      <td>0.000000</td>\n      <td>3.636000e+03</td>\n      <td>1.000000</td>\n      <td>0.000000e+00</td>\n      <td>0.000000e+00</td>\n      <td>-1.154170e+05</td>\n      <td>0.000000e+00</td>\n      <td>-0.800000</td>\n    </tr>\n    <tr>\n      <th>25%</th>\n      <td>609.500000</td>\n      <td>2016.0</td>\n      <td>1929.000000</td>\n      <td>1.000000</td>\n      <td>1.000000</td>\n      <td>2.872800e+04</td>\n      <td>0.000000</td>\n      <td>2.768500e+04</td>\n      <td>44.000000</td>\n      <td>1.265929e+06</td>\n      <td>0.000000e+00</td>\n      <td>7.075250e+05</td>\n      <td>0.000000e+00</td>\n      <td>19.335000</td>\n    </tr>\n    <tr>\n      <th>50%</th>\n      <td>21213.000000</td>\n      <td>2016.0</td>\n      <td>1965.000000</td>\n      <td>1.000000</td>\n      <td>2.000000</td>\n      <td>4.721500e+04</td>\n      <td>0.000000</td>\n      <td>4.508200e+04</td>\n      <td>71.000000</td>\n      <td>2.739122e+06</td>\n      <td>0.000000e+00</td>\n      <td>1.633105e+06</td>\n      <td>4.313920e+05</td>\n      <td>48.350000</td>\n    </tr>\n    <tr>\n      <th>75%</th>\n      <td>24629.500000</td>\n      <td>2016.0</td>\n      <td>1988.000000</td>\n      <td>1.000000</td>\n      <td>4.000000</td>\n      <td>1.028880e+05</td>\n      <td>0.000000</td>\n      <td>9.290600e+04</td>\n      <td>89.000000</td>\n      <td>7.227405e+06</td>\n      <td>0.000000e+00</td>\n      <td>5.046944e+06</td>\n      <td>1.409886e+06</td>\n      <td>136.735000</td>\n    </tr>\n    <tr>\n      <th>max</th>\n      <td>50226.000000</td>\n      <td>2016.0</td>\n      <td>2015.000000</td>\n      <td>9.000000</td>\n      <td>99.000000</td>\n      <td>1.952220e+06</td>\n      <td>512608.000000</td>\n      <td>1.765970e+06</td>\n      <td>100.000000</td>\n      <td>2.966717e+08</td>\n      <td>1.349435e+08</td>\n      <td>2.745325e+08</td>\n      <td>1.381912e+08</td>\n      <td>12307.160000</td>\n    </tr>\n  </tbody>\n</table>\n</div>"
     },
     "execution_count": 8,
     "metadata": {},
     "output_type": "execute_result"
    }
   ],
   "source": [
    "data.describe()"
   ],
   "metadata": {
    "collapsed": false
   }
  },
  {
   "cell_type": "code",
   "execution_count": 9,
   "outputs": [
    {
     "name": "stdout",
     "output_type": "stream",
     "text": [
      "lignes supprimés  1\n"
     ]
    }
   ],
   "source": [
    "data_length_before = data.shape[0]\n",
    "cols = data.select_dtypes(include=[np.number]).columns\n",
    "data = data[~(data[cols] < 0).any(axis=1)].copy()\n",
    "print(f'lignes supprimés  {data_length_before - data.shape[0]}')"
   ],
   "metadata": {
    "collapsed": false
   }
  },
  {
   "cell_type": "code",
   "execution_count": 10,
   "outputs": [
    {
     "name": "stdout",
     "output_type": "stream",
     "text": [
      "lignes supprimés  0\n"
     ]
    }
   ],
   "source": [
    "data_length_before = data.shape[0]\n",
    "difference = abs(data['PropertyGFATotal'] - (data['PropertyGFABuilding(s)'] + data['PropertyGFAParking']))\n",
    "data = data[difference == 0]\n",
    "print(f'lignes supprimés  {data_length_before - data.shape[0]}')"
   ],
   "metadata": {
    "collapsed": false
   }
  },
  {
   "cell_type": "code",
   "execution_count": 11,
   "outputs": [],
   "source": [
    "#création d'une colonne ancienneté à partir des variable DataYear et YearBuilt\n",
    "data['Ancienneté'] = data['DataYear'] - data['YearBuilt']\n",
    "data = data.drop('YearBuilt', axis=1)\n"
   ],
   "metadata": {
    "collapsed": false
   }
  },
  {
   "cell_type": "code",
   "execution_count": 12,
   "outputs": [],
   "source": [
    "numeric_cols = ['NumberofFloors','NumberofBuildings','PropertyGFATotal', 'PropertyGFAParking', 'PropertyGFABuilding(s)', 'ENERGYSTARScore', 'SiteEnergyUseWN(kBtu)', 'SteamUse(kBtu)', 'Electricity(kBtu)', 'NaturalGas(kBtu)', 'TotalGHGEmissions', 'Ancienneté']\n",
    "df_numeric = data[numeric_cols]\n",
    "scaler = StandardScaler()\n",
    "df_numeric_scaled = pd.DataFrame(scaler.fit_transform(df_numeric), columns=df_numeric.columns)\n",
    "data[numeric_cols] = df_numeric_scaled"
   ],
   "metadata": {
    "collapsed": false
   }
  },
  {
   "cell_type": "code",
   "execution_count": 13,
   "outputs": [],
   "source": [
    "#energy non nulle\n",
    "data_energy_star_filtered = data[data['ENERGYSTARScore'].notna()]\n",
    "data = data[data['ENERGYSTARScore'].notna()]"
   ],
   "metadata": {
    "collapsed": false
   }
  },
  {
   "cell_type": "code",
   "execution_count": 14,
   "outputs": [],
   "source": [
    "data = pd.concat([data, pd.get_dummies(data['Neighborhood'], prefix='Neighborhood')], axis=1)\n",
    "data = pd.concat([data, pd.get_dummies(data['LargestPropertyUseType'], prefix='LargestPropertyUseType')], axis=1)\n",
    "dummy_cols = data.filter(regex='^(LargestPropertyUseType_|Neighborhood_)')\n",
    "data = data.loc[:, (data != 0).any(axis=0) | (dummy_cols != 0).any(axis=0)]\n"
   ],
   "metadata": {
    "collapsed": false
   }
  },
  {
   "cell_type": "code",
   "execution_count": 15,
   "outputs": [],
   "source": [
    "data.to_csv('cleaned_data.csv', index=False)"
   ],
   "metadata": {
    "collapsed": false
   }
  },
  {
   "cell_type": "code",
   "execution_count": 16,
   "outputs": [
    {
     "data": {
      "text/plain": "621"
     },
     "execution_count": 16,
     "metadata": {},
     "output_type": "execute_result"
    }
   ],
   "source": [
    "data.shape[0]"
   ],
   "metadata": {
    "collapsed": false
   }
  },
  {
   "cell_type": "code",
   "execution_count": 17,
   "outputs": [
    {
     "data": {
      "text/plain": "      OSEBuildingID  DataYear    BuildingType  \\\n0                 1      2016  NonResidential   \n1                 2      2016  NonResidential   \n2                 3      2016  NonResidential   \n3                 5      2016  NonResidential   \n4                 8      2016  NonResidential   \n...             ...       ...             ...   \n1481          21945      2016  NonResidential   \n1509          22142      2016  NonResidential   \n1513          22165      2016  NonResidential   \n1514          22166      2016  NonResidential   \n1519          22230      2016  NonResidential   \n\n                             PropertyName      Neighborhood  \\\n0                    Mayflower park hotel          DOWNTOWN   \n1                         Paramount Hotel          DOWNTOWN   \n2                 5673-The Westin Seattle          DOWNTOWN   \n3                               HOTEL MAX          DOWNTOWN   \n4             WARWICK SEATTLE HOTEL (ID8)          DOWNTOWN   \n...                                   ...               ...   \n1481     First Hill Plaza Retail Building              EAST   \n1509            Safeway 0219 - Othello St  GREATER DUWAMISH   \n1513  (ID22165) MICHIGAN STREET BUILDINGS  GREATER DUWAMISH   \n1514             Georgetown Center Bldg A  GREATER DUWAMISH   \n1519             BALLARD MARKET (ID22230)           BALLARD   \n\n      NumberofBuildings  NumberofFloors  PropertyGFATotal  PropertyGFAParking  \\\n0              -0.06278        1.135429         -0.123069           -0.316452   \n1              -0.06278        0.988299         -0.044211            0.028031   \n2              -0.06278        5.402210          4.398669            4.182088   \n3              -0.06278        0.841169         -0.264368           -0.316452   \n4              -0.06278        2.018212          0.331077            1.101362   \n...                 ...             ...               ...                 ...   \n1481           -0.06278       -0.041614         -0.258839            0.208322   \n1509           -0.06278        1.429690          0.169703           -0.316452   \n1513           -0.06278        1.135429          1.935210            3.484386   \n1514           -0.06278        1.282560          2.212974            4.203606   \n1519           -0.06278       -0.188744         -0.349417           -0.316452   \n\n      PropertyGFABuilding(s)      LargestPropertyUseType  ENERGYSTARScore  \\\n0                  -0.058005                       Hotel        -0.129909   \n1                  -0.057601                       Hotel        -0.095308   \n2                   3.922471                       Hotel        -0.718124   \n3                  -0.218859                       Hotel        -0.268312   \n4                   0.091175                       Hotel         0.389105   \n...                      ...                         ...              ...   \n1481               -0.348704                     Parking        -0.060707   \n1509                0.275285   Supermarket/Grocery Store         0.873517   \n1513                1.299090  Non-Refrigerated Warehouse         1.184925   \n1514                1.428710                Retail Store         1.184925   \n1519               -0.315678   Supermarket/Grocery Store         0.458306   \n\n      SiteEnergyUseWN(kBtu)  SteamUse(kBtu)  Electricity(kBtu)  \\\n0                 -0.016426        0.283518          -0.114310   \n1                  0.047662       -0.093530          -0.168161   \n2                  3.511777        3.964413           3.376398   \n3                 -0.043498        0.323138          -0.204456   \n4                  0.365667       -0.093530          -0.005364   \n...                     ...             ...                ...   \n1481              -0.226573       -0.093530          -0.148681   \n1509              -0.117736       -0.093530          -0.012977   \n1513               0.352556       -0.093530           0.482042   \n1514               0.332798       -0.093530           0.343637   \n1519              -0.337995       -0.093530          -0.314962   \n\n      NaturalGas(kBtu)  TotalGHGEmissions  Ancienneté  Neighborhood_BALLARD  \\\n0            -0.071992           0.148388    1.042972                     0   \n1             0.629722           0.228648   -1.056743                     0   \n2            -0.032568           3.365960   -0.235115                     0   \n3             0.025006           0.212151    1.073402                     0   \n4             1.293397           0.594523   -0.569852                     0   \n...                ...                ...         ...                   ...   \n1481         -0.303522          -0.246265   -1.574064                     0   \n1509         -0.257112          -0.200887   -1.634925                     0   \n1513          0.107429           0.064664   -1.634925                     0   \n1514          0.297459           0.139956   -1.604494                     0   \n1519         -0.303522          -0.272750   -1.634925                     1   \n\n      Neighborhood_CENTRAL  Neighborhood_DELRIDGE  Neighborhood_DOWNTOWN  \\\n0                        0                      0                      1   \n1                        0                      0                      1   \n2                        0                      0                      1   \n3                        0                      0                      1   \n4                        0                      0                      1   \n...                    ...                    ...                    ...   \n1481                     0                      0                      0   \n1509                     0                      0                      0   \n1513                     0                      0                      0   \n1514                     0                      0                      0   \n1519                     0                      0                      0   \n\n      Neighborhood_Delridge  ...  LargestPropertyUseType_Other - Education  \\\n0                         0  ...                                         0   \n1                         0  ...                                         0   \n2                         0  ...                                         0   \n3                         0  ...                                         0   \n4                         0  ...                                         0   \n...                     ...  ...                                       ...   \n1481                      0  ...                                         0   \n1509                      0  ...                                         0   \n1513                      0  ...                                         0   \n1514                      0  ...                                         0   \n1519                      0  ...                                         0   \n\n      LargestPropertyUseType_Other - Entertainment/Public Assembly  \\\n0                                                     0              \n1                                                     0              \n2                                                     0              \n3                                                     0              \n4                                                     0              \n...                                                 ...              \n1481                                                  0              \n1509                                                  0              \n1513                                                  0              \n1514                                                  0              \n1519                                                  0              \n\n      LargestPropertyUseType_Other - Lodging/Residential  \\\n0                                                     0    \n1                                                     0    \n2                                                     0    \n3                                                     0    \n4                                                     0    \n...                                                 ...    \n1481                                                  0    \n1509                                                  0    \n1513                                                  0    \n1514                                                  0    \n1519                                                  0    \n\n      LargestPropertyUseType_Other - Mall  \\\n0                                       0   \n1                                       0   \n2                                       0   \n3                                       0   \n4                                       0   \n...                                   ...   \n1481                                    0   \n1509                                    0   \n1513                                    0   \n1514                                    0   \n1519                                    0   \n\n      LargestPropertyUseType_Other - Public Services  \\\n0                                                  0   \n1                                                  0   \n2                                                  0   \n3                                                  0   \n4                                                  0   \n...                                              ...   \n1481                                               0   \n1509                                               0   \n1513                                               0   \n1514                                               0   \n1519                                               0   \n\n      LargestPropertyUseType_Other - Recreation  \\\n0                                             0   \n1                                             0   \n2                                             0   \n3                                             0   \n4                                             0   \n...                                         ...   \n1481                                          0   \n1509                                          0   \n1513                                          0   \n1514                                          0   \n1519                                          0   \n\n      LargestPropertyUseType_Other - Restaurant/Bar  \\\n0                                                 0   \n1                                                 0   \n2                                                 0   \n3                                                 0   \n4                                                 0   \n...                                             ...   \n1481                                              0   \n1509                                              0   \n1513                                              0   \n1514                                              0   \n1519                                              0   \n\n      LargestPropertyUseType_Other - Services  LargestPropertyUseType_Parking  \\\n0                                           0                               0   \n1                                           0                               0   \n2                                           0                               0   \n3                                           0                               0   \n4                                           0                               0   \n...                                       ...                             ...   \n1481                                        0                               1   \n1509                                        0                               0   \n1513                                        0                               0   \n1514                                        0                               0   \n1519                                        0                               0   \n\n      LargestPropertyUseType_Refrigerated Warehouse  \\\n0                                                 0   \n1                                                 0   \n2                                                 0   \n3                                                 0   \n4                                                 0   \n...                                             ...   \n1481                                              0   \n1509                                              0   \n1513                                              0   \n1514                                              0   \n1519                                              0   \n\n      LargestPropertyUseType_Repair Services (Vehicle, Shoe, Locksmith, etc)  \\\n0                                                     0                        \n1                                                     0                        \n2                                                     0                        \n3                                                     0                        \n4                                                     0                        \n...                                                 ...                        \n1481                                                  0                        \n1509                                                  0                        \n1513                                                  0                        \n1514                                                  0                        \n1519                                                  0                        \n\n      LargestPropertyUseType_Residence Hall/Dormitory  \\\n0                                                   0   \n1                                                   0   \n2                                                   0   \n3                                                   0   \n4                                                   0   \n...                                               ...   \n1481                                                0   \n1509                                                0   \n1513                                                0   \n1514                                                0   \n1519                                                0   \n\n      LargestPropertyUseType_Residential Care Facility  \\\n0                                                    0   \n1                                                    0   \n2                                                    0   \n3                                                    0   \n4                                                    0   \n...                                                ...   \n1481                                                 0   \n1509                                                 0   \n1513                                                 0   \n1514                                                 0   \n1519                                                 0   \n\n      LargestPropertyUseType_Restaurant  LargestPropertyUseType_Retail Store  \\\n0                                     0                                    0   \n1                                     0                                    0   \n2                                     0                                    0   \n3                                     0                                    0   \n4                                     0                                    0   \n...                                 ...                                  ...   \n1481                                  0                                    0   \n1509                                  0                                    0   \n1513                                  0                                    0   \n1514                                  0                                    1   \n1519                                  0                                    0   \n\n      LargestPropertyUseType_Self-Storage Facility  \\\n0                                                0   \n1                                                0   \n2                                                0   \n3                                                0   \n4                                                0   \n...                                            ...   \n1481                                             0   \n1509                                             0   \n1513                                             0   \n1514                                             0   \n1519                                             0   \n\n      LargestPropertyUseType_Senior Care Community  \\\n0                                                0   \n1                                                0   \n2                                                0   \n3                                                0   \n4                                                0   \n...                                            ...   \n1481                                             0   \n1509                                             0   \n1513                                             0   \n1514                                             0   \n1519                                             0   \n\n      LargestPropertyUseType_Social/Meeting Hall  \\\n0                                              0   \n1                                              0   \n2                                              0   \n3                                              0   \n4                                              0   \n...                                          ...   \n1481                                           0   \n1509                                           0   \n1513                                           0   \n1514                                           0   \n1519                                           0   \n\n      LargestPropertyUseType_Strip Mall  \\\n0                                     0   \n1                                     0   \n2                                     0   \n3                                     0   \n4                                     0   \n...                                 ...   \n1481                                  0   \n1509                                  0   \n1513                                  0   \n1514                                  0   \n1519                                  0   \n\n      LargestPropertyUseType_Supermarket/Grocery Store  \\\n0                                                    0   \n1                                                    0   \n2                                                    0   \n3                                                    0   \n4                                                    0   \n...                                                ...   \n1481                                                 0   \n1509                                                 1   \n1513                                                 0   \n1514                                                 0   \n1519                                                 1   \n\n      LargestPropertyUseType_Urgent Care/Clinic/Other Outpatient  \\\n0                                                     0            \n1                                                     0            \n2                                                     0            \n3                                                     0            \n4                                                     0            \n...                                                 ...            \n1481                                                  0            \n1509                                                  0            \n1513                                                  0            \n1514                                                  0            \n1519                                                  0            \n\n      LargestPropertyUseType_Wholesale Club/Supercenter  \\\n0                                                     0   \n1                                                     0   \n2                                                     0   \n3                                                     0   \n4                                                     0   \n...                                                 ...   \n1481                                                  0   \n1509                                                  0   \n1513                                                  0   \n1514                                                  0   \n1519                                                  0   \n\n      LargestPropertyUseType_Worship Facility  \n0                                           0  \n1                                           0  \n2                                           0  \n3                                           0  \n4                                           0  \n...                                       ...  \n1481                                        0  \n1509                                        0  \n1513                                        0  \n1514                                        0  \n1519                                        0  \n\n[621 rows x 77 columns]",
      "text/html": "<div>\n<style scoped>\n    .dataframe tbody tr th:only-of-type {\n        vertical-align: middle;\n    }\n\n    .dataframe tbody tr th {\n        vertical-align: top;\n    }\n\n    .dataframe thead th {\n        text-align: right;\n    }\n</style>\n<table border=\"1\" class=\"dataframe\">\n  <thead>\n    <tr style=\"text-align: right;\">\n      <th></th>\n      <th>OSEBuildingID</th>\n      <th>DataYear</th>\n      <th>BuildingType</th>\n      <th>PropertyName</th>\n      <th>Neighborhood</th>\n      <th>NumberofBuildings</th>\n      <th>NumberofFloors</th>\n      <th>PropertyGFATotal</th>\n      <th>PropertyGFAParking</th>\n      <th>PropertyGFABuilding(s)</th>\n      <th>LargestPropertyUseType</th>\n      <th>ENERGYSTARScore</th>\n      <th>SiteEnergyUseWN(kBtu)</th>\n      <th>SteamUse(kBtu)</th>\n      <th>Electricity(kBtu)</th>\n      <th>NaturalGas(kBtu)</th>\n      <th>TotalGHGEmissions</th>\n      <th>Ancienneté</th>\n      <th>Neighborhood_BALLARD</th>\n      <th>Neighborhood_CENTRAL</th>\n      <th>Neighborhood_DELRIDGE</th>\n      <th>Neighborhood_DOWNTOWN</th>\n      <th>Neighborhood_Delridge</th>\n      <th>...</th>\n      <th>LargestPropertyUseType_Other - Education</th>\n      <th>LargestPropertyUseType_Other - Entertainment/Public Assembly</th>\n      <th>LargestPropertyUseType_Other - Lodging/Residential</th>\n      <th>LargestPropertyUseType_Other - Mall</th>\n      <th>LargestPropertyUseType_Other - Public Services</th>\n      <th>LargestPropertyUseType_Other - Recreation</th>\n      <th>LargestPropertyUseType_Other - Restaurant/Bar</th>\n      <th>LargestPropertyUseType_Other - Services</th>\n      <th>LargestPropertyUseType_Parking</th>\n      <th>LargestPropertyUseType_Refrigerated Warehouse</th>\n      <th>LargestPropertyUseType_Repair Services (Vehicle, Shoe, Locksmith, etc)</th>\n      <th>LargestPropertyUseType_Residence Hall/Dormitory</th>\n      <th>LargestPropertyUseType_Residential Care Facility</th>\n      <th>LargestPropertyUseType_Restaurant</th>\n      <th>LargestPropertyUseType_Retail Store</th>\n      <th>LargestPropertyUseType_Self-Storage Facility</th>\n      <th>LargestPropertyUseType_Senior Care Community</th>\n      <th>LargestPropertyUseType_Social/Meeting Hall</th>\n      <th>LargestPropertyUseType_Strip Mall</th>\n      <th>LargestPropertyUseType_Supermarket/Grocery Store</th>\n      <th>LargestPropertyUseType_Urgent Care/Clinic/Other Outpatient</th>\n      <th>LargestPropertyUseType_Wholesale Club/Supercenter</th>\n      <th>LargestPropertyUseType_Worship Facility</th>\n    </tr>\n  </thead>\n  <tbody>\n    <tr>\n      <th>0</th>\n      <td>1</td>\n      <td>2016</td>\n      <td>NonResidential</td>\n      <td>Mayflower park hotel</td>\n      <td>DOWNTOWN</td>\n      <td>-0.06278</td>\n      <td>1.135429</td>\n      <td>-0.123069</td>\n      <td>-0.316452</td>\n      <td>-0.058005</td>\n      <td>Hotel</td>\n      <td>-0.129909</td>\n      <td>-0.016426</td>\n      <td>0.283518</td>\n      <td>-0.114310</td>\n      <td>-0.071992</td>\n      <td>0.148388</td>\n      <td>1.042972</td>\n      <td>0</td>\n      <td>0</td>\n      <td>0</td>\n      <td>1</td>\n      <td>0</td>\n      <td>...</td>\n      <td>0</td>\n      <td>0</td>\n      <td>0</td>\n      <td>0</td>\n      <td>0</td>\n      <td>0</td>\n      <td>0</td>\n      <td>0</td>\n      <td>0</td>\n      <td>0</td>\n      <td>0</td>\n      <td>0</td>\n      <td>0</td>\n      <td>0</td>\n      <td>0</td>\n      <td>0</td>\n      <td>0</td>\n      <td>0</td>\n      <td>0</td>\n      <td>0</td>\n      <td>0</td>\n      <td>0</td>\n      <td>0</td>\n    </tr>\n    <tr>\n      <th>1</th>\n      <td>2</td>\n      <td>2016</td>\n      <td>NonResidential</td>\n      <td>Paramount Hotel</td>\n      <td>DOWNTOWN</td>\n      <td>-0.06278</td>\n      <td>0.988299</td>\n      <td>-0.044211</td>\n      <td>0.028031</td>\n      <td>-0.057601</td>\n      <td>Hotel</td>\n      <td>-0.095308</td>\n      <td>0.047662</td>\n      <td>-0.093530</td>\n      <td>-0.168161</td>\n      <td>0.629722</td>\n      <td>0.228648</td>\n      <td>-1.056743</td>\n      <td>0</td>\n      <td>0</td>\n      <td>0</td>\n      <td>1</td>\n      <td>0</td>\n      <td>...</td>\n      <td>0</td>\n      <td>0</td>\n      <td>0</td>\n      <td>0</td>\n      <td>0</td>\n      <td>0</td>\n      <td>0</td>\n      <td>0</td>\n      <td>0</td>\n      <td>0</td>\n      <td>0</td>\n      <td>0</td>\n      <td>0</td>\n      <td>0</td>\n      <td>0</td>\n      <td>0</td>\n      <td>0</td>\n      <td>0</td>\n      <td>0</td>\n      <td>0</td>\n      <td>0</td>\n      <td>0</td>\n      <td>0</td>\n    </tr>\n    <tr>\n      <th>2</th>\n      <td>3</td>\n      <td>2016</td>\n      <td>NonResidential</td>\n      <td>5673-The Westin Seattle</td>\n      <td>DOWNTOWN</td>\n      <td>-0.06278</td>\n      <td>5.402210</td>\n      <td>4.398669</td>\n      <td>4.182088</td>\n      <td>3.922471</td>\n      <td>Hotel</td>\n      <td>-0.718124</td>\n      <td>3.511777</td>\n      <td>3.964413</td>\n      <td>3.376398</td>\n      <td>-0.032568</td>\n      <td>3.365960</td>\n      <td>-0.235115</td>\n      <td>0</td>\n      <td>0</td>\n      <td>0</td>\n      <td>1</td>\n      <td>0</td>\n      <td>...</td>\n      <td>0</td>\n      <td>0</td>\n      <td>0</td>\n      <td>0</td>\n      <td>0</td>\n      <td>0</td>\n      <td>0</td>\n      <td>0</td>\n      <td>0</td>\n      <td>0</td>\n      <td>0</td>\n      <td>0</td>\n      <td>0</td>\n      <td>0</td>\n      <td>0</td>\n      <td>0</td>\n      <td>0</td>\n      <td>0</td>\n      <td>0</td>\n      <td>0</td>\n      <td>0</td>\n      <td>0</td>\n      <td>0</td>\n    </tr>\n    <tr>\n      <th>3</th>\n      <td>5</td>\n      <td>2016</td>\n      <td>NonResidential</td>\n      <td>HOTEL MAX</td>\n      <td>DOWNTOWN</td>\n      <td>-0.06278</td>\n      <td>0.841169</td>\n      <td>-0.264368</td>\n      <td>-0.316452</td>\n      <td>-0.218859</td>\n      <td>Hotel</td>\n      <td>-0.268312</td>\n      <td>-0.043498</td>\n      <td>0.323138</td>\n      <td>-0.204456</td>\n      <td>0.025006</td>\n      <td>0.212151</td>\n      <td>1.073402</td>\n      <td>0</td>\n      <td>0</td>\n      <td>0</td>\n      <td>1</td>\n      <td>0</td>\n      <td>...</td>\n      <td>0</td>\n      <td>0</td>\n      <td>0</td>\n      <td>0</td>\n      <td>0</td>\n      <td>0</td>\n      <td>0</td>\n      <td>0</td>\n      <td>0</td>\n      <td>0</td>\n      <td>0</td>\n      <td>0</td>\n      <td>0</td>\n      <td>0</td>\n      <td>0</td>\n      <td>0</td>\n      <td>0</td>\n      <td>0</td>\n      <td>0</td>\n      <td>0</td>\n      <td>0</td>\n      <td>0</td>\n      <td>0</td>\n    </tr>\n    <tr>\n      <th>4</th>\n      <td>8</td>\n      <td>2016</td>\n      <td>NonResidential</td>\n      <td>WARWICK SEATTLE HOTEL (ID8)</td>\n      <td>DOWNTOWN</td>\n      <td>-0.06278</td>\n      <td>2.018212</td>\n      <td>0.331077</td>\n      <td>1.101362</td>\n      <td>0.091175</td>\n      <td>Hotel</td>\n      <td>0.389105</td>\n      <td>0.365667</td>\n      <td>-0.093530</td>\n      <td>-0.005364</td>\n      <td>1.293397</td>\n      <td>0.594523</td>\n      <td>-0.569852</td>\n      <td>0</td>\n      <td>0</td>\n      <td>0</td>\n      <td>1</td>\n      <td>0</td>\n      <td>...</td>\n      <td>0</td>\n      <td>0</td>\n      <td>0</td>\n      <td>0</td>\n      <td>0</td>\n      <td>0</td>\n      <td>0</td>\n      <td>0</td>\n      <td>0</td>\n      <td>0</td>\n      <td>0</td>\n      <td>0</td>\n      <td>0</td>\n      <td>0</td>\n      <td>0</td>\n      <td>0</td>\n      <td>0</td>\n      <td>0</td>\n      <td>0</td>\n      <td>0</td>\n      <td>0</td>\n      <td>0</td>\n      <td>0</td>\n    </tr>\n    <tr>\n      <th>...</th>\n      <td>...</td>\n      <td>...</td>\n      <td>...</td>\n      <td>...</td>\n      <td>...</td>\n      <td>...</td>\n      <td>...</td>\n      <td>...</td>\n      <td>...</td>\n      <td>...</td>\n      <td>...</td>\n      <td>...</td>\n      <td>...</td>\n      <td>...</td>\n      <td>...</td>\n      <td>...</td>\n      <td>...</td>\n      <td>...</td>\n      <td>...</td>\n      <td>...</td>\n      <td>...</td>\n      <td>...</td>\n      <td>...</td>\n      <td>...</td>\n      <td>...</td>\n      <td>...</td>\n      <td>...</td>\n      <td>...</td>\n      <td>...</td>\n      <td>...</td>\n      <td>...</td>\n      <td>...</td>\n      <td>...</td>\n      <td>...</td>\n      <td>...</td>\n      <td>...</td>\n      <td>...</td>\n      <td>...</td>\n      <td>...</td>\n      <td>...</td>\n      <td>...</td>\n      <td>...</td>\n      <td>...</td>\n      <td>...</td>\n      <td>...</td>\n      <td>...</td>\n      <td>...</td>\n    </tr>\n    <tr>\n      <th>1481</th>\n      <td>21945</td>\n      <td>2016</td>\n      <td>NonResidential</td>\n      <td>First Hill Plaza Retail Building</td>\n      <td>EAST</td>\n      <td>-0.06278</td>\n      <td>-0.041614</td>\n      <td>-0.258839</td>\n      <td>0.208322</td>\n      <td>-0.348704</td>\n      <td>Parking</td>\n      <td>-0.060707</td>\n      <td>-0.226573</td>\n      <td>-0.093530</td>\n      <td>-0.148681</td>\n      <td>-0.303522</td>\n      <td>-0.246265</td>\n      <td>-1.574064</td>\n      <td>0</td>\n      <td>0</td>\n      <td>0</td>\n      <td>0</td>\n      <td>0</td>\n      <td>...</td>\n      <td>0</td>\n      <td>0</td>\n      <td>0</td>\n      <td>0</td>\n      <td>0</td>\n      <td>0</td>\n      <td>0</td>\n      <td>0</td>\n      <td>1</td>\n      <td>0</td>\n      <td>0</td>\n      <td>0</td>\n      <td>0</td>\n      <td>0</td>\n      <td>0</td>\n      <td>0</td>\n      <td>0</td>\n      <td>0</td>\n      <td>0</td>\n      <td>0</td>\n      <td>0</td>\n      <td>0</td>\n      <td>0</td>\n    </tr>\n    <tr>\n      <th>1509</th>\n      <td>22142</td>\n      <td>2016</td>\n      <td>NonResidential</td>\n      <td>Safeway 0219 - Othello St</td>\n      <td>GREATER DUWAMISH</td>\n      <td>-0.06278</td>\n      <td>1.429690</td>\n      <td>0.169703</td>\n      <td>-0.316452</td>\n      <td>0.275285</td>\n      <td>Supermarket/Grocery Store</td>\n      <td>0.873517</td>\n      <td>-0.117736</td>\n      <td>-0.093530</td>\n      <td>-0.012977</td>\n      <td>-0.257112</td>\n      <td>-0.200887</td>\n      <td>-1.634925</td>\n      <td>0</td>\n      <td>0</td>\n      <td>0</td>\n      <td>0</td>\n      <td>0</td>\n      <td>...</td>\n      <td>0</td>\n      <td>0</td>\n      <td>0</td>\n      <td>0</td>\n      <td>0</td>\n      <td>0</td>\n      <td>0</td>\n      <td>0</td>\n      <td>0</td>\n      <td>0</td>\n      <td>0</td>\n      <td>0</td>\n      <td>0</td>\n      <td>0</td>\n      <td>0</td>\n      <td>0</td>\n      <td>0</td>\n      <td>0</td>\n      <td>0</td>\n      <td>1</td>\n      <td>0</td>\n      <td>0</td>\n      <td>0</td>\n    </tr>\n    <tr>\n      <th>1513</th>\n      <td>22165</td>\n      <td>2016</td>\n      <td>NonResidential</td>\n      <td>(ID22165) MICHIGAN STREET BUILDINGS</td>\n      <td>GREATER DUWAMISH</td>\n      <td>-0.06278</td>\n      <td>1.135429</td>\n      <td>1.935210</td>\n      <td>3.484386</td>\n      <td>1.299090</td>\n      <td>Non-Refrigerated Warehouse</td>\n      <td>1.184925</td>\n      <td>0.352556</td>\n      <td>-0.093530</td>\n      <td>0.482042</td>\n      <td>0.107429</td>\n      <td>0.064664</td>\n      <td>-1.634925</td>\n      <td>0</td>\n      <td>0</td>\n      <td>0</td>\n      <td>0</td>\n      <td>0</td>\n      <td>...</td>\n      <td>0</td>\n      <td>0</td>\n      <td>0</td>\n      <td>0</td>\n      <td>0</td>\n      <td>0</td>\n      <td>0</td>\n      <td>0</td>\n      <td>0</td>\n      <td>0</td>\n      <td>0</td>\n      <td>0</td>\n      <td>0</td>\n      <td>0</td>\n      <td>0</td>\n      <td>0</td>\n      <td>0</td>\n      <td>0</td>\n      <td>0</td>\n      <td>0</td>\n      <td>0</td>\n      <td>0</td>\n      <td>0</td>\n    </tr>\n    <tr>\n      <th>1514</th>\n      <td>22166</td>\n      <td>2016</td>\n      <td>NonResidential</td>\n      <td>Georgetown Center Bldg A</td>\n      <td>GREATER DUWAMISH</td>\n      <td>-0.06278</td>\n      <td>1.282560</td>\n      <td>2.212974</td>\n      <td>4.203606</td>\n      <td>1.428710</td>\n      <td>Retail Store</td>\n      <td>1.184925</td>\n      <td>0.332798</td>\n      <td>-0.093530</td>\n      <td>0.343637</td>\n      <td>0.297459</td>\n      <td>0.139956</td>\n      <td>-1.604494</td>\n      <td>0</td>\n      <td>0</td>\n      <td>0</td>\n      <td>0</td>\n      <td>0</td>\n      <td>...</td>\n      <td>0</td>\n      <td>0</td>\n      <td>0</td>\n      <td>0</td>\n      <td>0</td>\n      <td>0</td>\n      <td>0</td>\n      <td>0</td>\n      <td>0</td>\n      <td>0</td>\n      <td>0</td>\n      <td>0</td>\n      <td>0</td>\n      <td>0</td>\n      <td>1</td>\n      <td>0</td>\n      <td>0</td>\n      <td>0</td>\n      <td>0</td>\n      <td>0</td>\n      <td>0</td>\n      <td>0</td>\n      <td>0</td>\n    </tr>\n    <tr>\n      <th>1519</th>\n      <td>22230</td>\n      <td>2016</td>\n      <td>NonResidential</td>\n      <td>BALLARD MARKET (ID22230)</td>\n      <td>BALLARD</td>\n      <td>-0.06278</td>\n      <td>-0.188744</td>\n      <td>-0.349417</td>\n      <td>-0.316452</td>\n      <td>-0.315678</td>\n      <td>Supermarket/Grocery Store</td>\n      <td>0.458306</td>\n      <td>-0.337995</td>\n      <td>-0.093530</td>\n      <td>-0.314962</td>\n      <td>-0.303522</td>\n      <td>-0.272750</td>\n      <td>-1.634925</td>\n      <td>1</td>\n      <td>0</td>\n      <td>0</td>\n      <td>0</td>\n      <td>0</td>\n      <td>...</td>\n      <td>0</td>\n      <td>0</td>\n      <td>0</td>\n      <td>0</td>\n      <td>0</td>\n      <td>0</td>\n      <td>0</td>\n      <td>0</td>\n      <td>0</td>\n      <td>0</td>\n      <td>0</td>\n      <td>0</td>\n      <td>0</td>\n      <td>0</td>\n      <td>0</td>\n      <td>0</td>\n      <td>0</td>\n      <td>0</td>\n      <td>0</td>\n      <td>1</td>\n      <td>0</td>\n      <td>0</td>\n      <td>0</td>\n    </tr>\n  </tbody>\n</table>\n<p>621 rows × 77 columns</p>\n</div>"
     },
     "execution_count": 17,
     "metadata": {},
     "output_type": "execute_result"
    }
   ],
   "source": [
    "data"
   ],
   "metadata": {
    "collapsed": false
   }
  }
 ],
 "metadata": {
  "kernelspec": {
   "display_name": "Python 3",
   "language": "python",
   "name": "python3"
  },
  "language_info": {
   "codemirror_mode": {
    "name": "ipython",
    "version": 2
   },
   "file_extension": ".py",
   "mimetype": "text/x-python",
   "name": "python",
   "nbconvert_exporter": "python",
   "pygments_lexer": "ipython2",
   "version": "2.7.6"
  }
 },
 "nbformat": 4,
 "nbformat_minor": 0
}
