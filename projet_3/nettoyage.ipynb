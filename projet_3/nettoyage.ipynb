{
 "cells": [
  {
   "cell_type": "code",
   "execution_count": 49,
   "metadata": {
    "collapsed": true
   },
   "outputs": [],
   "source": [
    "#import des fichiers et load des ressources\n",
    "import pandas as pd\n",
    "import numpy as np\n",
    "from sklearn.preprocessing import StandardScaler\n",
    "\n",
    "data = pd.read_csv('2016_Building_Energy_Benchmarking.csv')\n",
    "pd.options.display.max_columns = data.shape[1]"
   ]
  },
  {
   "cell_type": "code",
   "execution_count": 50,
   "outputs": [
    {
     "data": {
      "text/plain": "      OSEBuildingID  DataYear    BuildingType          PrimaryPropertyType  \\\n1234          21322      2016  NonResidential  Small- and Mid-Sized Office   \n\n          PropertyName          Address     City State  ZipCode  \\\n1234  Fourth and Union  1404 Fourth Ave  Seattle    WA  98101.0   \n\n     TaxParcelIdentificationNumber  CouncilDistrictCode Neighborhood  \\\n1234                    1975700290                    7     DOWNTOWN   \n\n      Latitude  Longitude  YearBuilt  NumberofBuildings  NumberofFloors  \\\n1234  47.60952 -122.33558       1928                1.0               4   \n\n      PropertyGFATotal  PropertyGFAParking  PropertyGFABuilding(s)  \\\n1234             30525                   0                   30525   \n\n     ListOfAllPropertyUseTypes LargestPropertyUseType  \\\n1234      Office, Retail Store                 Office   \n\n      LargestPropertyUseTypeGFA SecondLargestPropertyUseType  \\\n1234                    15609.0                 Retail Store   \n\n      SecondLargestPropertyUseTypeGFA ThirdLargestPropertyUseType  \\\n1234                           6104.0                         NaN   \n\n      ThirdLargestPropertyUseTypeGFA YearsENERGYSTARCertified  \\\n1234                             NaN                      NaN   \n\n      ENERGYSTARScore  SiteEUI(kBtu/sf)  SiteEUIWN(kBtu/sf)  \\\n1234             17.0        132.800003          137.800003   \n\n      SourceEUI(kBtu/sf)  SourceEUIWN(kBtu/sf)  SiteEnergyUse(kBtu)  \\\n1234               349.0                 355.0            2883139.0   \n\n      SiteEnergyUseWN(kBtu)  SteamUse(kBtu)  Electricity(kWh)  \\\n1234             2991557.25     762032.8125        621660.625   \n\n      Electricity(kBtu)  NaturalGas(therms)  NaturalGas(kBtu)  DefaultData  \\\n1234          2121106.0                 0.0               0.0        False   \n\n      Comments ComplianceStatus Outlier  TotalGHGEmissions  \\\n1234       NaN        Compliant     NaN              73.61   \n\n      GHGEmissionsIntensity  \n1234                   2.41  ",
      "text/html": "<div>\n<style scoped>\n    .dataframe tbody tr th:only-of-type {\n        vertical-align: middle;\n    }\n\n    .dataframe tbody tr th {\n        vertical-align: top;\n    }\n\n    .dataframe thead th {\n        text-align: right;\n    }\n</style>\n<table border=\"1\" class=\"dataframe\">\n  <thead>\n    <tr style=\"text-align: right;\">\n      <th></th>\n      <th>OSEBuildingID</th>\n      <th>DataYear</th>\n      <th>BuildingType</th>\n      <th>PrimaryPropertyType</th>\n      <th>PropertyName</th>\n      <th>Address</th>\n      <th>City</th>\n      <th>State</th>\n      <th>ZipCode</th>\n      <th>TaxParcelIdentificationNumber</th>\n      <th>CouncilDistrictCode</th>\n      <th>Neighborhood</th>\n      <th>Latitude</th>\n      <th>Longitude</th>\n      <th>YearBuilt</th>\n      <th>NumberofBuildings</th>\n      <th>NumberofFloors</th>\n      <th>PropertyGFATotal</th>\n      <th>PropertyGFAParking</th>\n      <th>PropertyGFABuilding(s)</th>\n      <th>ListOfAllPropertyUseTypes</th>\n      <th>LargestPropertyUseType</th>\n      <th>LargestPropertyUseTypeGFA</th>\n      <th>SecondLargestPropertyUseType</th>\n      <th>SecondLargestPropertyUseTypeGFA</th>\n      <th>ThirdLargestPropertyUseType</th>\n      <th>ThirdLargestPropertyUseTypeGFA</th>\n      <th>YearsENERGYSTARCertified</th>\n      <th>ENERGYSTARScore</th>\n      <th>SiteEUI(kBtu/sf)</th>\n      <th>SiteEUIWN(kBtu/sf)</th>\n      <th>SourceEUI(kBtu/sf)</th>\n      <th>SourceEUIWN(kBtu/sf)</th>\n      <th>SiteEnergyUse(kBtu)</th>\n      <th>SiteEnergyUseWN(kBtu)</th>\n      <th>SteamUse(kBtu)</th>\n      <th>Electricity(kWh)</th>\n      <th>Electricity(kBtu)</th>\n      <th>NaturalGas(therms)</th>\n      <th>NaturalGas(kBtu)</th>\n      <th>DefaultData</th>\n      <th>Comments</th>\n      <th>ComplianceStatus</th>\n      <th>Outlier</th>\n      <th>TotalGHGEmissions</th>\n      <th>GHGEmissionsIntensity</th>\n    </tr>\n  </thead>\n  <tbody>\n    <tr>\n      <th>1234</th>\n      <td>21322</td>\n      <td>2016</td>\n      <td>NonResidential</td>\n      <td>Small- and Mid-Sized Office</td>\n      <td>Fourth and Union</td>\n      <td>1404 Fourth Ave</td>\n      <td>Seattle</td>\n      <td>WA</td>\n      <td>98101.0</td>\n      <td>1975700290</td>\n      <td>7</td>\n      <td>DOWNTOWN</td>\n      <td>47.60952</td>\n      <td>-122.33558</td>\n      <td>1928</td>\n      <td>1.0</td>\n      <td>4</td>\n      <td>30525</td>\n      <td>0</td>\n      <td>30525</td>\n      <td>Office, Retail Store</td>\n      <td>Office</td>\n      <td>15609.0</td>\n      <td>Retail Store</td>\n      <td>6104.0</td>\n      <td>NaN</td>\n      <td>NaN</td>\n      <td>NaN</td>\n      <td>17.0</td>\n      <td>132.800003</td>\n      <td>137.800003</td>\n      <td>349.0</td>\n      <td>355.0</td>\n      <td>2883139.0</td>\n      <td>2991557.25</td>\n      <td>762032.8125</td>\n      <td>621660.625</td>\n      <td>2121106.0</td>\n      <td>0.0</td>\n      <td>0.0</td>\n      <td>False</td>\n      <td>NaN</td>\n      <td>Compliant</td>\n      <td>NaN</td>\n      <td>73.61</td>\n      <td>2.41</td>\n    </tr>\n  </tbody>\n</table>\n</div>"
     },
     "execution_count": 50,
     "metadata": {},
     "output_type": "execute_result"
    }
   ],
   "source": [
    "data.sample(1)"
   ],
   "metadata": {
    "collapsed": false
   }
  },
  {
   "cell_type": "code",
   "execution_count": 51,
   "outputs": [],
   "source": [
    "#variables cohérentes\n",
    "cols = ['OSEBuildingID', 'DataYear', 'BuildingType',\n",
    "       'PropertyName','Neighborhood','YearBuilt','NumberofBuildings','NumberofFloors',\n",
    "        'PropertyGFATotal','PropertyGFAParking','PropertyGFABuilding(s)',\n",
    "       'LargestPropertyUseType', 'ENERGYSTARScore',\n",
    "       'SiteEnergyUseWN(kBtu)', 'SteamUse(kBtu)',\n",
    "        'Electricity(kBtu)','NaturalGas(kBtu)','TotalGHGEmissions']\n",
    "data = data[cols]"
   ],
   "metadata": {
    "collapsed": false
   }
  },
  {
   "cell_type": "code",
   "execution_count": 52,
   "outputs": [
    {
     "data": {
      "text/plain": "NonResidential          1460\nMultifamily LR (1-4)    1018\nMultifamily MR (5-9)     580\nMultifamily HR (10+)     110\nSPS-District K-12         98\nNonresidential COS        85\nCampus                    24\nNonresidential WA          1\nName: BuildingType, dtype: int64"
     },
     "execution_count": 52,
     "metadata": {},
     "output_type": "execute_result"
    }
   ],
   "source": [
    "data['BuildingType'].value_counts()"
   ],
   "metadata": {
    "collapsed": false
   }
  },
  {
   "cell_type": "code",
   "execution_count": 53,
   "outputs": [
    {
     "name": "stdout",
     "output_type": "stream",
     "text": [
      "lignes supprimés  1830\n"
     ]
    }
   ],
   "source": [
    "data_length_before = data.shape[0]\n",
    "data['BuildingType'].replace({'Nonresidential COS': 'NonResidential',\n",
    "                              'Nonresidential WA': 'NonResidential'}, inplace=True)\n",
    "data = data.loc[data['BuildingType'] == 'NonResidential']\n",
    "\n",
    "print(f'lignes supprimés  {data_length_before - data.shape[0]}')"
   ],
   "metadata": {
    "collapsed": false
   }
  },
  {
   "cell_type": "code",
   "execution_count": 54,
   "outputs": [
    {
     "data": {
      "text/plain": "OSEBuildingID               0\nDataYear                    0\nBuildingType                0\nPropertyName                0\nNeighborhood                0\nYearBuilt                   0\nNumberofBuildings           2\nNumberofFloors              0\nPropertyGFATotal            0\nPropertyGFAParking          0\nPropertyGFABuilding(s)      0\nLargestPropertyUseType      6\nENERGYSTARScore           540\nSiteEnergyUseWN(kBtu)       3\nSteamUse(kBtu)              2\nElectricity(kBtu)           2\nNaturalGas(kBtu)            2\nTotalGHGEmissions           2\ndtype: int64"
     },
     "execution_count": 54,
     "metadata": {},
     "output_type": "execute_result"
    }
   ],
   "source": [
    "#valeurs manquantes\n",
    "data.isna().sum()"
   ],
   "metadata": {
    "collapsed": false
   }
  },
  {
   "cell_type": "code",
   "execution_count": 55,
   "outputs": [
    {
     "name": "stdout",
     "output_type": "stream",
     "text": [
      "lignes supprimés  7\n"
     ]
    }
   ],
   "source": [
    "#drop toutes lignes qui ont des valeurs nulles sauf EnergyScore\n",
    "data_length_before = data.shape[0]\n",
    "cols = ['LargestPropertyUseType', 'SiteEnergyUseWN(kBtu)', 'TotalGHGEmissions', 'NaturalGas(kBtu)', 'Electricity(kBtu)', 'SteamUse(kBtu)', 'NumberofBuildings']\n",
    "data.dropna(subset=cols, inplace=True)\n",
    "data.isna().sum()\n",
    "print(f'lignes supprimés  {data_length_before - data.shape[0]}')"
   ],
   "metadata": {
    "collapsed": false
   }
  },
  {
   "cell_type": "code",
   "execution_count": 56,
   "outputs": [
    {
     "data": {
      "text/plain": "       OSEBuildingID  DataYear    YearBuilt  NumberofBuildings  \\\ncount    1539.000000    1539.0  1539.000000        1539.000000   \nmean    16609.779727    2016.0  1961.307342           1.035737   \nstd     13858.481096       0.0    32.888052           0.569622   \nmin         1.000000    2016.0  1900.000000           0.000000   \n25%       609.500000    2016.0  1929.000000           1.000000   \n50%     21213.000000    2016.0  1965.000000           1.000000   \n75%     24629.500000    2016.0  1988.000000           1.000000   \nmax     50226.000000    2016.0  2015.000000           9.000000   \n\n       NumberofFloors  PropertyGFATotal  PropertyGFAParking  \\\ncount     1539.000000      1.539000e+03         1539.000000   \nmean         4.283951      1.120106e+05        13829.220273   \nstd          6.796834      1.918960e+05        43730.728115   \nmin          0.000000      1.128500e+04            0.000000   \n25%          1.000000      2.872800e+04            0.000000   \n50%          2.000000      4.721500e+04            0.000000   \n75%          4.000000      1.028880e+05            0.000000   \nmax         99.000000      1.952220e+06       512608.000000   \n\n       PropertyGFABuilding(s)  ENERGYSTARScore  SiteEnergyUseWN(kBtu)  \\\ncount            1.539000e+03      1003.000000           1.539000e+03   \nmean             9.818137e+04        63.790628           7.761522e+06   \nstd              1.685664e+05        28.923639           1.884349e+07   \nmin              3.636000e+03         1.000000           0.000000e+00   \n25%              2.768500e+04        44.000000           1.265929e+06   \n50%              4.508200e+04        71.000000           2.739122e+06   \n75%              9.290600e+04        89.000000           7.227405e+06   \nmax              1.765970e+06       100.000000           2.966717e+08   \n\n       SteamUse(kBtu)  Electricity(kBtu)  NaturalGas(kBtu)  TotalGHGEmissions  \ncount    1.539000e+03       1.539000e+03      1.539000e+03        1539.000000  \nmean     4.967574e+05       5.435044e+06      1.672264e+06         165.047498  \nstd      5.314667e+06       1.305847e+07      5.513280e+06         571.657895  \nmin      0.000000e+00      -1.154170e+05      0.000000e+00          -0.800000  \n25%      0.000000e+00       7.075250e+05      0.000000e+00          19.335000  \n50%      0.000000e+00       1.633105e+06      4.313920e+05          48.350000  \n75%      0.000000e+00       5.046944e+06      1.409886e+06         136.735000  \nmax      1.349435e+08       2.745325e+08      1.381912e+08       12307.160000  ",
      "text/html": "<div>\n<style scoped>\n    .dataframe tbody tr th:only-of-type {\n        vertical-align: middle;\n    }\n\n    .dataframe tbody tr th {\n        vertical-align: top;\n    }\n\n    .dataframe thead th {\n        text-align: right;\n    }\n</style>\n<table border=\"1\" class=\"dataframe\">\n  <thead>\n    <tr style=\"text-align: right;\">\n      <th></th>\n      <th>OSEBuildingID</th>\n      <th>DataYear</th>\n      <th>YearBuilt</th>\n      <th>NumberofBuildings</th>\n      <th>NumberofFloors</th>\n      <th>PropertyGFATotal</th>\n      <th>PropertyGFAParking</th>\n      <th>PropertyGFABuilding(s)</th>\n      <th>ENERGYSTARScore</th>\n      <th>SiteEnergyUseWN(kBtu)</th>\n      <th>SteamUse(kBtu)</th>\n      <th>Electricity(kBtu)</th>\n      <th>NaturalGas(kBtu)</th>\n      <th>TotalGHGEmissions</th>\n    </tr>\n  </thead>\n  <tbody>\n    <tr>\n      <th>count</th>\n      <td>1539.000000</td>\n      <td>1539.0</td>\n      <td>1539.000000</td>\n      <td>1539.000000</td>\n      <td>1539.000000</td>\n      <td>1.539000e+03</td>\n      <td>1539.000000</td>\n      <td>1.539000e+03</td>\n      <td>1003.000000</td>\n      <td>1.539000e+03</td>\n      <td>1.539000e+03</td>\n      <td>1.539000e+03</td>\n      <td>1.539000e+03</td>\n      <td>1539.000000</td>\n    </tr>\n    <tr>\n      <th>mean</th>\n      <td>16609.779727</td>\n      <td>2016.0</td>\n      <td>1961.307342</td>\n      <td>1.035737</td>\n      <td>4.283951</td>\n      <td>1.120106e+05</td>\n      <td>13829.220273</td>\n      <td>9.818137e+04</td>\n      <td>63.790628</td>\n      <td>7.761522e+06</td>\n      <td>4.967574e+05</td>\n      <td>5.435044e+06</td>\n      <td>1.672264e+06</td>\n      <td>165.047498</td>\n    </tr>\n    <tr>\n      <th>std</th>\n      <td>13858.481096</td>\n      <td>0.0</td>\n      <td>32.888052</td>\n      <td>0.569622</td>\n      <td>6.796834</td>\n      <td>1.918960e+05</td>\n      <td>43730.728115</td>\n      <td>1.685664e+05</td>\n      <td>28.923639</td>\n      <td>1.884349e+07</td>\n      <td>5.314667e+06</td>\n      <td>1.305847e+07</td>\n      <td>5.513280e+06</td>\n      <td>571.657895</td>\n    </tr>\n    <tr>\n      <th>min</th>\n      <td>1.000000</td>\n      <td>2016.0</td>\n      <td>1900.000000</td>\n      <td>0.000000</td>\n      <td>0.000000</td>\n      <td>1.128500e+04</td>\n      <td>0.000000</td>\n      <td>3.636000e+03</td>\n      <td>1.000000</td>\n      <td>0.000000e+00</td>\n      <td>0.000000e+00</td>\n      <td>-1.154170e+05</td>\n      <td>0.000000e+00</td>\n      <td>-0.800000</td>\n    </tr>\n    <tr>\n      <th>25%</th>\n      <td>609.500000</td>\n      <td>2016.0</td>\n      <td>1929.000000</td>\n      <td>1.000000</td>\n      <td>1.000000</td>\n      <td>2.872800e+04</td>\n      <td>0.000000</td>\n      <td>2.768500e+04</td>\n      <td>44.000000</td>\n      <td>1.265929e+06</td>\n      <td>0.000000e+00</td>\n      <td>7.075250e+05</td>\n      <td>0.000000e+00</td>\n      <td>19.335000</td>\n    </tr>\n    <tr>\n      <th>50%</th>\n      <td>21213.000000</td>\n      <td>2016.0</td>\n      <td>1965.000000</td>\n      <td>1.000000</td>\n      <td>2.000000</td>\n      <td>4.721500e+04</td>\n      <td>0.000000</td>\n      <td>4.508200e+04</td>\n      <td>71.000000</td>\n      <td>2.739122e+06</td>\n      <td>0.000000e+00</td>\n      <td>1.633105e+06</td>\n      <td>4.313920e+05</td>\n      <td>48.350000</td>\n    </tr>\n    <tr>\n      <th>75%</th>\n      <td>24629.500000</td>\n      <td>2016.0</td>\n      <td>1988.000000</td>\n      <td>1.000000</td>\n      <td>4.000000</td>\n      <td>1.028880e+05</td>\n      <td>0.000000</td>\n      <td>9.290600e+04</td>\n      <td>89.000000</td>\n      <td>7.227405e+06</td>\n      <td>0.000000e+00</td>\n      <td>5.046944e+06</td>\n      <td>1.409886e+06</td>\n      <td>136.735000</td>\n    </tr>\n    <tr>\n      <th>max</th>\n      <td>50226.000000</td>\n      <td>2016.0</td>\n      <td>2015.000000</td>\n      <td>9.000000</td>\n      <td>99.000000</td>\n      <td>1.952220e+06</td>\n      <td>512608.000000</td>\n      <td>1.765970e+06</td>\n      <td>100.000000</td>\n      <td>2.966717e+08</td>\n      <td>1.349435e+08</td>\n      <td>2.745325e+08</td>\n      <td>1.381912e+08</td>\n      <td>12307.160000</td>\n    </tr>\n  </tbody>\n</table>\n</div>"
     },
     "execution_count": 56,
     "metadata": {},
     "output_type": "execute_result"
    }
   ],
   "source": [
    "data.describe()"
   ],
   "metadata": {
    "collapsed": false
   }
  },
  {
   "cell_type": "code",
   "execution_count": 57,
   "outputs": [
    {
     "name": "stdout",
     "output_type": "stream",
     "text": [
      "lignes supprimés  1\n"
     ]
    }
   ],
   "source": [
    "data_length_before = data.shape[0]\n",
    "cols = data.select_dtypes(include=[np.number]).columns\n",
    "data = data[~(data[cols] < 0).any(axis=1)].copy()\n",
    "print(f'lignes supprimés  {data_length_before - data.shape[0]}')"
   ],
   "metadata": {
    "collapsed": false
   }
  },
  {
   "cell_type": "code",
   "execution_count": 58,
   "outputs": [
    {
     "name": "stdout",
     "output_type": "stream",
     "text": [
      "lignes supprimés  0\n"
     ]
    }
   ],
   "source": [
    "data_length_before = data.shape[0]\n",
    "difference = abs(data['PropertyGFATotal'] - (data['PropertyGFABuilding(s)'] + data['PropertyGFAParking']))\n",
    "data = data[difference == 0]\n",
    "print(f'lignes supprimés  {data_length_before - data.shape[0]}')"
   ],
   "metadata": {
    "collapsed": false
   }
  },
  {
   "cell_type": "code",
   "execution_count": 59,
   "outputs": [],
   "source": [
    "#Remplacement ratio\n",
    "data[['PropertyGFABuilding(s)', 'PropertyGFAParking']] = \\\n",
    "    data[['PropertyGFABuilding(s)', 'PropertyGFAParking']].apply(lambda x: x / data['PropertyGFATotal'])"
   ],
   "metadata": {
    "collapsed": false
   }
  },
  {
   "cell_type": "code",
   "execution_count": 60,
   "outputs": [],
   "source": [
    "#création d'une colonne ancienneté à partir des variable DataYear et YearBuilt\n",
    "data['Ancienneté'] = data['DataYear'] - data['YearBuilt']\n",
    "data = data.drop('YearBuilt', axis=1)\n"
   ],
   "metadata": {
    "collapsed": false
   }
  },
  {
   "cell_type": "code",
   "execution_count": 61,
   "outputs": [],
   "source": [
    "data = pd.concat([data, pd.get_dummies(data['Neighborhood'], prefix='Neighborhood')], axis=1)\n",
    "data = pd.concat([data, pd.get_dummies(data['LargestPropertyUseType'], prefix='LargestPropertyUseType')], axis=1)\n",
    "dummy_cols = data.filter(regex='^(LargestPropertyUseType_|Neighborhood_)')\n",
    "data = data.loc[:, (data != 0).any(axis=0) | (dummy_cols != 0).any(axis=0)]"
   ],
   "metadata": {
    "collapsed": false
   }
  },
  {
   "cell_type": "code",
   "execution_count": 62,
   "outputs": [],
   "source": [
    "#energy non nulle\n",
    "data_energy_star_filtered = data[data['ENERGYSTARScore'].notna()]\n",
    "data.to_csv('energy_star_only.csv', index=False)\n",
    "data.loc[data['ENERGYSTARScore'].isnull(), 'ENERGYSTARScore'] = -1"
   ],
   "metadata": {
    "collapsed": false
   }
  },
  {
   "cell_type": "code",
   "execution_count": 63,
   "outputs": [],
   "source": [
    "data.to_csv('cleaned_data.csv', index=False)"
   ],
   "metadata": {
    "collapsed": false
   }
  },
  {
   "cell_type": "code",
   "execution_count": 64,
   "outputs": [
    {
     "data": {
      "text/plain": "1538"
     },
     "execution_count": 64,
     "metadata": {},
     "output_type": "execute_result"
    }
   ],
   "source": [
    "data.shape[0]"
   ],
   "metadata": {
    "collapsed": false
   }
  }
 ],
 "metadata": {
  "kernelspec": {
   "display_name": "Python 3",
   "language": "python",
   "name": "python3"
  },
  "language_info": {
   "codemirror_mode": {
    "name": "ipython",
    "version": 2
   },
   "file_extension": ".py",
   "mimetype": "text/x-python",
   "name": "python",
   "nbconvert_exporter": "python",
   "pygments_lexer": "ipython2",
   "version": "2.7.6"
  }
 },
 "nbformat": 4,
 "nbformat_minor": 0
}
