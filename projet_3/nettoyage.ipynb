{
 "cells": [
  {
   "cell_type": "code",
   "execution_count": 12,
   "metadata": {
    "collapsed": true
   },
   "outputs": [
    {
     "data": {
      "text/plain": "   OSEBuildingID  DataYear    BuildingType PrimaryPropertyType  \\\n0              1      2016  NonResidential               Hotel   \n1              2      2016  NonResidential               Hotel   \n2              3      2016  NonResidential               Hotel   \n3              5      2016  NonResidential               Hotel   \n4              8      2016  NonResidential               Hotel   \n\n                  PropertyName          Address     City State  ZipCode  \\\n0         Mayflower park hotel    405 Olive way  Seattle    WA  98101.0   \n1              Paramount Hotel  724 Pine street  Seattle    WA  98101.0   \n2      5673-The Westin Seattle  1900 5th Avenue  Seattle    WA  98101.0   \n3                    HOTEL MAX   620 STEWART ST  Seattle    WA  98101.0   \n4  WARWICK SEATTLE HOTEL (ID8)    401 LENORA ST  Seattle    WA  98121.0   \n\n  TaxParcelIdentificationNumber  ...  Electricity(kWh) Electricity(kBtu)  \\\n0                    0659000030  ...      1.156514e+06         3946027.0   \n1                    0659000220  ...      9.504252e+05         3242851.0   \n2                    0659000475  ...      1.451544e+07        49526664.0   \n3                    0659000640  ...      8.115253e+05         2768924.0   \n4                    0659000970  ...      1.573449e+06         5368607.0   \n\n   NaturalGas(therms)  NaturalGas(kBtu)  DefaultData  Comments  \\\n0         12764.52930         1276453.0        False       NaN   \n1         51450.81641         5145082.0        False       NaN   \n2         14938.00000         1493800.0        False       NaN   \n3         18112.13086         1811213.0        False       NaN   \n4         88039.98438         8803998.0        False       NaN   \n\n   ComplianceStatus  Outlier  TotalGHGEmissions  GHGEmissionsIntensity  \n0         Compliant      NaN             249.98                   2.83  \n1         Compliant      NaN             295.86                   2.86  \n2         Compliant      NaN            2089.28                   2.19  \n3         Compliant      NaN             286.43                   4.67  \n4         Compliant      NaN             505.01                   2.88  \n\n[5 rows x 46 columns]",
      "text/html": "<div>\n<style scoped>\n    .dataframe tbody tr th:only-of-type {\n        vertical-align: middle;\n    }\n\n    .dataframe tbody tr th {\n        vertical-align: top;\n    }\n\n    .dataframe thead th {\n        text-align: right;\n    }\n</style>\n<table border=\"1\" class=\"dataframe\">\n  <thead>\n    <tr style=\"text-align: right;\">\n      <th></th>\n      <th>OSEBuildingID</th>\n      <th>DataYear</th>\n      <th>BuildingType</th>\n      <th>PrimaryPropertyType</th>\n      <th>PropertyName</th>\n      <th>Address</th>\n      <th>City</th>\n      <th>State</th>\n      <th>ZipCode</th>\n      <th>TaxParcelIdentificationNumber</th>\n      <th>...</th>\n      <th>Electricity(kWh)</th>\n      <th>Electricity(kBtu)</th>\n      <th>NaturalGas(therms)</th>\n      <th>NaturalGas(kBtu)</th>\n      <th>DefaultData</th>\n      <th>Comments</th>\n      <th>ComplianceStatus</th>\n      <th>Outlier</th>\n      <th>TotalGHGEmissions</th>\n      <th>GHGEmissionsIntensity</th>\n    </tr>\n  </thead>\n  <tbody>\n    <tr>\n      <th>0</th>\n      <td>1</td>\n      <td>2016</td>\n      <td>NonResidential</td>\n      <td>Hotel</td>\n      <td>Mayflower park hotel</td>\n      <td>405 Olive way</td>\n      <td>Seattle</td>\n      <td>WA</td>\n      <td>98101.0</td>\n      <td>0659000030</td>\n      <td>...</td>\n      <td>1.156514e+06</td>\n      <td>3946027.0</td>\n      <td>12764.52930</td>\n      <td>1276453.0</td>\n      <td>False</td>\n      <td>NaN</td>\n      <td>Compliant</td>\n      <td>NaN</td>\n      <td>249.98</td>\n      <td>2.83</td>\n    </tr>\n    <tr>\n      <th>1</th>\n      <td>2</td>\n      <td>2016</td>\n      <td>NonResidential</td>\n      <td>Hotel</td>\n      <td>Paramount Hotel</td>\n      <td>724 Pine street</td>\n      <td>Seattle</td>\n      <td>WA</td>\n      <td>98101.0</td>\n      <td>0659000220</td>\n      <td>...</td>\n      <td>9.504252e+05</td>\n      <td>3242851.0</td>\n      <td>51450.81641</td>\n      <td>5145082.0</td>\n      <td>False</td>\n      <td>NaN</td>\n      <td>Compliant</td>\n      <td>NaN</td>\n      <td>295.86</td>\n      <td>2.86</td>\n    </tr>\n    <tr>\n      <th>2</th>\n      <td>3</td>\n      <td>2016</td>\n      <td>NonResidential</td>\n      <td>Hotel</td>\n      <td>5673-The Westin Seattle</td>\n      <td>1900 5th Avenue</td>\n      <td>Seattle</td>\n      <td>WA</td>\n      <td>98101.0</td>\n      <td>0659000475</td>\n      <td>...</td>\n      <td>1.451544e+07</td>\n      <td>49526664.0</td>\n      <td>14938.00000</td>\n      <td>1493800.0</td>\n      <td>False</td>\n      <td>NaN</td>\n      <td>Compliant</td>\n      <td>NaN</td>\n      <td>2089.28</td>\n      <td>2.19</td>\n    </tr>\n    <tr>\n      <th>3</th>\n      <td>5</td>\n      <td>2016</td>\n      <td>NonResidential</td>\n      <td>Hotel</td>\n      <td>HOTEL MAX</td>\n      <td>620 STEWART ST</td>\n      <td>Seattle</td>\n      <td>WA</td>\n      <td>98101.0</td>\n      <td>0659000640</td>\n      <td>...</td>\n      <td>8.115253e+05</td>\n      <td>2768924.0</td>\n      <td>18112.13086</td>\n      <td>1811213.0</td>\n      <td>False</td>\n      <td>NaN</td>\n      <td>Compliant</td>\n      <td>NaN</td>\n      <td>286.43</td>\n      <td>4.67</td>\n    </tr>\n    <tr>\n      <th>4</th>\n      <td>8</td>\n      <td>2016</td>\n      <td>NonResidential</td>\n      <td>Hotel</td>\n      <td>WARWICK SEATTLE HOTEL (ID8)</td>\n      <td>401 LENORA ST</td>\n      <td>Seattle</td>\n      <td>WA</td>\n      <td>98121.0</td>\n      <td>0659000970</td>\n      <td>...</td>\n      <td>1.573449e+06</td>\n      <td>5368607.0</td>\n      <td>88039.98438</td>\n      <td>8803998.0</td>\n      <td>False</td>\n      <td>NaN</td>\n      <td>Compliant</td>\n      <td>NaN</td>\n      <td>505.01</td>\n      <td>2.88</td>\n    </tr>\n  </tbody>\n</table>\n<p>5 rows × 46 columns</p>\n</div>"
     },
     "execution_count": 12,
     "metadata": {},
     "output_type": "execute_result"
    }
   ],
   "source": [
    "import pandas as pd\n",
    "\n",
    "data = pd.read_csv('2016_Building_Energy_Benchmarking.csv')\n",
    "data.head()"
   ]
  },
  {
   "cell_type": "code",
   "execution_count": 13,
   "outputs": [
    {
     "data": {
      "text/plain": "      OSEBuildingID  DataYear        BuildingType PrimaryPropertyType  \\\n0                 1      2016      NonResidential               Hotel   \n1                 2      2016      NonResidential               Hotel   \n2                 3      2016      NonResidential               Hotel   \n3                 5      2016      NonResidential               Hotel   \n4                 8      2016      NonResidential               Hotel   \n...             ...       ...                 ...                 ...   \n3371          50222      2016  Nonresidential COS              Office   \n3372          50223      2016  Nonresidential COS               Other   \n3373          50224      2016  Nonresidential COS               Other   \n3374          50225      2016  Nonresidential COS  Mixed Use Property   \n3375          50226      2016  Nonresidential COS  Mixed Use Property   \n\n                             PropertyName     City State  YearBuilt  \\\n0                    Mayflower park hotel  Seattle    WA       1927   \n1                         Paramount Hotel  Seattle    WA       1996   \n2                 5673-The Westin Seattle  Seattle    WA       1969   \n3                               HOTEL MAX  Seattle    WA       1926   \n4             WARWICK SEATTLE HOTEL (ID8)  Seattle    WA       1980   \n...                                   ...      ...   ...        ...   \n3371                Horticulture building  Seattle    WA       1990   \n3372  International district/Chinatown CC  Seattle    WA       2004   \n3373                      Queen Anne Pool  Seattle    WA       1974   \n3374          South Park Community Center  Seattle    WA       1989   \n3375          Van Asselt Community Center  Seattle    WA       1938   \n\n                              ListOfAllPropertyUseTypes  \\\n0                                                 Hotel   \n1                            Hotel, Parking, Restaurant   \n2                                                 Hotel   \n3                                                 Hotel   \n4                         Hotel, Parking, Swimming Pool   \n...                                                 ...   \n3371                                             Office   \n3372                                 Other - Recreation   \n3373  Fitness Center/Health Club/Gym, Other - Recrea...   \n3374  Fitness Center/Health Club/Gym, Food Service, ...   \n3375  Fitness Center/Health Club/Gym, Food Service, ...   \n\n     LargestPropertyUseType  ...  SourceEUIWN(kBtu/sf)  SiteEnergyUse(kBtu)  \\\n0                     Hotel  ...            189.000000         7.226362e+06   \n1                     Hotel  ...            179.399994         8.387933e+06   \n2                     Hotel  ...            244.100006         7.258702e+07   \n3                     Hotel  ...            224.000000         6.794584e+06   \n4                     Hotel  ...            215.600006         1.417261e+07   \n...                     ...  ...                   ...                  ...   \n3371                 Office  ...            176.100006         8.497457e+05   \n3372     Other - Recreation  ...            118.900002         9.502762e+05   \n3373     Other - Recreation  ...            767.799988         5.765898e+06   \n3374     Other - Recreation  ...            110.800003         7.194712e+05   \n3375     Other - Recreation  ...            123.900002         1.152896e+06   \n\n      SiteEnergyUseWN(kBtu)  SteamUse(kBtu)  Electricity(kWh)  \\\n0              7.456910e+06      2003882.00      1.156514e+06   \n1              8.664479e+06            0.00      9.504252e+05   \n2              7.393711e+07     21566554.00      1.451544e+07   \n3              6.946800e+06      2214446.25      8.115253e+05   \n4              1.465650e+07            0.00      1.573449e+06   \n...                     ...             ...               ...   \n3371           9.430032e+05            0.00      1.536550e+05   \n3372           1.053706e+06            0.00      1.162210e+05   \n3373           6.053764e+06            0.00      5.252517e+05   \n3374           7.828413e+05            0.00      1.022480e+05   \n3375           1.293722e+06            0.00      1.267744e+05   \n\n      Electricity(kBtu)  NaturalGas(therms)  NaturalGas(kBtu)  \\\n0          3.946027e+06        12764.529300      1.276453e+06   \n1          3.242851e+06        51450.816410      5.145082e+06   \n2          4.952666e+07        14938.000000      1.493800e+06   \n3          2.768924e+06        18112.130860      1.811213e+06   \n4          5.368607e+06        88039.984380      8.803998e+06   \n...                 ...                 ...               ...   \n3371       5.242709e+05         3254.750244      3.254750e+05   \n3372       3.965461e+05         5537.299805      5.537300e+05   \n3373       1.792159e+06        39737.390630      3.973739e+06   \n3374       3.488702e+05         3706.010010      3.706010e+05   \n3375       4.325542e+05         7203.419922      7.203420e+05   \n\n      TotalGHGEmissions  GHGEmissionsIntensity  \n0                249.98                   2.83  \n1                295.86                   2.86  \n2               2089.28                   2.19  \n3                286.43                   4.67  \n4                505.01                   2.88  \n...                 ...                    ...  \n3371              20.94                   1.70  \n3372              32.17                   2.01  \n3373             223.54                  16.99  \n3374              22.11                   1.57  \n3375              41.27                   2.26  \n\n[3376 rows x 24 columns]",
      "text/html": "<div>\n<style scoped>\n    .dataframe tbody tr th:only-of-type {\n        vertical-align: middle;\n    }\n\n    .dataframe tbody tr th {\n        vertical-align: top;\n    }\n\n    .dataframe thead th {\n        text-align: right;\n    }\n</style>\n<table border=\"1\" class=\"dataframe\">\n  <thead>\n    <tr style=\"text-align: right;\">\n      <th></th>\n      <th>OSEBuildingID</th>\n      <th>DataYear</th>\n      <th>BuildingType</th>\n      <th>PrimaryPropertyType</th>\n      <th>PropertyName</th>\n      <th>City</th>\n      <th>State</th>\n      <th>YearBuilt</th>\n      <th>ListOfAllPropertyUseTypes</th>\n      <th>LargestPropertyUseType</th>\n      <th>...</th>\n      <th>SourceEUIWN(kBtu/sf)</th>\n      <th>SiteEnergyUse(kBtu)</th>\n      <th>SiteEnergyUseWN(kBtu)</th>\n      <th>SteamUse(kBtu)</th>\n      <th>Electricity(kWh)</th>\n      <th>Electricity(kBtu)</th>\n      <th>NaturalGas(therms)</th>\n      <th>NaturalGas(kBtu)</th>\n      <th>TotalGHGEmissions</th>\n      <th>GHGEmissionsIntensity</th>\n    </tr>\n  </thead>\n  <tbody>\n    <tr>\n      <th>0</th>\n      <td>1</td>\n      <td>2016</td>\n      <td>NonResidential</td>\n      <td>Hotel</td>\n      <td>Mayflower park hotel</td>\n      <td>Seattle</td>\n      <td>WA</td>\n      <td>1927</td>\n      <td>Hotel</td>\n      <td>Hotel</td>\n      <td>...</td>\n      <td>189.000000</td>\n      <td>7.226362e+06</td>\n      <td>7.456910e+06</td>\n      <td>2003882.00</td>\n      <td>1.156514e+06</td>\n      <td>3.946027e+06</td>\n      <td>12764.529300</td>\n      <td>1.276453e+06</td>\n      <td>249.98</td>\n      <td>2.83</td>\n    </tr>\n    <tr>\n      <th>1</th>\n      <td>2</td>\n      <td>2016</td>\n      <td>NonResidential</td>\n      <td>Hotel</td>\n      <td>Paramount Hotel</td>\n      <td>Seattle</td>\n      <td>WA</td>\n      <td>1996</td>\n      <td>Hotel, Parking, Restaurant</td>\n      <td>Hotel</td>\n      <td>...</td>\n      <td>179.399994</td>\n      <td>8.387933e+06</td>\n      <td>8.664479e+06</td>\n      <td>0.00</td>\n      <td>9.504252e+05</td>\n      <td>3.242851e+06</td>\n      <td>51450.816410</td>\n      <td>5.145082e+06</td>\n      <td>295.86</td>\n      <td>2.86</td>\n    </tr>\n    <tr>\n      <th>2</th>\n      <td>3</td>\n      <td>2016</td>\n      <td>NonResidential</td>\n      <td>Hotel</td>\n      <td>5673-The Westin Seattle</td>\n      <td>Seattle</td>\n      <td>WA</td>\n      <td>1969</td>\n      <td>Hotel</td>\n      <td>Hotel</td>\n      <td>...</td>\n      <td>244.100006</td>\n      <td>7.258702e+07</td>\n      <td>7.393711e+07</td>\n      <td>21566554.00</td>\n      <td>1.451544e+07</td>\n      <td>4.952666e+07</td>\n      <td>14938.000000</td>\n      <td>1.493800e+06</td>\n      <td>2089.28</td>\n      <td>2.19</td>\n    </tr>\n    <tr>\n      <th>3</th>\n      <td>5</td>\n      <td>2016</td>\n      <td>NonResidential</td>\n      <td>Hotel</td>\n      <td>HOTEL MAX</td>\n      <td>Seattle</td>\n      <td>WA</td>\n      <td>1926</td>\n      <td>Hotel</td>\n      <td>Hotel</td>\n      <td>...</td>\n      <td>224.000000</td>\n      <td>6.794584e+06</td>\n      <td>6.946800e+06</td>\n      <td>2214446.25</td>\n      <td>8.115253e+05</td>\n      <td>2.768924e+06</td>\n      <td>18112.130860</td>\n      <td>1.811213e+06</td>\n      <td>286.43</td>\n      <td>4.67</td>\n    </tr>\n    <tr>\n      <th>4</th>\n      <td>8</td>\n      <td>2016</td>\n      <td>NonResidential</td>\n      <td>Hotel</td>\n      <td>WARWICK SEATTLE HOTEL (ID8)</td>\n      <td>Seattle</td>\n      <td>WA</td>\n      <td>1980</td>\n      <td>Hotel, Parking, Swimming Pool</td>\n      <td>Hotel</td>\n      <td>...</td>\n      <td>215.600006</td>\n      <td>1.417261e+07</td>\n      <td>1.465650e+07</td>\n      <td>0.00</td>\n      <td>1.573449e+06</td>\n      <td>5.368607e+06</td>\n      <td>88039.984380</td>\n      <td>8.803998e+06</td>\n      <td>505.01</td>\n      <td>2.88</td>\n    </tr>\n    <tr>\n      <th>...</th>\n      <td>...</td>\n      <td>...</td>\n      <td>...</td>\n      <td>...</td>\n      <td>...</td>\n      <td>...</td>\n      <td>...</td>\n      <td>...</td>\n      <td>...</td>\n      <td>...</td>\n      <td>...</td>\n      <td>...</td>\n      <td>...</td>\n      <td>...</td>\n      <td>...</td>\n      <td>...</td>\n      <td>...</td>\n      <td>...</td>\n      <td>...</td>\n      <td>...</td>\n      <td>...</td>\n    </tr>\n    <tr>\n      <th>3371</th>\n      <td>50222</td>\n      <td>2016</td>\n      <td>Nonresidential COS</td>\n      <td>Office</td>\n      <td>Horticulture building</td>\n      <td>Seattle</td>\n      <td>WA</td>\n      <td>1990</td>\n      <td>Office</td>\n      <td>Office</td>\n      <td>...</td>\n      <td>176.100006</td>\n      <td>8.497457e+05</td>\n      <td>9.430032e+05</td>\n      <td>0.00</td>\n      <td>1.536550e+05</td>\n      <td>5.242709e+05</td>\n      <td>3254.750244</td>\n      <td>3.254750e+05</td>\n      <td>20.94</td>\n      <td>1.70</td>\n    </tr>\n    <tr>\n      <th>3372</th>\n      <td>50223</td>\n      <td>2016</td>\n      <td>Nonresidential COS</td>\n      <td>Other</td>\n      <td>International district/Chinatown CC</td>\n      <td>Seattle</td>\n      <td>WA</td>\n      <td>2004</td>\n      <td>Other - Recreation</td>\n      <td>Other - Recreation</td>\n      <td>...</td>\n      <td>118.900002</td>\n      <td>9.502762e+05</td>\n      <td>1.053706e+06</td>\n      <td>0.00</td>\n      <td>1.162210e+05</td>\n      <td>3.965461e+05</td>\n      <td>5537.299805</td>\n      <td>5.537300e+05</td>\n      <td>32.17</td>\n      <td>2.01</td>\n    </tr>\n    <tr>\n      <th>3373</th>\n      <td>50224</td>\n      <td>2016</td>\n      <td>Nonresidential COS</td>\n      <td>Other</td>\n      <td>Queen Anne Pool</td>\n      <td>Seattle</td>\n      <td>WA</td>\n      <td>1974</td>\n      <td>Fitness Center/Health Club/Gym, Other - Recrea...</td>\n      <td>Other - Recreation</td>\n      <td>...</td>\n      <td>767.799988</td>\n      <td>5.765898e+06</td>\n      <td>6.053764e+06</td>\n      <td>0.00</td>\n      <td>5.252517e+05</td>\n      <td>1.792159e+06</td>\n      <td>39737.390630</td>\n      <td>3.973739e+06</td>\n      <td>223.54</td>\n      <td>16.99</td>\n    </tr>\n    <tr>\n      <th>3374</th>\n      <td>50225</td>\n      <td>2016</td>\n      <td>Nonresidential COS</td>\n      <td>Mixed Use Property</td>\n      <td>South Park Community Center</td>\n      <td>Seattle</td>\n      <td>WA</td>\n      <td>1989</td>\n      <td>Fitness Center/Health Club/Gym, Food Service, ...</td>\n      <td>Other - Recreation</td>\n      <td>...</td>\n      <td>110.800003</td>\n      <td>7.194712e+05</td>\n      <td>7.828413e+05</td>\n      <td>0.00</td>\n      <td>1.022480e+05</td>\n      <td>3.488702e+05</td>\n      <td>3706.010010</td>\n      <td>3.706010e+05</td>\n      <td>22.11</td>\n      <td>1.57</td>\n    </tr>\n    <tr>\n      <th>3375</th>\n      <td>50226</td>\n      <td>2016</td>\n      <td>Nonresidential COS</td>\n      <td>Mixed Use Property</td>\n      <td>Van Asselt Community Center</td>\n      <td>Seattle</td>\n      <td>WA</td>\n      <td>1938</td>\n      <td>Fitness Center/Health Club/Gym, Food Service, ...</td>\n      <td>Other - Recreation</td>\n      <td>...</td>\n      <td>123.900002</td>\n      <td>1.152896e+06</td>\n      <td>1.293722e+06</td>\n      <td>0.00</td>\n      <td>1.267744e+05</td>\n      <td>4.325542e+05</td>\n      <td>7203.419922</td>\n      <td>7.203420e+05</td>\n      <td>41.27</td>\n      <td>2.26</td>\n    </tr>\n  </tbody>\n</table>\n<p>3376 rows × 24 columns</p>\n</div>"
     },
     "execution_count": 13,
     "metadata": {},
     "output_type": "execute_result"
    }
   ],
   "source": [
    "#variables cohérentes\n",
    "cols = ['OSEBuildingID', 'DataYear', 'BuildingType', 'PrimaryPropertyType',\n",
    "       'PropertyName', 'City', 'State',\n",
    "       'YearBuilt', 'ListOfAllPropertyUseTypes',\n",
    "       'LargestPropertyUseType', 'ENERGYSTARScore', 'SiteEUI(kBtu/sf)',\n",
    "       'SiteEUIWN(kBtu/sf)', 'SourceEUI(kBtu/sf)', 'SourceEUIWN(kBtu/sf)',\n",
    "       'SiteEnergyUse(kBtu)', 'SiteEnergyUseWN(kBtu)', 'SteamUse(kBtu)',\n",
    "       'Electricity(kWh)', 'Electricity(kBtu)', 'NaturalGas(therms)',\n",
    "       'NaturalGas(kBtu)','TotalGHGEmissions', 'GHGEmissionsIntensity']\n",
    "data = data[cols]\n",
    "data"
   ],
   "metadata": {
    "collapsed": false
   }
  },
  {
   "cell_type": "code",
   "execution_count": 14,
   "outputs": [
    {
     "data": {
      "text/plain": "Low-Rise Multifamily           987\nMid-Rise Multifamily           564\nSmall- and Mid-Sized Office    293\nOther                          256\nWarehouse                      187\nLarge Office                   173\nK-12 School                    139\nMixed Use Property             133\nHigh-Rise Multifamily          105\nRetail Store                    91\nHotel                           77\nWorship Facility                71\nDistribution Center             53\nSenior Care Community           45\nSupermarket / Grocery Store     40\nMedical Office                  39\nSelf-Storage Facility           28\nUniversity                      25\nResidence Hall                  23\nRefrigerated Warehouse          12\nRestaurant                      12\nHospital                        10\nLaboratory                      10\nOffice                           3\nName: PrimaryPropertyType, dtype: int64"
     },
     "execution_count": 14,
     "metadata": {},
     "output_type": "execute_result"
    }
   ],
   "source": [
    "data['PrimaryPropertyType'].value_counts()"
   ],
   "metadata": {
    "collapsed": false
   }
  },
  {
   "cell_type": "code",
   "execution_count": 15,
   "outputs": [],
   "source": [
    "#quelles sont les valeurs correspondant à des logements dédiés à l'habitation?"
   ],
   "metadata": {
    "collapsed": false
   }
  },
  {
   "cell_type": "code",
   "execution_count": 16,
   "outputs": [
    {
     "data": {
      "text/plain": "OSEBuildingID                  0\nDataYear                       0\nBuildingType                   0\nPrimaryPropertyType            0\nPropertyName                   0\nCity                           0\nState                          0\nYearBuilt                      0\nListOfAllPropertyUseTypes      9\nLargestPropertyUseType        20\nENERGYSTARScore              843\nSiteEUI(kBtu/sf)               7\nSiteEUIWN(kBtu/sf)             6\nSourceEUI(kBtu/sf)             9\nSourceEUIWN(kBtu/sf)           9\nSiteEnergyUse(kBtu)            5\nSiteEnergyUseWN(kBtu)          6\nSteamUse(kBtu)                 9\nElectricity(kWh)               9\nElectricity(kBtu)              9\nNaturalGas(therms)             9\nNaturalGas(kBtu)               9\nTotalGHGEmissions              9\nGHGEmissionsIntensity          9\ndtype: int64"
     },
     "execution_count": 16,
     "metadata": {},
     "output_type": "execute_result"
    }
   ],
   "source": [
    "data.isna().sum()\n"
   ],
   "metadata": {
    "collapsed": false
   }
  }
 ],
 "metadata": {
  "kernelspec": {
   "display_name": "Python 3",
   "language": "python",
   "name": "python3"
  },
  "language_info": {
   "codemirror_mode": {
    "name": "ipython",
    "version": 2
   },
   "file_extension": ".py",
   "mimetype": "text/x-python",
   "name": "python",
   "nbconvert_exporter": "python",
   "pygments_lexer": "ipython2",
   "version": "2.7.6"
  }
 },
 "nbformat": 4,
 "nbformat_minor": 0
}
