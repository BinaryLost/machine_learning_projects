{
 "cells": [
  {
   "cell_type": "code",
   "execution_count": 25,
   "metadata": {
    "collapsed": true
   },
   "outputs": [],
   "source": [
    "#import des fichiers et load des ressources\n",
    "import pandas as pd\n",
    "import numpy as np\n",
    "\n",
    "data = pd.read_csv('2016_Building_Energy_Benchmarking.csv')\n",
    "pd.options.display.max_columns = data.shape[1]"
   ]
  },
  {
   "cell_type": "code",
   "execution_count": 26,
   "outputs": [
    {
     "data": {
      "text/plain": "      OSEBuildingID  DataYear          BuildingType   PrimaryPropertyType  \\\n1667          23050      2016  Multifamily LR (1-4)  Low-Rise Multifamily   \n\n                   PropertyName           Address     City State  ZipCode  \\\n1667  The Overlook at Westridge  600 SW Kenyon St  Seattle    WA  98106.0   \n\n     TaxParcelIdentificationNumber  CouncilDistrictCode Neighborhood  \\\n1667                    3024049024                    1     DELRIDGE   \n\n      Latitude  Longitude  YearBuilt  NumberofBuildings  NumberofFloors  \\\n1667  47.53212 -122.34509       1988                1.0               3   \n\n      PropertyGFATotal  PropertyGFAParking  PropertyGFABuilding(s)  \\\n1667            298714                   0                  298714   \n\n       ListOfAllPropertyUseTypes LargestPropertyUseType  \\\n1667  Multifamily Housing, Other    Multifamily Housing   \n\n      LargestPropertyUseTypeGFA SecondLargestPropertyUseType  \\\n1667                   142989.0                        Other   \n\n      SecondLargestPropertyUseTypeGFA ThirdLargestPropertyUseType  \\\n1667                           3155.0                         NaN   \n\n      ThirdLargestPropertyUseTypeGFA YearsENERGYSTARCertified  \\\n1667                             NaN                      NaN   \n\n      ENERGYSTARScore  SiteEUI(kBtu/sf)  SiteEUIWN(kBtu/sf)  \\\n1667             61.0              32.5                34.5   \n\n      SourceEUI(kBtu/sf)  SourceEUIWN(kBtu/sf)  SiteEnergyUse(kBtu)  \\\n1667               100.0            106.699997            4746244.5   \n\n      SiteEnergyUseWN(kBtu)  SteamUse(kBtu)  Electricity(kWh)  \\\n1667              5045478.5             0.0        1349890.75   \n\n      Electricity(kBtu)  NaturalGas(therms)  NaturalGas(kBtu)  DefaultData  \\\n1667          4605827.0         1404.163208          140416.0        False   \n\n      Comments ComplianceStatus Outlier  TotalGHGEmissions  \\\n1667       NaN        Compliant     NaN              39.57   \n\n      GHGEmissionsIntensity  \n1667                   0.13  ",
      "text/html": "<div>\n<style scoped>\n    .dataframe tbody tr th:only-of-type {\n        vertical-align: middle;\n    }\n\n    .dataframe tbody tr th {\n        vertical-align: top;\n    }\n\n    .dataframe thead th {\n        text-align: right;\n    }\n</style>\n<table border=\"1\" class=\"dataframe\">\n  <thead>\n    <tr style=\"text-align: right;\">\n      <th></th>\n      <th>OSEBuildingID</th>\n      <th>DataYear</th>\n      <th>BuildingType</th>\n      <th>PrimaryPropertyType</th>\n      <th>PropertyName</th>\n      <th>Address</th>\n      <th>City</th>\n      <th>State</th>\n      <th>ZipCode</th>\n      <th>TaxParcelIdentificationNumber</th>\n      <th>CouncilDistrictCode</th>\n      <th>Neighborhood</th>\n      <th>Latitude</th>\n      <th>Longitude</th>\n      <th>YearBuilt</th>\n      <th>NumberofBuildings</th>\n      <th>NumberofFloors</th>\n      <th>PropertyGFATotal</th>\n      <th>PropertyGFAParking</th>\n      <th>PropertyGFABuilding(s)</th>\n      <th>ListOfAllPropertyUseTypes</th>\n      <th>LargestPropertyUseType</th>\n      <th>LargestPropertyUseTypeGFA</th>\n      <th>SecondLargestPropertyUseType</th>\n      <th>SecondLargestPropertyUseTypeGFA</th>\n      <th>ThirdLargestPropertyUseType</th>\n      <th>ThirdLargestPropertyUseTypeGFA</th>\n      <th>YearsENERGYSTARCertified</th>\n      <th>ENERGYSTARScore</th>\n      <th>SiteEUI(kBtu/sf)</th>\n      <th>SiteEUIWN(kBtu/sf)</th>\n      <th>SourceEUI(kBtu/sf)</th>\n      <th>SourceEUIWN(kBtu/sf)</th>\n      <th>SiteEnergyUse(kBtu)</th>\n      <th>SiteEnergyUseWN(kBtu)</th>\n      <th>SteamUse(kBtu)</th>\n      <th>Electricity(kWh)</th>\n      <th>Electricity(kBtu)</th>\n      <th>NaturalGas(therms)</th>\n      <th>NaturalGas(kBtu)</th>\n      <th>DefaultData</th>\n      <th>Comments</th>\n      <th>ComplianceStatus</th>\n      <th>Outlier</th>\n      <th>TotalGHGEmissions</th>\n      <th>GHGEmissionsIntensity</th>\n    </tr>\n  </thead>\n  <tbody>\n    <tr>\n      <th>1667</th>\n      <td>23050</td>\n      <td>2016</td>\n      <td>Multifamily LR (1-4)</td>\n      <td>Low-Rise Multifamily</td>\n      <td>The Overlook at Westridge</td>\n      <td>600 SW Kenyon St</td>\n      <td>Seattle</td>\n      <td>WA</td>\n      <td>98106.0</td>\n      <td>3024049024</td>\n      <td>1</td>\n      <td>DELRIDGE</td>\n      <td>47.53212</td>\n      <td>-122.34509</td>\n      <td>1988</td>\n      <td>1.0</td>\n      <td>3</td>\n      <td>298714</td>\n      <td>0</td>\n      <td>298714</td>\n      <td>Multifamily Housing, Other</td>\n      <td>Multifamily Housing</td>\n      <td>142989.0</td>\n      <td>Other</td>\n      <td>3155.0</td>\n      <td>NaN</td>\n      <td>NaN</td>\n      <td>NaN</td>\n      <td>61.0</td>\n      <td>32.5</td>\n      <td>34.5</td>\n      <td>100.0</td>\n      <td>106.699997</td>\n      <td>4746244.5</td>\n      <td>5045478.5</td>\n      <td>0.0</td>\n      <td>1349890.75</td>\n      <td>4605827.0</td>\n      <td>1404.163208</td>\n      <td>140416.0</td>\n      <td>False</td>\n      <td>NaN</td>\n      <td>Compliant</td>\n      <td>NaN</td>\n      <td>39.57</td>\n      <td>0.13</td>\n    </tr>\n  </tbody>\n</table>\n</div>"
     },
     "execution_count": 26,
     "metadata": {},
     "output_type": "execute_result"
    }
   ],
   "source": [
    "data.sample(1)"
   ],
   "metadata": {
    "collapsed": false
   }
  },
  {
   "cell_type": "code",
   "execution_count": 27,
   "outputs": [],
   "source": [
    "#variables cohérentes\n",
    "cols = ['OSEBuildingID', 'DataYear', 'BuildingType', 'PrimaryPropertyType',\n",
    "       'PropertyName','Neighborhood','YearBuilt','NumberofBuildings','NumberofFloors',\n",
    "        'PropertyGFATotal','PropertyGFAParking','PropertyGFABuilding(s)',\n",
    "       'LargestPropertyUseType', 'ENERGYSTARScore',\n",
    "       'SiteEnergyUseWN(kBtu)', 'SteamUse(kBtu)',\n",
    "        'Electricity(kBtu)','NaturalGas(kBtu)','TotalGHGEmissions', 'GHGEmissionsIntensity']\n",
    "data = data[cols]"
   ],
   "metadata": {
    "collapsed": false
   }
  },
  {
   "cell_type": "code",
   "execution_count": 28,
   "outputs": [
    {
     "data": {
      "text/plain": "NonResidential          1460\nMultifamily LR (1-4)    1018\nMultifamily MR (5-9)     580\nMultifamily HR (10+)     110\nSPS-District K-12         98\nNonresidential COS        85\nCampus                    24\nNonresidential WA          1\nName: BuildingType, dtype: int64"
     },
     "execution_count": 28,
     "metadata": {},
     "output_type": "execute_result"
    }
   ],
   "source": [
    "data['BuildingType'].value_counts()"
   ],
   "metadata": {
    "collapsed": false
   }
  },
  {
   "cell_type": "code",
   "execution_count": 29,
   "outputs": [
    {
     "name": "stdout",
     "output_type": "stream",
     "text": [
      "lignes supprimés  1830\n"
     ]
    }
   ],
   "source": [
    "data_length_before = data.shape[0]\n",
    "data['BuildingType'].replace({'Nonresidential COS': 'NonResidential',\n",
    "                              'Nonresidential WA': 'NonResidential'}, inplace=True)\n",
    "data = data.loc[data['BuildingType'] == 'NonResidential']\n",
    "\n",
    "print(f'lignes supprimés  {data_length_before - data.shape[0]}')"
   ],
   "metadata": {
    "collapsed": false
   }
  },
  {
   "cell_type": "code",
   "execution_count": 30,
   "outputs": [
    {
     "data": {
      "text/plain": "OSEBuildingID               0\nDataYear                    0\nBuildingType                0\nPrimaryPropertyType         0\nPropertyName                0\nNeighborhood                0\nYearBuilt                   0\nNumberofBuildings           2\nNumberofFloors              0\nPropertyGFATotal            0\nPropertyGFAParking          0\nPropertyGFABuilding(s)      0\nLargestPropertyUseType      6\nENERGYSTARScore           540\nSiteEnergyUseWN(kBtu)       3\nSteamUse(kBtu)              2\nElectricity(kBtu)           2\nNaturalGas(kBtu)            2\nTotalGHGEmissions           2\nGHGEmissionsIntensity       2\ndtype: int64"
     },
     "execution_count": 30,
     "metadata": {},
     "output_type": "execute_result"
    }
   ],
   "source": [
    "#valeurs manquantes\n",
    "data.isna().sum()"
   ],
   "metadata": {
    "collapsed": false
   }
  },
  {
   "cell_type": "code",
   "execution_count": 31,
   "outputs": [
    {
     "name": "stdout",
     "output_type": "stream",
     "text": [
      "lignes supprimés  7\n"
     ]
    }
   ],
   "source": [
    "#drop toutes lignes qui ont des valeurs nulles sauf EnergyScore\n",
    "data_length_before = data.shape[0]\n",
    "cols = ['LargestPropertyUseType', 'SiteEnergyUseWN(kBtu)', 'GHGEmissionsIntensity', 'TotalGHGEmissions', 'NaturalGas(kBtu)', 'Electricity(kBtu)', 'SteamUse(kBtu)', 'NumberofBuildings']\n",
    "data.dropna(subset=cols, inplace=True)\n",
    "data.isna().sum()\n",
    "print(f'lignes supprimés  {data_length_before - data.shape[0]}')"
   ],
   "metadata": {
    "collapsed": false
   }
  },
  {
   "cell_type": "code",
   "execution_count": 32,
   "outputs": [
    {
     "data": {
      "text/plain": "       OSEBuildingID  DataYear    YearBuilt  NumberofBuildings  \\\ncount    1539.000000    1539.0  1539.000000        1539.000000   \nmean    16609.779727    2016.0  1961.307342           1.035737   \nstd     13858.481096       0.0    32.888052           0.569622   \nmin         1.000000    2016.0  1900.000000           0.000000   \n25%       609.500000    2016.0  1929.000000           1.000000   \n50%     21213.000000    2016.0  1965.000000           1.000000   \n75%     24629.500000    2016.0  1988.000000           1.000000   \nmax     50226.000000    2016.0  2015.000000           9.000000   \n\n       NumberofFloors  PropertyGFATotal  PropertyGFAParking  \\\ncount     1539.000000      1.539000e+03         1539.000000   \nmean         4.283951      1.120106e+05        13829.220273   \nstd          6.796834      1.918960e+05        43730.728115   \nmin          0.000000      1.128500e+04            0.000000   \n25%          1.000000      2.872800e+04            0.000000   \n50%          2.000000      4.721500e+04            0.000000   \n75%          4.000000      1.028880e+05            0.000000   \nmax         99.000000      1.952220e+06       512608.000000   \n\n       PropertyGFABuilding(s)  ENERGYSTARScore  SiteEnergyUseWN(kBtu)  \\\ncount            1.539000e+03      1003.000000           1.539000e+03   \nmean             9.818137e+04        63.790628           7.761522e+06   \nstd              1.685664e+05        28.923639           1.884349e+07   \nmin              3.636000e+03         1.000000           0.000000e+00   \n25%              2.768500e+04        44.000000           1.265929e+06   \n50%              4.508200e+04        71.000000           2.739122e+06   \n75%              9.290600e+04        89.000000           7.227405e+06   \nmax              1.765970e+06       100.000000           2.966717e+08   \n\n       SteamUse(kBtu)  Electricity(kBtu)  NaturalGas(kBtu)  TotalGHGEmissions  \\\ncount    1.539000e+03       1.539000e+03      1.539000e+03        1539.000000   \nmean     4.967574e+05       5.435044e+06      1.672264e+06         165.047498   \nstd      5.314667e+06       1.305847e+07      5.513280e+06         571.657895   \nmin      0.000000e+00      -1.154170e+05      0.000000e+00          -0.800000   \n25%      0.000000e+00       7.075250e+05      0.000000e+00          19.335000   \n50%      0.000000e+00       1.633105e+06      4.313920e+05          48.350000   \n75%      0.000000e+00       5.046944e+06      1.409886e+06         136.735000   \nmax      1.349435e+08       2.745325e+08      1.381912e+08       12307.160000   \n\n       GHGEmissionsIntensity  \ncount            1539.000000  \nmean                1.609890  \nstd                 2.248168  \nmin                -0.020000  \n25%                 0.340000  \n50%                 0.850000  \n75%                 1.940000  \nmax                25.710000  ",
      "text/html": "<div>\n<style scoped>\n    .dataframe tbody tr th:only-of-type {\n        vertical-align: middle;\n    }\n\n    .dataframe tbody tr th {\n        vertical-align: top;\n    }\n\n    .dataframe thead th {\n        text-align: right;\n    }\n</style>\n<table border=\"1\" class=\"dataframe\">\n  <thead>\n    <tr style=\"text-align: right;\">\n      <th></th>\n      <th>OSEBuildingID</th>\n      <th>DataYear</th>\n      <th>YearBuilt</th>\n      <th>NumberofBuildings</th>\n      <th>NumberofFloors</th>\n      <th>PropertyGFATotal</th>\n      <th>PropertyGFAParking</th>\n      <th>PropertyGFABuilding(s)</th>\n      <th>ENERGYSTARScore</th>\n      <th>SiteEnergyUseWN(kBtu)</th>\n      <th>SteamUse(kBtu)</th>\n      <th>Electricity(kBtu)</th>\n      <th>NaturalGas(kBtu)</th>\n      <th>TotalGHGEmissions</th>\n      <th>GHGEmissionsIntensity</th>\n    </tr>\n  </thead>\n  <tbody>\n    <tr>\n      <th>count</th>\n      <td>1539.000000</td>\n      <td>1539.0</td>\n      <td>1539.000000</td>\n      <td>1539.000000</td>\n      <td>1539.000000</td>\n      <td>1.539000e+03</td>\n      <td>1539.000000</td>\n      <td>1.539000e+03</td>\n      <td>1003.000000</td>\n      <td>1.539000e+03</td>\n      <td>1.539000e+03</td>\n      <td>1.539000e+03</td>\n      <td>1.539000e+03</td>\n      <td>1539.000000</td>\n      <td>1539.000000</td>\n    </tr>\n    <tr>\n      <th>mean</th>\n      <td>16609.779727</td>\n      <td>2016.0</td>\n      <td>1961.307342</td>\n      <td>1.035737</td>\n      <td>4.283951</td>\n      <td>1.120106e+05</td>\n      <td>13829.220273</td>\n      <td>9.818137e+04</td>\n      <td>63.790628</td>\n      <td>7.761522e+06</td>\n      <td>4.967574e+05</td>\n      <td>5.435044e+06</td>\n      <td>1.672264e+06</td>\n      <td>165.047498</td>\n      <td>1.609890</td>\n    </tr>\n    <tr>\n      <th>std</th>\n      <td>13858.481096</td>\n      <td>0.0</td>\n      <td>32.888052</td>\n      <td>0.569622</td>\n      <td>6.796834</td>\n      <td>1.918960e+05</td>\n      <td>43730.728115</td>\n      <td>1.685664e+05</td>\n      <td>28.923639</td>\n      <td>1.884349e+07</td>\n      <td>5.314667e+06</td>\n      <td>1.305847e+07</td>\n      <td>5.513280e+06</td>\n      <td>571.657895</td>\n      <td>2.248168</td>\n    </tr>\n    <tr>\n      <th>min</th>\n      <td>1.000000</td>\n      <td>2016.0</td>\n      <td>1900.000000</td>\n      <td>0.000000</td>\n      <td>0.000000</td>\n      <td>1.128500e+04</td>\n      <td>0.000000</td>\n      <td>3.636000e+03</td>\n      <td>1.000000</td>\n      <td>0.000000e+00</td>\n      <td>0.000000e+00</td>\n      <td>-1.154170e+05</td>\n      <td>0.000000e+00</td>\n      <td>-0.800000</td>\n      <td>-0.020000</td>\n    </tr>\n    <tr>\n      <th>25%</th>\n      <td>609.500000</td>\n      <td>2016.0</td>\n      <td>1929.000000</td>\n      <td>1.000000</td>\n      <td>1.000000</td>\n      <td>2.872800e+04</td>\n      <td>0.000000</td>\n      <td>2.768500e+04</td>\n      <td>44.000000</td>\n      <td>1.265929e+06</td>\n      <td>0.000000e+00</td>\n      <td>7.075250e+05</td>\n      <td>0.000000e+00</td>\n      <td>19.335000</td>\n      <td>0.340000</td>\n    </tr>\n    <tr>\n      <th>50%</th>\n      <td>21213.000000</td>\n      <td>2016.0</td>\n      <td>1965.000000</td>\n      <td>1.000000</td>\n      <td>2.000000</td>\n      <td>4.721500e+04</td>\n      <td>0.000000</td>\n      <td>4.508200e+04</td>\n      <td>71.000000</td>\n      <td>2.739122e+06</td>\n      <td>0.000000e+00</td>\n      <td>1.633105e+06</td>\n      <td>4.313920e+05</td>\n      <td>48.350000</td>\n      <td>0.850000</td>\n    </tr>\n    <tr>\n      <th>75%</th>\n      <td>24629.500000</td>\n      <td>2016.0</td>\n      <td>1988.000000</td>\n      <td>1.000000</td>\n      <td>4.000000</td>\n      <td>1.028880e+05</td>\n      <td>0.000000</td>\n      <td>9.290600e+04</td>\n      <td>89.000000</td>\n      <td>7.227405e+06</td>\n      <td>0.000000e+00</td>\n      <td>5.046944e+06</td>\n      <td>1.409886e+06</td>\n      <td>136.735000</td>\n      <td>1.940000</td>\n    </tr>\n    <tr>\n      <th>max</th>\n      <td>50226.000000</td>\n      <td>2016.0</td>\n      <td>2015.000000</td>\n      <td>9.000000</td>\n      <td>99.000000</td>\n      <td>1.952220e+06</td>\n      <td>512608.000000</td>\n      <td>1.765970e+06</td>\n      <td>100.000000</td>\n      <td>2.966717e+08</td>\n      <td>1.349435e+08</td>\n      <td>2.745325e+08</td>\n      <td>1.381912e+08</td>\n      <td>12307.160000</td>\n      <td>25.710000</td>\n    </tr>\n  </tbody>\n</table>\n</div>"
     },
     "execution_count": 32,
     "metadata": {},
     "output_type": "execute_result"
    }
   ],
   "source": [
    "data.describe()"
   ],
   "metadata": {
    "collapsed": false
   }
  },
  {
   "cell_type": "code",
   "execution_count": 33,
   "outputs": [
    {
     "name": "stdout",
     "output_type": "stream",
     "text": [
      "lignes supprimés  1\n"
     ]
    }
   ],
   "source": [
    "data_length_before = data.shape[0]\n",
    "cols = data.select_dtypes(include=[np.number]).columns\n",
    "data = data[~(data[cols] < 0).any(axis=1)].copy()\n",
    "print(f'lignes supprimés  {data_length_before - data.shape[0]}')"
   ],
   "metadata": {
    "collapsed": false
   }
  },
  {
   "cell_type": "code",
   "execution_count": 34,
   "outputs": [
    {
     "name": "stdout",
     "output_type": "stream",
     "text": [
      "lignes supprimés  0\n"
     ]
    }
   ],
   "source": [
    "data_length_before = data.shape[0]\n",
    "difference = abs(data['PropertyGFATotal'] - (data['PropertyGFABuilding(s)'] + data['PropertyGFAParking']))\n",
    "data = data[difference == 0]\n",
    "print(f'lignes supprimés  {data_length_before - data.shape[0]}')"
   ],
   "metadata": {
    "collapsed": false
   }
  },
  {
   "cell_type": "code",
   "execution_count": 35,
   "outputs": [],
   "source": [
    "#J'enregistre les data des EnergyScore rempli à part pour plus tard\n",
    "data_energy_star_filtered = data[data['ENERGYSTARScore'].notna()]\n",
    "data_energy_star_filtered.to_csv('data_energy_star_filtered.csv', index=False)"
   ],
   "metadata": {
    "collapsed": false
   }
  },
  {
   "cell_type": "code",
   "execution_count": 36,
   "outputs": [],
   "source": [
    "# Récupération des 80% aléatoires\n",
    "np.random.seed(0)\n",
    "training_set_sample = np.random.randint(data.shape[0], size=int(data.shape[0] * 0.8) )\n",
    "training_set = data.iloc[training_set_sample]\n",
    "training_set.to_csv('training_set.csv', index=False)"
   ],
   "metadata": {
    "collapsed": false
   }
  },
  {
   "cell_type": "code",
   "execution_count": 37,
   "outputs": [],
   "source": [
    "# Récupération des 20% restants\n",
    "testing_set = data[~data.index.isin(training_set.index)]\n",
    "testing_set.to_csv('testing_set.csv', index=False)"
   ],
   "metadata": {
    "collapsed": false
   }
  }
 ],
 "metadata": {
  "kernelspec": {
   "display_name": "Python 3",
   "language": "python",
   "name": "python3"
  },
  "language_info": {
   "codemirror_mode": {
    "name": "ipython",
    "version": 2
   },
   "file_extension": ".py",
   "mimetype": "text/x-python",
   "name": "python",
   "nbconvert_exporter": "python",
   "pygments_lexer": "ipython2",
   "version": "2.7.6"
  }
 },
 "nbformat": 4,
 "nbformat_minor": 0
}
