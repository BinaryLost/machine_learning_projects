{
 "cells": [
  {
   "cell_type": "code",
   "execution_count": 34,
   "metadata": {
    "collapsed": true
   },
   "outputs": [],
   "source": [
    "#import des fichiers et load des ressources\n",
    "import pandas as pd\n",
    "import numpy as np\n",
    "from sklearn.preprocessing import StandardScaler\n",
    "\n",
    "data = pd.read_csv('2016_Building_Energy_Benchmarking.csv')\n",
    "pd.options.display.max_columns = data.shape[1]"
   ]
  },
  {
   "cell_type": "code",
   "execution_count": 35,
   "outputs": [
    {
     "data": {
      "text/plain": "      OSEBuildingID  DataYear    BuildingType PrimaryPropertyType  \\\n3130          40028      2016  NonResidential           Warehouse   \n\n      PropertyName           Address     City State  ZipCode  \\\n3130  Sandpoint #5  7561 63rd Ave NE  Seattle    WA  98115.0   \n\n     TaxParcelIdentificationNumber  CouncilDistrictCode Neighborhood  \\\n3130                    0225049077                    4    NORTHEAST   \n\n      Latitude  Longitude  YearBuilt  NumberofBuildings  NumberofFloors  \\\n3130  47.68454 -122.26235       1940                1.0               0   \n\n      PropertyGFATotal  PropertyGFAParking  PropertyGFABuilding(s)  \\\n3130            384772                   0                  384772   \n\n               ListOfAllPropertyUseTypes      LargestPropertyUseType  \\\n3130  Non-Refrigerated Warehouse, Office  Non-Refrigerated Warehouse   \n\n      LargestPropertyUseTypeGFA SecondLargestPropertyUseType  \\\n3130                   349953.0                       Office   \n\n      SecondLargestPropertyUseTypeGFA ThirdLargestPropertyUseType  \\\n3130                          63872.0                         NaN   \n\n      ThirdLargestPropertyUseTypeGFA YearsENERGYSTARCertified  \\\n3130                             NaN                      NaN   \n\n      ENERGYSTARScore  SiteEUI(kBtu/sf)  SiteEUIWN(kBtu/sf)  \\\n3130             69.0         36.700001                39.0   \n\n      SourceEUI(kBtu/sf)  SourceEUIWN(kBtu/sf)  SiteEnergyUse(kBtu)  \\\n3130           84.099998                  86.5           15206762.0   \n\n      SiteEnergyUseWN(kBtu)  SteamUse(kBtu)  Electricity(kWh)  \\\n3130             16139557.0             0.0         2642108.0   \n\n      Electricity(kBtu)  NaturalGas(therms)  NaturalGas(kBtu)  DefaultData  \\\n3130          9014872.0         61918.87891         6191888.0        False   \n\n      Comments ComplianceStatus Outlier  TotalGHGEmissions  \\\n3130       NaN        Compliant     NaN              391.7   \n\n      GHGEmissionsIntensity  \n3130                   1.02  ",
      "text/html": "<div>\n<style scoped>\n    .dataframe tbody tr th:only-of-type {\n        vertical-align: middle;\n    }\n\n    .dataframe tbody tr th {\n        vertical-align: top;\n    }\n\n    .dataframe thead th {\n        text-align: right;\n    }\n</style>\n<table border=\"1\" class=\"dataframe\">\n  <thead>\n    <tr style=\"text-align: right;\">\n      <th></th>\n      <th>OSEBuildingID</th>\n      <th>DataYear</th>\n      <th>BuildingType</th>\n      <th>PrimaryPropertyType</th>\n      <th>PropertyName</th>\n      <th>Address</th>\n      <th>City</th>\n      <th>State</th>\n      <th>ZipCode</th>\n      <th>TaxParcelIdentificationNumber</th>\n      <th>CouncilDistrictCode</th>\n      <th>Neighborhood</th>\n      <th>Latitude</th>\n      <th>Longitude</th>\n      <th>YearBuilt</th>\n      <th>NumberofBuildings</th>\n      <th>NumberofFloors</th>\n      <th>PropertyGFATotal</th>\n      <th>PropertyGFAParking</th>\n      <th>PropertyGFABuilding(s)</th>\n      <th>ListOfAllPropertyUseTypes</th>\n      <th>LargestPropertyUseType</th>\n      <th>LargestPropertyUseTypeGFA</th>\n      <th>SecondLargestPropertyUseType</th>\n      <th>SecondLargestPropertyUseTypeGFA</th>\n      <th>ThirdLargestPropertyUseType</th>\n      <th>ThirdLargestPropertyUseTypeGFA</th>\n      <th>YearsENERGYSTARCertified</th>\n      <th>ENERGYSTARScore</th>\n      <th>SiteEUI(kBtu/sf)</th>\n      <th>SiteEUIWN(kBtu/sf)</th>\n      <th>SourceEUI(kBtu/sf)</th>\n      <th>SourceEUIWN(kBtu/sf)</th>\n      <th>SiteEnergyUse(kBtu)</th>\n      <th>SiteEnergyUseWN(kBtu)</th>\n      <th>SteamUse(kBtu)</th>\n      <th>Electricity(kWh)</th>\n      <th>Electricity(kBtu)</th>\n      <th>NaturalGas(therms)</th>\n      <th>NaturalGas(kBtu)</th>\n      <th>DefaultData</th>\n      <th>Comments</th>\n      <th>ComplianceStatus</th>\n      <th>Outlier</th>\n      <th>TotalGHGEmissions</th>\n      <th>GHGEmissionsIntensity</th>\n    </tr>\n  </thead>\n  <tbody>\n    <tr>\n      <th>3130</th>\n      <td>40028</td>\n      <td>2016</td>\n      <td>NonResidential</td>\n      <td>Warehouse</td>\n      <td>Sandpoint #5</td>\n      <td>7561 63rd Ave NE</td>\n      <td>Seattle</td>\n      <td>WA</td>\n      <td>98115.0</td>\n      <td>0225049077</td>\n      <td>4</td>\n      <td>NORTHEAST</td>\n      <td>47.68454</td>\n      <td>-122.26235</td>\n      <td>1940</td>\n      <td>1.0</td>\n      <td>0</td>\n      <td>384772</td>\n      <td>0</td>\n      <td>384772</td>\n      <td>Non-Refrigerated Warehouse, Office</td>\n      <td>Non-Refrigerated Warehouse</td>\n      <td>349953.0</td>\n      <td>Office</td>\n      <td>63872.0</td>\n      <td>NaN</td>\n      <td>NaN</td>\n      <td>NaN</td>\n      <td>69.0</td>\n      <td>36.700001</td>\n      <td>39.0</td>\n      <td>84.099998</td>\n      <td>86.5</td>\n      <td>15206762.0</td>\n      <td>16139557.0</td>\n      <td>0.0</td>\n      <td>2642108.0</td>\n      <td>9014872.0</td>\n      <td>61918.87891</td>\n      <td>6191888.0</td>\n      <td>False</td>\n      <td>NaN</td>\n      <td>Compliant</td>\n      <td>NaN</td>\n      <td>391.7</td>\n      <td>1.02</td>\n    </tr>\n  </tbody>\n</table>\n</div>"
     },
     "execution_count": 35,
     "metadata": {},
     "output_type": "execute_result"
    }
   ],
   "source": [
    "data.sample(1)"
   ],
   "metadata": {
    "collapsed": false
   }
  },
  {
   "cell_type": "code",
   "execution_count": 36,
   "outputs": [],
   "source": [
    "#variables cohérentes\n",
    "cols = ['OSEBuildingID', 'DataYear', 'BuildingType',\n",
    "       'PropertyName','Neighborhood','YearBuilt','NumberofBuildings','NumberofFloors',\n",
    "        'PropertyGFATotal','PropertyGFAParking','PropertyGFABuilding(s)',\n",
    "       'LargestPropertyUseType', 'ENERGYSTARScore',\n",
    "       'SiteEnergyUseWN(kBtu)', 'SteamUse(kBtu)',\n",
    "        'Electricity(kBtu)','NaturalGas(kBtu)','TotalGHGEmissions']\n",
    "data = data[cols]"
   ],
   "metadata": {
    "collapsed": false
   }
  },
  {
   "cell_type": "code",
   "execution_count": 37,
   "outputs": [
    {
     "data": {
      "text/plain": "NonResidential          1460\nMultifamily LR (1-4)    1018\nMultifamily MR (5-9)     580\nMultifamily HR (10+)     110\nSPS-District K-12         98\nNonresidential COS        85\nCampus                    24\nNonresidential WA          1\nName: BuildingType, dtype: int64"
     },
     "execution_count": 37,
     "metadata": {},
     "output_type": "execute_result"
    }
   ],
   "source": [
    "data['BuildingType'].value_counts()"
   ],
   "metadata": {
    "collapsed": false
   }
  },
  {
   "cell_type": "code",
   "execution_count": 38,
   "outputs": [
    {
     "name": "stdout",
     "output_type": "stream",
     "text": [
      "lignes supprimés  1830\n"
     ]
    }
   ],
   "source": [
    "data_length_before = data.shape[0]\n",
    "data['BuildingType'].replace({'Nonresidential COS': 'NonResidential',\n",
    "                              'Nonresidential WA': 'NonResidential'}, inplace=True)\n",
    "data = data.loc[data['BuildingType'] == 'NonResidential']\n",
    "\n",
    "print(f'lignes supprimés  {data_length_before - data.shape[0]}')"
   ],
   "metadata": {
    "collapsed": false
   }
  },
  {
   "cell_type": "code",
   "execution_count": 39,
   "outputs": [
    {
     "data": {
      "text/plain": "OSEBuildingID               0\nDataYear                    0\nBuildingType                0\nPropertyName                0\nNeighborhood                0\nYearBuilt                   0\nNumberofBuildings           2\nNumberofFloors              0\nPropertyGFATotal            0\nPropertyGFAParking          0\nPropertyGFABuilding(s)      0\nLargestPropertyUseType      6\nENERGYSTARScore           540\nSiteEnergyUseWN(kBtu)       3\nSteamUse(kBtu)              2\nElectricity(kBtu)           2\nNaturalGas(kBtu)            2\nTotalGHGEmissions           2\ndtype: int64"
     },
     "execution_count": 39,
     "metadata": {},
     "output_type": "execute_result"
    }
   ],
   "source": [
    "#valeurs manquantes\n",
    "data.isna().sum()"
   ],
   "metadata": {
    "collapsed": false
   }
  },
  {
   "cell_type": "code",
   "execution_count": 40,
   "outputs": [
    {
     "name": "stdout",
     "output_type": "stream",
     "text": [
      "lignes supprimés  7\n"
     ]
    }
   ],
   "source": [
    "#drop toutes lignes qui ont des valeurs nulles sauf EnergyScore\n",
    "data_length_before = data.shape[0]\n",
    "cols = ['LargestPropertyUseType', 'SiteEnergyUseWN(kBtu)', 'TotalGHGEmissions', 'NaturalGas(kBtu)', 'Electricity(kBtu)', 'SteamUse(kBtu)', 'NumberofBuildings']\n",
    "data.dropna(subset=cols, inplace=True)\n",
    "data.isna().sum()\n",
    "print(f'lignes supprimés  {data_length_before - data.shape[0]}')"
   ],
   "metadata": {
    "collapsed": false
   }
  },
  {
   "cell_type": "code",
   "execution_count": 41,
   "outputs": [
    {
     "data": {
      "text/plain": "       OSEBuildingID  DataYear    YearBuilt  NumberofBuildings  \\\ncount    1539.000000    1539.0  1539.000000        1539.000000   \nmean    16609.779727    2016.0  1961.307342           1.035737   \nstd     13858.481096       0.0    32.888052           0.569622   \nmin         1.000000    2016.0  1900.000000           0.000000   \n25%       609.500000    2016.0  1929.000000           1.000000   \n50%     21213.000000    2016.0  1965.000000           1.000000   \n75%     24629.500000    2016.0  1988.000000           1.000000   \nmax     50226.000000    2016.0  2015.000000           9.000000   \n\n       NumberofFloors  PropertyGFATotal  PropertyGFAParking  \\\ncount     1539.000000      1.539000e+03         1539.000000   \nmean         4.283951      1.120106e+05        13829.220273   \nstd          6.796834      1.918960e+05        43730.728115   \nmin          0.000000      1.128500e+04            0.000000   \n25%          1.000000      2.872800e+04            0.000000   \n50%          2.000000      4.721500e+04            0.000000   \n75%          4.000000      1.028880e+05            0.000000   \nmax         99.000000      1.952220e+06       512608.000000   \n\n       PropertyGFABuilding(s)  ENERGYSTARScore  SiteEnergyUseWN(kBtu)  \\\ncount            1.539000e+03      1003.000000           1.539000e+03   \nmean             9.818137e+04        63.790628           7.761522e+06   \nstd              1.685664e+05        28.923639           1.884349e+07   \nmin              3.636000e+03         1.000000           0.000000e+00   \n25%              2.768500e+04        44.000000           1.265929e+06   \n50%              4.508200e+04        71.000000           2.739122e+06   \n75%              9.290600e+04        89.000000           7.227405e+06   \nmax              1.765970e+06       100.000000           2.966717e+08   \n\n       SteamUse(kBtu)  Electricity(kBtu)  NaturalGas(kBtu)  TotalGHGEmissions  \ncount    1.539000e+03       1.539000e+03      1.539000e+03        1539.000000  \nmean     4.967574e+05       5.435044e+06      1.672264e+06         165.047498  \nstd      5.314667e+06       1.305847e+07      5.513280e+06         571.657895  \nmin      0.000000e+00      -1.154170e+05      0.000000e+00          -0.800000  \n25%      0.000000e+00       7.075250e+05      0.000000e+00          19.335000  \n50%      0.000000e+00       1.633105e+06      4.313920e+05          48.350000  \n75%      0.000000e+00       5.046944e+06      1.409886e+06         136.735000  \nmax      1.349435e+08       2.745325e+08      1.381912e+08       12307.160000  ",
      "text/html": "<div>\n<style scoped>\n    .dataframe tbody tr th:only-of-type {\n        vertical-align: middle;\n    }\n\n    .dataframe tbody tr th {\n        vertical-align: top;\n    }\n\n    .dataframe thead th {\n        text-align: right;\n    }\n</style>\n<table border=\"1\" class=\"dataframe\">\n  <thead>\n    <tr style=\"text-align: right;\">\n      <th></th>\n      <th>OSEBuildingID</th>\n      <th>DataYear</th>\n      <th>YearBuilt</th>\n      <th>NumberofBuildings</th>\n      <th>NumberofFloors</th>\n      <th>PropertyGFATotal</th>\n      <th>PropertyGFAParking</th>\n      <th>PropertyGFABuilding(s)</th>\n      <th>ENERGYSTARScore</th>\n      <th>SiteEnergyUseWN(kBtu)</th>\n      <th>SteamUse(kBtu)</th>\n      <th>Electricity(kBtu)</th>\n      <th>NaturalGas(kBtu)</th>\n      <th>TotalGHGEmissions</th>\n    </tr>\n  </thead>\n  <tbody>\n    <tr>\n      <th>count</th>\n      <td>1539.000000</td>\n      <td>1539.0</td>\n      <td>1539.000000</td>\n      <td>1539.000000</td>\n      <td>1539.000000</td>\n      <td>1.539000e+03</td>\n      <td>1539.000000</td>\n      <td>1.539000e+03</td>\n      <td>1003.000000</td>\n      <td>1.539000e+03</td>\n      <td>1.539000e+03</td>\n      <td>1.539000e+03</td>\n      <td>1.539000e+03</td>\n      <td>1539.000000</td>\n    </tr>\n    <tr>\n      <th>mean</th>\n      <td>16609.779727</td>\n      <td>2016.0</td>\n      <td>1961.307342</td>\n      <td>1.035737</td>\n      <td>4.283951</td>\n      <td>1.120106e+05</td>\n      <td>13829.220273</td>\n      <td>9.818137e+04</td>\n      <td>63.790628</td>\n      <td>7.761522e+06</td>\n      <td>4.967574e+05</td>\n      <td>5.435044e+06</td>\n      <td>1.672264e+06</td>\n      <td>165.047498</td>\n    </tr>\n    <tr>\n      <th>std</th>\n      <td>13858.481096</td>\n      <td>0.0</td>\n      <td>32.888052</td>\n      <td>0.569622</td>\n      <td>6.796834</td>\n      <td>1.918960e+05</td>\n      <td>43730.728115</td>\n      <td>1.685664e+05</td>\n      <td>28.923639</td>\n      <td>1.884349e+07</td>\n      <td>5.314667e+06</td>\n      <td>1.305847e+07</td>\n      <td>5.513280e+06</td>\n      <td>571.657895</td>\n    </tr>\n    <tr>\n      <th>min</th>\n      <td>1.000000</td>\n      <td>2016.0</td>\n      <td>1900.000000</td>\n      <td>0.000000</td>\n      <td>0.000000</td>\n      <td>1.128500e+04</td>\n      <td>0.000000</td>\n      <td>3.636000e+03</td>\n      <td>1.000000</td>\n      <td>0.000000e+00</td>\n      <td>0.000000e+00</td>\n      <td>-1.154170e+05</td>\n      <td>0.000000e+00</td>\n      <td>-0.800000</td>\n    </tr>\n    <tr>\n      <th>25%</th>\n      <td>609.500000</td>\n      <td>2016.0</td>\n      <td>1929.000000</td>\n      <td>1.000000</td>\n      <td>1.000000</td>\n      <td>2.872800e+04</td>\n      <td>0.000000</td>\n      <td>2.768500e+04</td>\n      <td>44.000000</td>\n      <td>1.265929e+06</td>\n      <td>0.000000e+00</td>\n      <td>7.075250e+05</td>\n      <td>0.000000e+00</td>\n      <td>19.335000</td>\n    </tr>\n    <tr>\n      <th>50%</th>\n      <td>21213.000000</td>\n      <td>2016.0</td>\n      <td>1965.000000</td>\n      <td>1.000000</td>\n      <td>2.000000</td>\n      <td>4.721500e+04</td>\n      <td>0.000000</td>\n      <td>4.508200e+04</td>\n      <td>71.000000</td>\n      <td>2.739122e+06</td>\n      <td>0.000000e+00</td>\n      <td>1.633105e+06</td>\n      <td>4.313920e+05</td>\n      <td>48.350000</td>\n    </tr>\n    <tr>\n      <th>75%</th>\n      <td>24629.500000</td>\n      <td>2016.0</td>\n      <td>1988.000000</td>\n      <td>1.000000</td>\n      <td>4.000000</td>\n      <td>1.028880e+05</td>\n      <td>0.000000</td>\n      <td>9.290600e+04</td>\n      <td>89.000000</td>\n      <td>7.227405e+06</td>\n      <td>0.000000e+00</td>\n      <td>5.046944e+06</td>\n      <td>1.409886e+06</td>\n      <td>136.735000</td>\n    </tr>\n    <tr>\n      <th>max</th>\n      <td>50226.000000</td>\n      <td>2016.0</td>\n      <td>2015.000000</td>\n      <td>9.000000</td>\n      <td>99.000000</td>\n      <td>1.952220e+06</td>\n      <td>512608.000000</td>\n      <td>1.765970e+06</td>\n      <td>100.000000</td>\n      <td>2.966717e+08</td>\n      <td>1.349435e+08</td>\n      <td>2.745325e+08</td>\n      <td>1.381912e+08</td>\n      <td>12307.160000</td>\n    </tr>\n  </tbody>\n</table>\n</div>"
     },
     "execution_count": 41,
     "metadata": {},
     "output_type": "execute_result"
    }
   ],
   "source": [
    "data.describe()"
   ],
   "metadata": {
    "collapsed": false
   }
  },
  {
   "cell_type": "code",
   "execution_count": 42,
   "outputs": [
    {
     "name": "stdout",
     "output_type": "stream",
     "text": [
      "lignes supprimés  1\n"
     ]
    }
   ],
   "source": [
    "data_length_before = data.shape[0]\n",
    "cols = data.select_dtypes(include=[np.number]).columns\n",
    "data = data[~(data[cols] < 0).any(axis=1)].copy()\n",
    "print(f'lignes supprimés  {data_length_before - data.shape[0]}')"
   ],
   "metadata": {
    "collapsed": false
   }
  },
  {
   "cell_type": "code",
   "execution_count": 43,
   "outputs": [
    {
     "name": "stdout",
     "output_type": "stream",
     "text": [
      "lignes supprimés  0\n"
     ]
    }
   ],
   "source": [
    "data_length_before = data.shape[0]\n",
    "difference = abs(data['PropertyGFATotal'] - (data['PropertyGFABuilding(s)'] + data['PropertyGFAParking']))\n",
    "data = data[difference == 0]\n",
    "print(f'lignes supprimés  {data_length_before - data.shape[0]}')"
   ],
   "metadata": {
    "collapsed": false
   }
  },
  {
   "cell_type": "code",
   "execution_count": 44,
   "outputs": [],
   "source": [
    "#création d'une colonne ancienneté à partir des variable DataYear et YearBuilt\n",
    "data['Ancienneté'] = data['DataYear'] - data['YearBuilt']\n",
    "data = data.drop('YearBuilt', axis=1)\n"
   ],
   "metadata": {
    "collapsed": false
   }
  },
  {
   "cell_type": "code",
   "execution_count": 45,
   "outputs": [],
   "source": [
    "data = pd.concat([data, pd.get_dummies(data['Neighborhood'], prefix='Neighborhood')], axis=1)\n",
    "data = pd.concat([data, pd.get_dummies(data['LargestPropertyUseType'], prefix='LargestPropertyUseType')], axis=1)\n",
    "dummy_cols = data.filter(regex='^(LargestPropertyUseType_|Neighborhood_)')\n",
    "data = data.loc[:, (data != 0).any(axis=0) | (dummy_cols != 0).any(axis=0)]\n"
   ],
   "metadata": {
    "collapsed": false
   }
  },
  {
   "cell_type": "code",
   "execution_count": 46,
   "outputs": [],
   "source": [
    "#energy non nulle\n",
    "data_energy_star_filtered = data[data['ENERGYSTARScore'].notna()]\n",
    "data.to_csv('energy_star_only.csv', index=False)\n",
    "data.loc[data['ENERGYSTARScore'].isnull(), 'ENERGYSTARScore'] = -1"
   ],
   "metadata": {
    "collapsed": false
   }
  },
  {
   "cell_type": "code",
   "execution_count": 47,
   "outputs": [],
   "source": [
    "data.to_csv('cleaned_data.csv', index=False)"
   ],
   "metadata": {
    "collapsed": false
   }
  },
  {
   "cell_type": "code",
   "execution_count": 48,
   "outputs": [
    {
     "data": {
      "text/plain": "1538"
     },
     "execution_count": 48,
     "metadata": {},
     "output_type": "execute_result"
    }
   ],
   "source": [
    "data.shape[0]"
   ],
   "metadata": {
    "collapsed": false
   }
  },
  {
   "cell_type": "code",
   "execution_count": 49,
   "outputs": [
    {
     "data": {
      "text/plain": "      OSEBuildingID  DataYear    BuildingType  \\\n0                 1      2016  NonResidential   \n1                 2      2016  NonResidential   \n2                 3      2016  NonResidential   \n3                 5      2016  NonResidential   \n4                 8      2016  NonResidential   \n...             ...       ...             ...   \n3371          50222      2016  NonResidential   \n3372          50223      2016  NonResidential   \n3373          50224      2016  NonResidential   \n3374          50225      2016  NonResidential   \n3375          50226      2016  NonResidential   \n\n                             PropertyName           Neighborhood  \\\n0                    Mayflower park hotel               DOWNTOWN   \n1                         Paramount Hotel               DOWNTOWN   \n2                 5673-The Westin Seattle               DOWNTOWN   \n3                               HOTEL MAX               DOWNTOWN   \n4             WARWICK SEATTLE HOTEL (ID8)               DOWNTOWN   \n...                                   ...                    ...   \n3371                Horticulture building       GREATER DUWAMISH   \n3372  International district/Chinatown CC               DOWNTOWN   \n3373                      Queen Anne Pool  MAGNOLIA / QUEEN ANNE   \n3374          South Park Community Center       GREATER DUWAMISH   \n3375          Van Asselt Community Center       GREATER DUWAMISH   \n\n      NumberofBuildings  NumberofFloors  PropertyGFATotal  PropertyGFAParking  \\\n0                   1.0              12             88434                   0   \n1                   1.0              11            103566               15064   \n2                   1.0              41            956110              196718   \n3                   1.0              10             61320                   0   \n4                   1.0              18            175580               62000   \n...                 ...             ...               ...                 ...   \n3371                1.0               1             12294                   0   \n3372                1.0               1             16000                   0   \n3373                1.0               1             13157                   0   \n3374                1.0               1             14101                   0   \n3375                1.0               1             18258                   0   \n\n      PropertyGFABuilding(s) LargestPropertyUseType  ENERGYSTARScore  \\\n0                      88434                  Hotel             60.0   \n1                      88502                  Hotel             61.0   \n2                     759392                  Hotel             43.0   \n3                      61320                  Hotel             56.0   \n4                     113580                  Hotel             75.0   \n...                      ...                    ...              ...   \n3371                   12294                 Office             46.0   \n3372                   16000     Other - Recreation             -1.0   \n3373                   13157     Other - Recreation             -1.0   \n3374                   14101     Other - Recreation             -1.0   \n3375                   18258     Other - Recreation             -1.0   \n\n      SiteEnergyUseWN(kBtu)  SteamUse(kBtu)  Electricity(kBtu)  \\\n0              7.456910e+06      2003882.00       3.946027e+06   \n1              8.664479e+06            0.00       3.242851e+06   \n2              7.393711e+07     21566554.00       4.952666e+07   \n3              6.946800e+06      2214446.25       2.768924e+06   \n4              1.465650e+07            0.00       5.368607e+06   \n...                     ...             ...                ...   \n3371           9.430032e+05            0.00       5.242709e+05   \n3372           1.053706e+06            0.00       3.965461e+05   \n3373           6.053764e+06            0.00       1.792159e+06   \n3374           7.828413e+05            0.00       3.488702e+05   \n3375           1.293722e+06            0.00       4.325542e+05   \n\n      NaturalGas(kBtu)  TotalGHGEmissions  Ancienneté  Neighborhood_BALLARD  \\\n0         1.276453e+06             249.98          89                     0   \n1         5.145082e+06             295.86          20                     0   \n2         1.493800e+06            2089.28          47                     0   \n3         1.811213e+06             286.43          90                     0   \n4         8.803998e+06             505.01          36                     0   \n...                ...                ...         ...                   ...   \n3371      3.254750e+05              20.94          26                     0   \n3372      5.537300e+05              32.17          12                     0   \n3373      3.973739e+06             223.54          42                     0   \n3374      3.706010e+05              22.11          27                     0   \n3375      7.203420e+05              41.27          78                     0   \n\n      Neighborhood_Ballard  Neighborhood_CENTRAL  Neighborhood_Central  \\\n0                        0                     0                     0   \n1                        0                     0                     0   \n2                        0                     0                     0   \n3                        0                     0                     0   \n4                        0                     0                     0   \n...                    ...                   ...                   ...   \n3371                     0                     0                     0   \n3372                     0                     0                     0   \n3373                     0                     0                     0   \n3374                     0                     0                     0   \n3375                     0                     0                     0   \n\n      Neighborhood_DELRIDGE  ...  LargestPropertyUseType_Other - Services  \\\n0                         0  ...                                        0   \n1                         0  ...                                        0   \n2                         0  ...                                        0   \n3                         0  ...                                        0   \n4                         0  ...                                        0   \n...                     ...  ...                                      ...   \n3371                      0  ...                                        0   \n3372                      0  ...                                        0   \n3373                      0  ...                                        0   \n3374                      0  ...                                        0   \n3375                      0  ...                                        0   \n\n      LargestPropertyUseType_Other - Utility  \\\n0                                          0   \n1                                          0   \n2                                          0   \n3                                          0   \n4                                          0   \n...                                      ...   \n3371                                       0   \n3372                                       0   \n3373                                       0   \n3374                                       0   \n3375                                       0   \n\n      LargestPropertyUseType_Other/Specialty Hospital  \\\n0                                                   0   \n1                                                   0   \n2                                                   0   \n3                                                   0   \n4                                                   0   \n...                                               ...   \n3371                                                0   \n3372                                                0   \n3373                                                0   \n3374                                                0   \n3375                                                0   \n\n      LargestPropertyUseType_Parking  LargestPropertyUseType_Performing Arts  \\\n0                                  0                                       0   \n1                                  0                                       0   \n2                                  0                                       0   \n3                                  0                                       0   \n4                                  0                                       0   \n...                              ...                                     ...   \n3371                               0                                       0   \n3372                               0                                       0   \n3373                               0                                       0   \n3374                               0                                       0   \n3375                               0                                       0   \n\n      LargestPropertyUseType_Personal Services (Health/Beauty, Dry Cleaning, etc)  \\\n0                                                     0                             \n1                                                     0                             \n2                                                     0                             \n3                                                     0                             \n4                                                     0                             \n...                                                 ...                             \n3371                                                  0                             \n3372                                                  0                             \n3373                                                  0                             \n3374                                                  0                             \n3375                                                  0                             \n\n      LargestPropertyUseType_Police Station  \\\n0                                         0   \n1                                         0   \n2                                         0   \n3                                         0   \n4                                         0   \n...                                     ...   \n3371                                      0   \n3372                                      0   \n3373                                      0   \n3374                                      0   \n3375                                      0   \n\n      LargestPropertyUseType_Pre-school/Daycare  \\\n0                                             0   \n1                                             0   \n2                                             0   \n3                                             0   \n4                                             0   \n...                                         ...   \n3371                                          0   \n3372                                          0   \n3373                                          0   \n3374                                          0   \n3375                                          0   \n\n      LargestPropertyUseType_Prison/Incarceration  \\\n0                                               0   \n1                                               0   \n2                                               0   \n3                                               0   \n4                                               0   \n...                                           ...   \n3371                                            0   \n3372                                            0   \n3373                                            0   \n3374                                            0   \n3375                                            0   \n\n      LargestPropertyUseType_Refrigerated Warehouse  \\\n0                                                 0   \n1                                                 0   \n2                                                 0   \n3                                                 0   \n4                                                 0   \n...                                             ...   \n3371                                              0   \n3372                                              0   \n3373                                              0   \n3374                                              0   \n3375                                              0   \n\n      LargestPropertyUseType_Repair Services (Vehicle, Shoe, Locksmith, etc)  \\\n0                                                     0                        \n1                                                     0                        \n2                                                     0                        \n3                                                     0                        \n4                                                     0                        \n...                                                 ...                        \n3371                                                  0                        \n3372                                                  0                        \n3373                                                  0                        \n3374                                                  0                        \n3375                                                  0                        \n\n      LargestPropertyUseType_Residence Hall/Dormitory  \\\n0                                                   0   \n1                                                   0   \n2                                                   0   \n3                                                   0   \n4                                                   0   \n...                                               ...   \n3371                                                0   \n3372                                                0   \n3373                                                0   \n3374                                                0   \n3375                                                0   \n\n      LargestPropertyUseType_Residential Care Facility  \\\n0                                                    0   \n1                                                    0   \n2                                                    0   \n3                                                    0   \n4                                                    0   \n...                                                ...   \n3371                                                 0   \n3372                                                 0   \n3373                                                 0   \n3374                                                 0   \n3375                                                 0   \n\n      LargestPropertyUseType_Restaurant  LargestPropertyUseType_Retail Store  \\\n0                                     0                                    0   \n1                                     0                                    0   \n2                                     0                                    0   \n3                                     0                                    0   \n4                                     0                                    0   \n...                                 ...                                  ...   \n3371                                  0                                    0   \n3372                                  0                                    0   \n3373                                  0                                    0   \n3374                                  0                                    0   \n3375                                  0                                    0   \n\n      LargestPropertyUseType_Self-Storage Facility  \\\n0                                                0   \n1                                                0   \n2                                                0   \n3                                                0   \n4                                                0   \n...                                            ...   \n3371                                             0   \n3372                                             0   \n3373                                             0   \n3374                                             0   \n3375                                             0   \n\n      LargestPropertyUseType_Senior Care Community  \\\n0                                                0   \n1                                                0   \n2                                                0   \n3                                                0   \n4                                                0   \n...                                            ...   \n3371                                             0   \n3372                                             0   \n3373                                             0   \n3374                                             0   \n3375                                             0   \n\n      LargestPropertyUseType_Social/Meeting Hall  \\\n0                                              0   \n1                                              0   \n2                                              0   \n3                                              0   \n4                                              0   \n...                                          ...   \n3371                                           0   \n3372                                           0   \n3373                                           0   \n3374                                           0   \n3375                                           0   \n\n      LargestPropertyUseType_Strip Mall  \\\n0                                     0   \n1                                     0   \n2                                     0   \n3                                     0   \n4                                     0   \n...                                 ...   \n3371                                  0   \n3372                                  0   \n3373                                  0   \n3374                                  0   \n3375                                  0   \n\n      LargestPropertyUseType_Supermarket/Grocery Store  \\\n0                                                    0   \n1                                                    0   \n2                                                    0   \n3                                                    0   \n4                                                    0   \n...                                                ...   \n3371                                                 0   \n3372                                                 0   \n3373                                                 0   \n3374                                                 0   \n3375                                                 0   \n\n      LargestPropertyUseType_Urgent Care/Clinic/Other Outpatient  \\\n0                                                     0            \n1                                                     0            \n2                                                     0            \n3                                                     0            \n4                                                     0            \n...                                                 ...            \n3371                                                  0            \n3372                                                  0            \n3373                                                  0            \n3374                                                  0            \n3375                                                  0            \n\n      LargestPropertyUseType_Wholesale Club/Supercenter  \\\n0                                                     0   \n1                                                     0   \n2                                                     0   \n3                                                     0   \n4                                                     0   \n...                                                 ...   \n3371                                                  0   \n3372                                                  0   \n3373                                                  0   \n3374                                                  0   \n3375                                                  0   \n\n      LargestPropertyUseType_Worship Facility  \n0                                           0  \n1                                           0  \n2                                           0  \n3                                           0  \n4                                           0  \n...                                       ...  \n3371                                        0  \n3372                                        0  \n3373                                        0  \n3374                                        0  \n3375                                        0  \n\n[1538 rows x 93 columns]",
      "text/html": "<div>\n<style scoped>\n    .dataframe tbody tr th:only-of-type {\n        vertical-align: middle;\n    }\n\n    .dataframe tbody tr th {\n        vertical-align: top;\n    }\n\n    .dataframe thead th {\n        text-align: right;\n    }\n</style>\n<table border=\"1\" class=\"dataframe\">\n  <thead>\n    <tr style=\"text-align: right;\">\n      <th></th>\n      <th>OSEBuildingID</th>\n      <th>DataYear</th>\n      <th>BuildingType</th>\n      <th>PropertyName</th>\n      <th>Neighborhood</th>\n      <th>NumberofBuildings</th>\n      <th>NumberofFloors</th>\n      <th>PropertyGFATotal</th>\n      <th>PropertyGFAParking</th>\n      <th>PropertyGFABuilding(s)</th>\n      <th>LargestPropertyUseType</th>\n      <th>ENERGYSTARScore</th>\n      <th>SiteEnergyUseWN(kBtu)</th>\n      <th>SteamUse(kBtu)</th>\n      <th>Electricity(kBtu)</th>\n      <th>NaturalGas(kBtu)</th>\n      <th>TotalGHGEmissions</th>\n      <th>Ancienneté</th>\n      <th>Neighborhood_BALLARD</th>\n      <th>Neighborhood_Ballard</th>\n      <th>Neighborhood_CENTRAL</th>\n      <th>Neighborhood_Central</th>\n      <th>Neighborhood_DELRIDGE</th>\n      <th>...</th>\n      <th>LargestPropertyUseType_Other - Services</th>\n      <th>LargestPropertyUseType_Other - Utility</th>\n      <th>LargestPropertyUseType_Other/Specialty Hospital</th>\n      <th>LargestPropertyUseType_Parking</th>\n      <th>LargestPropertyUseType_Performing Arts</th>\n      <th>LargestPropertyUseType_Personal Services (Health/Beauty, Dry Cleaning, etc)</th>\n      <th>LargestPropertyUseType_Police Station</th>\n      <th>LargestPropertyUseType_Pre-school/Daycare</th>\n      <th>LargestPropertyUseType_Prison/Incarceration</th>\n      <th>LargestPropertyUseType_Refrigerated Warehouse</th>\n      <th>LargestPropertyUseType_Repair Services (Vehicle, Shoe, Locksmith, etc)</th>\n      <th>LargestPropertyUseType_Residence Hall/Dormitory</th>\n      <th>LargestPropertyUseType_Residential Care Facility</th>\n      <th>LargestPropertyUseType_Restaurant</th>\n      <th>LargestPropertyUseType_Retail Store</th>\n      <th>LargestPropertyUseType_Self-Storage Facility</th>\n      <th>LargestPropertyUseType_Senior Care Community</th>\n      <th>LargestPropertyUseType_Social/Meeting Hall</th>\n      <th>LargestPropertyUseType_Strip Mall</th>\n      <th>LargestPropertyUseType_Supermarket/Grocery Store</th>\n      <th>LargestPropertyUseType_Urgent Care/Clinic/Other Outpatient</th>\n      <th>LargestPropertyUseType_Wholesale Club/Supercenter</th>\n      <th>LargestPropertyUseType_Worship Facility</th>\n    </tr>\n  </thead>\n  <tbody>\n    <tr>\n      <th>0</th>\n      <td>1</td>\n      <td>2016</td>\n      <td>NonResidential</td>\n      <td>Mayflower park hotel</td>\n      <td>DOWNTOWN</td>\n      <td>1.0</td>\n      <td>12</td>\n      <td>88434</td>\n      <td>0</td>\n      <td>88434</td>\n      <td>Hotel</td>\n      <td>60.0</td>\n      <td>7.456910e+06</td>\n      <td>2003882.00</td>\n      <td>3.946027e+06</td>\n      <td>1.276453e+06</td>\n      <td>249.98</td>\n      <td>89</td>\n      <td>0</td>\n      <td>0</td>\n      <td>0</td>\n      <td>0</td>\n      <td>0</td>\n      <td>...</td>\n      <td>0</td>\n      <td>0</td>\n      <td>0</td>\n      <td>0</td>\n      <td>0</td>\n      <td>0</td>\n      <td>0</td>\n      <td>0</td>\n      <td>0</td>\n      <td>0</td>\n      <td>0</td>\n      <td>0</td>\n      <td>0</td>\n      <td>0</td>\n      <td>0</td>\n      <td>0</td>\n      <td>0</td>\n      <td>0</td>\n      <td>0</td>\n      <td>0</td>\n      <td>0</td>\n      <td>0</td>\n      <td>0</td>\n    </tr>\n    <tr>\n      <th>1</th>\n      <td>2</td>\n      <td>2016</td>\n      <td>NonResidential</td>\n      <td>Paramount Hotel</td>\n      <td>DOWNTOWN</td>\n      <td>1.0</td>\n      <td>11</td>\n      <td>103566</td>\n      <td>15064</td>\n      <td>88502</td>\n      <td>Hotel</td>\n      <td>61.0</td>\n      <td>8.664479e+06</td>\n      <td>0.00</td>\n      <td>3.242851e+06</td>\n      <td>5.145082e+06</td>\n      <td>295.86</td>\n      <td>20</td>\n      <td>0</td>\n      <td>0</td>\n      <td>0</td>\n      <td>0</td>\n      <td>0</td>\n      <td>...</td>\n      <td>0</td>\n      <td>0</td>\n      <td>0</td>\n      <td>0</td>\n      <td>0</td>\n      <td>0</td>\n      <td>0</td>\n      <td>0</td>\n      <td>0</td>\n      <td>0</td>\n      <td>0</td>\n      <td>0</td>\n      <td>0</td>\n      <td>0</td>\n      <td>0</td>\n      <td>0</td>\n      <td>0</td>\n      <td>0</td>\n      <td>0</td>\n      <td>0</td>\n      <td>0</td>\n      <td>0</td>\n      <td>0</td>\n    </tr>\n    <tr>\n      <th>2</th>\n      <td>3</td>\n      <td>2016</td>\n      <td>NonResidential</td>\n      <td>5673-The Westin Seattle</td>\n      <td>DOWNTOWN</td>\n      <td>1.0</td>\n      <td>41</td>\n      <td>956110</td>\n      <td>196718</td>\n      <td>759392</td>\n      <td>Hotel</td>\n      <td>43.0</td>\n      <td>7.393711e+07</td>\n      <td>21566554.00</td>\n      <td>4.952666e+07</td>\n      <td>1.493800e+06</td>\n      <td>2089.28</td>\n      <td>47</td>\n      <td>0</td>\n      <td>0</td>\n      <td>0</td>\n      <td>0</td>\n      <td>0</td>\n      <td>...</td>\n      <td>0</td>\n      <td>0</td>\n      <td>0</td>\n      <td>0</td>\n      <td>0</td>\n      <td>0</td>\n      <td>0</td>\n      <td>0</td>\n      <td>0</td>\n      <td>0</td>\n      <td>0</td>\n      <td>0</td>\n      <td>0</td>\n      <td>0</td>\n      <td>0</td>\n      <td>0</td>\n      <td>0</td>\n      <td>0</td>\n      <td>0</td>\n      <td>0</td>\n      <td>0</td>\n      <td>0</td>\n      <td>0</td>\n    </tr>\n    <tr>\n      <th>3</th>\n      <td>5</td>\n      <td>2016</td>\n      <td>NonResidential</td>\n      <td>HOTEL MAX</td>\n      <td>DOWNTOWN</td>\n      <td>1.0</td>\n      <td>10</td>\n      <td>61320</td>\n      <td>0</td>\n      <td>61320</td>\n      <td>Hotel</td>\n      <td>56.0</td>\n      <td>6.946800e+06</td>\n      <td>2214446.25</td>\n      <td>2.768924e+06</td>\n      <td>1.811213e+06</td>\n      <td>286.43</td>\n      <td>90</td>\n      <td>0</td>\n      <td>0</td>\n      <td>0</td>\n      <td>0</td>\n      <td>0</td>\n      <td>...</td>\n      <td>0</td>\n      <td>0</td>\n      <td>0</td>\n      <td>0</td>\n      <td>0</td>\n      <td>0</td>\n      <td>0</td>\n      <td>0</td>\n      <td>0</td>\n      <td>0</td>\n      <td>0</td>\n      <td>0</td>\n      <td>0</td>\n      <td>0</td>\n      <td>0</td>\n      <td>0</td>\n      <td>0</td>\n      <td>0</td>\n      <td>0</td>\n      <td>0</td>\n      <td>0</td>\n      <td>0</td>\n      <td>0</td>\n    </tr>\n    <tr>\n      <th>4</th>\n      <td>8</td>\n      <td>2016</td>\n      <td>NonResidential</td>\n      <td>WARWICK SEATTLE HOTEL (ID8)</td>\n      <td>DOWNTOWN</td>\n      <td>1.0</td>\n      <td>18</td>\n      <td>175580</td>\n      <td>62000</td>\n      <td>113580</td>\n      <td>Hotel</td>\n      <td>75.0</td>\n      <td>1.465650e+07</td>\n      <td>0.00</td>\n      <td>5.368607e+06</td>\n      <td>8.803998e+06</td>\n      <td>505.01</td>\n      <td>36</td>\n      <td>0</td>\n      <td>0</td>\n      <td>0</td>\n      <td>0</td>\n      <td>0</td>\n      <td>...</td>\n      <td>0</td>\n      <td>0</td>\n      <td>0</td>\n      <td>0</td>\n      <td>0</td>\n      <td>0</td>\n      <td>0</td>\n      <td>0</td>\n      <td>0</td>\n      <td>0</td>\n      <td>0</td>\n      <td>0</td>\n      <td>0</td>\n      <td>0</td>\n      <td>0</td>\n      <td>0</td>\n      <td>0</td>\n      <td>0</td>\n      <td>0</td>\n      <td>0</td>\n      <td>0</td>\n      <td>0</td>\n      <td>0</td>\n    </tr>\n    <tr>\n      <th>...</th>\n      <td>...</td>\n      <td>...</td>\n      <td>...</td>\n      <td>...</td>\n      <td>...</td>\n      <td>...</td>\n      <td>...</td>\n      <td>...</td>\n      <td>...</td>\n      <td>...</td>\n      <td>...</td>\n      <td>...</td>\n      <td>...</td>\n      <td>...</td>\n      <td>...</td>\n      <td>...</td>\n      <td>...</td>\n      <td>...</td>\n      <td>...</td>\n      <td>...</td>\n      <td>...</td>\n      <td>...</td>\n      <td>...</td>\n      <td>...</td>\n      <td>...</td>\n      <td>...</td>\n      <td>...</td>\n      <td>...</td>\n      <td>...</td>\n      <td>...</td>\n      <td>...</td>\n      <td>...</td>\n      <td>...</td>\n      <td>...</td>\n      <td>...</td>\n      <td>...</td>\n      <td>...</td>\n      <td>...</td>\n      <td>...</td>\n      <td>...</td>\n      <td>...</td>\n      <td>...</td>\n      <td>...</td>\n      <td>...</td>\n      <td>...</td>\n      <td>...</td>\n      <td>...</td>\n    </tr>\n    <tr>\n      <th>3371</th>\n      <td>50222</td>\n      <td>2016</td>\n      <td>NonResidential</td>\n      <td>Horticulture building</td>\n      <td>GREATER DUWAMISH</td>\n      <td>1.0</td>\n      <td>1</td>\n      <td>12294</td>\n      <td>0</td>\n      <td>12294</td>\n      <td>Office</td>\n      <td>46.0</td>\n      <td>9.430032e+05</td>\n      <td>0.00</td>\n      <td>5.242709e+05</td>\n      <td>3.254750e+05</td>\n      <td>20.94</td>\n      <td>26</td>\n      <td>0</td>\n      <td>0</td>\n      <td>0</td>\n      <td>0</td>\n      <td>0</td>\n      <td>...</td>\n      <td>0</td>\n      <td>0</td>\n      <td>0</td>\n      <td>0</td>\n      <td>0</td>\n      <td>0</td>\n      <td>0</td>\n      <td>0</td>\n      <td>0</td>\n      <td>0</td>\n      <td>0</td>\n      <td>0</td>\n      <td>0</td>\n      <td>0</td>\n      <td>0</td>\n      <td>0</td>\n      <td>0</td>\n      <td>0</td>\n      <td>0</td>\n      <td>0</td>\n      <td>0</td>\n      <td>0</td>\n      <td>0</td>\n    </tr>\n    <tr>\n      <th>3372</th>\n      <td>50223</td>\n      <td>2016</td>\n      <td>NonResidential</td>\n      <td>International district/Chinatown CC</td>\n      <td>DOWNTOWN</td>\n      <td>1.0</td>\n      <td>1</td>\n      <td>16000</td>\n      <td>0</td>\n      <td>16000</td>\n      <td>Other - Recreation</td>\n      <td>-1.0</td>\n      <td>1.053706e+06</td>\n      <td>0.00</td>\n      <td>3.965461e+05</td>\n      <td>5.537300e+05</td>\n      <td>32.17</td>\n      <td>12</td>\n      <td>0</td>\n      <td>0</td>\n      <td>0</td>\n      <td>0</td>\n      <td>0</td>\n      <td>...</td>\n      <td>0</td>\n      <td>0</td>\n      <td>0</td>\n      <td>0</td>\n      <td>0</td>\n      <td>0</td>\n      <td>0</td>\n      <td>0</td>\n      <td>0</td>\n      <td>0</td>\n      <td>0</td>\n      <td>0</td>\n      <td>0</td>\n      <td>0</td>\n      <td>0</td>\n      <td>0</td>\n      <td>0</td>\n      <td>0</td>\n      <td>0</td>\n      <td>0</td>\n      <td>0</td>\n      <td>0</td>\n      <td>0</td>\n    </tr>\n    <tr>\n      <th>3373</th>\n      <td>50224</td>\n      <td>2016</td>\n      <td>NonResidential</td>\n      <td>Queen Anne Pool</td>\n      <td>MAGNOLIA / QUEEN ANNE</td>\n      <td>1.0</td>\n      <td>1</td>\n      <td>13157</td>\n      <td>0</td>\n      <td>13157</td>\n      <td>Other - Recreation</td>\n      <td>-1.0</td>\n      <td>6.053764e+06</td>\n      <td>0.00</td>\n      <td>1.792159e+06</td>\n      <td>3.973739e+06</td>\n      <td>223.54</td>\n      <td>42</td>\n      <td>0</td>\n      <td>0</td>\n      <td>0</td>\n      <td>0</td>\n      <td>0</td>\n      <td>...</td>\n      <td>0</td>\n      <td>0</td>\n      <td>0</td>\n      <td>0</td>\n      <td>0</td>\n      <td>0</td>\n      <td>0</td>\n      <td>0</td>\n      <td>0</td>\n      <td>0</td>\n      <td>0</td>\n      <td>0</td>\n      <td>0</td>\n      <td>0</td>\n      <td>0</td>\n      <td>0</td>\n      <td>0</td>\n      <td>0</td>\n      <td>0</td>\n      <td>0</td>\n      <td>0</td>\n      <td>0</td>\n      <td>0</td>\n    </tr>\n    <tr>\n      <th>3374</th>\n      <td>50225</td>\n      <td>2016</td>\n      <td>NonResidential</td>\n      <td>South Park Community Center</td>\n      <td>GREATER DUWAMISH</td>\n      <td>1.0</td>\n      <td>1</td>\n      <td>14101</td>\n      <td>0</td>\n      <td>14101</td>\n      <td>Other - Recreation</td>\n      <td>-1.0</td>\n      <td>7.828413e+05</td>\n      <td>0.00</td>\n      <td>3.488702e+05</td>\n      <td>3.706010e+05</td>\n      <td>22.11</td>\n      <td>27</td>\n      <td>0</td>\n      <td>0</td>\n      <td>0</td>\n      <td>0</td>\n      <td>0</td>\n      <td>...</td>\n      <td>0</td>\n      <td>0</td>\n      <td>0</td>\n      <td>0</td>\n      <td>0</td>\n      <td>0</td>\n      <td>0</td>\n      <td>0</td>\n      <td>0</td>\n      <td>0</td>\n      <td>0</td>\n      <td>0</td>\n      <td>0</td>\n      <td>0</td>\n      <td>0</td>\n      <td>0</td>\n      <td>0</td>\n      <td>0</td>\n      <td>0</td>\n      <td>0</td>\n      <td>0</td>\n      <td>0</td>\n      <td>0</td>\n    </tr>\n    <tr>\n      <th>3375</th>\n      <td>50226</td>\n      <td>2016</td>\n      <td>NonResidential</td>\n      <td>Van Asselt Community Center</td>\n      <td>GREATER DUWAMISH</td>\n      <td>1.0</td>\n      <td>1</td>\n      <td>18258</td>\n      <td>0</td>\n      <td>18258</td>\n      <td>Other - Recreation</td>\n      <td>-1.0</td>\n      <td>1.293722e+06</td>\n      <td>0.00</td>\n      <td>4.325542e+05</td>\n      <td>7.203420e+05</td>\n      <td>41.27</td>\n      <td>78</td>\n      <td>0</td>\n      <td>0</td>\n      <td>0</td>\n      <td>0</td>\n      <td>0</td>\n      <td>...</td>\n      <td>0</td>\n      <td>0</td>\n      <td>0</td>\n      <td>0</td>\n      <td>0</td>\n      <td>0</td>\n      <td>0</td>\n      <td>0</td>\n      <td>0</td>\n      <td>0</td>\n      <td>0</td>\n      <td>0</td>\n      <td>0</td>\n      <td>0</td>\n      <td>0</td>\n      <td>0</td>\n      <td>0</td>\n      <td>0</td>\n      <td>0</td>\n      <td>0</td>\n      <td>0</td>\n      <td>0</td>\n      <td>0</td>\n    </tr>\n  </tbody>\n</table>\n<p>1538 rows × 93 columns</p>\n</div>"
     },
     "execution_count": 49,
     "metadata": {},
     "output_type": "execute_result"
    }
   ],
   "source": [
    "data"
   ],
   "metadata": {
    "collapsed": false
   }
  }
 ],
 "metadata": {
  "kernelspec": {
   "display_name": "Python 3",
   "language": "python",
   "name": "python3"
  },
  "language_info": {
   "codemirror_mode": {
    "name": "ipython",
    "version": 2
   },
   "file_extension": ".py",
   "mimetype": "text/x-python",
   "name": "python",
   "nbconvert_exporter": "python",
   "pygments_lexer": "ipython2",
   "version": "2.7.6"
  }
 },
 "nbformat": 4,
 "nbformat_minor": 0
}
