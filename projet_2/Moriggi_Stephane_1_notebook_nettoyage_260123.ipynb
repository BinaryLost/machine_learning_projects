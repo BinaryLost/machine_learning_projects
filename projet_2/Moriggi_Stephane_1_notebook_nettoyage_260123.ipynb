{
 "cells": [
  {
   "cell_type": "code",
   "execution_count": 37,
   "metadata": {
    "collapsed": true
   },
   "outputs": [
    {
     "name": "stderr",
     "output_type": "stream",
     "text": [
      "/tmp/ipykernel_17152/2638831187.py:6: DtypeWarning: Columns (0,3,5,24,25,26,27,28,35,36,37,38,39,48,65,67,70,71,72,78,79,80,83,84,85) have mixed types. Specify dtype option on import or set low_memory=False.\n",
      "  data_csv = pd.read_csv('fr.openfoodfacts.org.products.csv', sep='\\t')\n"
     ]
    }
   ],
   "source": [
    "import pandas as pd\n",
    "import time\n",
    "import matplotlib.pyplot as plt\n",
    "import seaborn as sns\n",
    "\n",
    "data_csv = pd.read_csv('fr.openfoodfacts.org.products.csv', sep='\\t')"
   ]
  },
  {
   "cell_type": "code",
   "execution_count": 38,
   "outputs": [
    {
     "name": "stdout",
     "output_type": "stream",
     "text": [
      "Le nombre de lignes data avant action est 279417\n",
      "Temps d'exécution de la méthode drop() : 0.0557 secondes\n"
     ]
    }
   ],
   "source": [
    "#choix des variables\n",
    "#\n",
    "data_before_action = data_csv.shape[0]\n",
    "print(f'Le nombre de lignes data avant action est {data_before_action}')\n",
    "\n",
    "# Liste des colonnes à conserver\n",
    "variables_pertinentes = [\n",
    "    'created_datetime','code', 'product_name', 'brands', 'categories', 'ingredients_text', 'additives_tags', 'nutrition_grade_fr',\n",
    "    'energy_100g', 'proteins_100g', 'carbohydrates_100g', 'sugars_100g','fiber_100g','fat_100g', 'saturated-fat_100g',\n",
    "    'alcohol_100g', 'countries_fr','potassium_100g','calcium_100g','vitamin-a_100g','vitamin-c_100g','vitamin-d_100g','cholesterol_100g','image_url'\n",
    "]\n",
    "\n",
    "start = time.time()\n",
    "data = data_csv.drop([col for col in data_csv.columns if col not in variables_pertinentes], axis=1)\n",
    "end = time.time()\n",
    "print(f\"Temps d'exécution de la méthode drop() : {end - start:.4f} secondes\")"
   ],
   "metadata": {
    "collapsed": false
   }
  },
  {
   "cell_type": "code",
   "execution_count": 39,
   "outputs": [
    {
     "name": "stdout",
     "output_type": "stream",
     "text": [
      "Le nombre de lignes data avant action est 279417\n",
      "Le nombre de doublons est 199\n",
      "Le nombre de lignes data après suppression des doublons est 279328, 89 ont été supprimés\n"
     ]
    }
   ],
   "source": [
    "# traitement des doublons\n",
    "\n",
    "data_before_action = data.shape[0]\n",
    "print(f'Le nombre de lignes data avant action est {data_before_action}')\n",
    "\n",
    "duplicates = data[data.duplicated(subset=['code'], keep=False)]\n",
    "print(f'Le nombre de doublons est {duplicates.shape[0]}')\n",
    "\n",
    "most_recent_duplicates = duplicates.sort_values(by='created_datetime',ascending=False).drop_duplicates(subset=['code'])\n",
    "data = data.drop(most_recent_duplicates.index, errors='ignore')\n",
    "\n",
    "print(f'Le nombre de lignes data après suppression des doublons est {data.shape[0]}, {data_before_action - data.shape[0]} ont été supprimés')"
   ],
   "metadata": {
    "collapsed": false
   }
  },
  {
   "cell_type": "code",
   "execution_count": 40,
   "outputs": [
    {
     "name": "stdout",
     "output_type": "stream",
     "text": [
      "Le nombre de lignes data avant action est 279328\n",
      "Les individus avec un nom de produit ou code vides sont aux nombre de 17613\n",
      "Sugar négatifs remplacés par valeur absolue 6\n",
      "Fibre négatifs remplacés par valeur absolue 1\n",
      "Prot négatifs remplacés par valeur absolue 3\n",
      "Vitamin a négatifs remplacés par valeur absolue 1\n",
      "Vitamin c négatifs remplacés par valeur absolue 0\n",
      "SI possible imputation des sous-variables aux lipides et glucides manquants\n",
      "Les valeurs aberrantes sont aux nombres de 1460\n"
     ]
    }
   ],
   "source": [
    "# traitement des valeurs manquantes ou aberrantes\n",
    "\n",
    "data_before_action = data.shape[0]\n",
    "print(f'Le nombre de lignes data avant action est {data_before_action}')\n",
    "\n",
    "#La variables  code et product_name sont obligatoires\n",
    "empty_mandatory_variables = data[\n",
    "    (data['product_name'].isna()) | ((data['code'].isna()))\n",
    "]\n",
    "print(f'Les individus avec un nom de produit ou code vides sont aux nombre de {len(empty_mandatory_variables)}')\n",
    "data.drop(empty_mandatory_variables.index, inplace=True)\n",
    "\n",
    "#les 7 lignes avec une valeur négative sont des erreurs de signe.\n",
    "#Remplacement par la valeur absolue\n",
    "print(f'Sugar négatifs remplacés par valeur absolue {data.loc[data[\"sugars_100g\"] < 0, [\"sugars_100g\"]].shape[0]}')\n",
    "print(f'Fibre négatifs remplacés par valeur absolue {data.loc[data[\"fiber_100g\"] < 0, [\"fiber_100g\"]].shape[0]}')\n",
    "print(f'Prot négatifs remplacés par valeur absolue {data.loc[data[\"proteins_100g\"] < 0, [\"proteins_100g\"]].shape[0]}')\n",
    "print(f'Vitamin a négatifs remplacés par valeur absolue {data.loc[data[\"vitamin-a_100g\"] < 0, [\"vitamin-a_100g\"]].shape[0]}')\n",
    "print(f'Vitamin c négatifs remplacés par valeur absolue {data.loc[data[\"vitamin-c_100g\"] < 0, [\"vitamin-c_100g\"]].shape[0]}')\n",
    "data.loc[data['sugars_100g'] < 0,'sugars_100g'] = data['sugars_100g'].abs()\n",
    "data.loc[data['fiber_100g'] < 0,'fiber_100g'] = data['fiber_100g'].abs()\n",
    "data.loc[data['proteins_100g'] < 0,'proteins_100g'] = data['proteins_100g'].abs()\n",
    "data.loc[data['vitamin-a_100g'] < 0,'vitamin-a_100g'] = data['vitamin-a_100g'].abs()\n",
    "data.loc[data['vitamin-c_100g'] < 0,'vitamin-c_100g'] = data['vitamin-c_100g'].abs()\n",
    "\n",
    "#imputation par 0 pour les variables quantitatives manquantes\n",
    "cols = ['potassium_100g','calcium_100g','vitamin-a_100g','vitamin-c_100g','vitamin-d_100g','cholesterol_100g','energy_100g', 'sugars_100g','fiber_100g', 'saturated-fat_100g', 'alcohol_100g','proteins_100g','fat_100g','carbohydrates_100g']\n",
    "data[cols] = data[cols].apply(pd.to_numeric, errors='coerce')\n",
    "data[cols] = data[cols].fillna(0)\n",
    "\n",
    "#imputation des protéines lipides et glucides par les sous-variables\n",
    "print('SI possible imputation des sous-variables aux lipides et glucides manquants')\n",
    "condition1 = data['fat_100g'].isnull()\n",
    "condition2 = data['saturated-fat_100g'] > data['fat_100g']\n",
    "data.loc[condition1 | condition2, 'fat_100g'] = data['saturated-fat_100g']\n",
    "\n",
    "condition1 = data['carbohydrates_100g'].isnull()\n",
    "condition2 = data['sugars_100g'] > data['carbohydrates_100g']\n",
    "data.loc[condition1 | condition2, 'carbohydrates_100g'] = data['sugars_100g']\n",
    "aberrants = data[\n",
    "                 (data['sugars_100g'] > data['carbohydrates_100g']) |\n",
    "                 ((data['carbohydrates_100g'] + data['proteins_100g'] + data['fat_100g']) > 100) |\n",
    "                 (data['fiber_100g'] > 100) |\n",
    "                 (data['vitamin-a_100g'] > 100) |\n",
    "                 (data['vitamin-c_100g'] > 100) |\n",
    "                 (data['vitamin-d_100g'] > 100) |\n",
    "                 (data['potassium_100g'] > 100) |\n",
    "                 (data['calcium_100g'] > 100)\n",
    "]\n",
    "\n",
    "print(f'Les valeurs aberrantes sont aux nombres de {len(aberrants)}')\n",
    "\n",
    "# #suppression des valeurs aberrantes\n",
    "data.drop(aberrants.index, inplace=True)"
   ],
   "metadata": {
    "collapsed": false
   }
  },
  {
   "cell_type": "code",
   "execution_count": 41,
   "outputs": [
    {
     "name": "stdout",
     "output_type": "stream",
     "text": [
      "Le nombre de lignes data avant action est 260255\n",
      "<function show at 0x7f38dedd4790>\n"
     ]
    },
    {
     "data": {
      "text/plain": "<Figure size 640x480 with 1 Axes>",
      "image/png": "[encoded data removed]"
     },
     "metadata": {},
     "output_type": "display_data"
    }
   ],
   "source": [
    "#supression de l'alcool\n",
    "\n",
    "data_before_action = data.shape[0]\n",
    "print(f'Le nombre de lignes data avant action est {data_before_action}')\n",
    "\n",
    "#Les produits contenant de l'alcool sont à bannir\n",
    "data_alcohol = data[data['alcohol_100g'] > 0]\n",
    "data_no_alcohol = data[data['alcohol_100g'] == 0]\n",
    "percent_alcohol = len(data_alcohol) / len(data)\n",
    "percent_no_alcohol = len(data_no_alcohol) / len(data)\n",
    "labels = ['Alcohol', 'No alcohol']\n",
    "sizes = [percent_alcohol, percent_no_alcohol]\n",
    "colors = ['red', 'blue']\n",
    "fig, ax = plt.subplots()\n",
    "ax.pie(sizes, labels=labels, colors=colors, autopct='%1.1f%%')\n",
    "ax.axis('equal')\n",
    "print(plt.show)\n",
    "indices_to_drop = data[data['alcohol_100g'] > 0].index\n",
    "data = data.drop(indices_to_drop)"
   ],
   "metadata": {
    "collapsed": false
   }
  },
  {
   "cell_type": "code",
   "execution_count": 42,
   "outputs": [
    {
     "name": "stdout",
     "output_type": "stream",
     "text": [
      "Le nombre de lignes data avant action est 257765\n",
      "31297 produits ont été retirés\n"
     ]
    },
    {
     "data": {
      "text/plain": "<Figure size 640x480 with 1 Axes>",
      "image/png": "[encoded data removed]"
     },
     "metadata": {},
     "output_type": "display_data"
    }
   ],
   "source": [
    "# supression des mauvais additifs\n",
    "\n",
    "data_before_action = data.shape[0]\n",
    "print(f'Le nombre de lignes data avant action est {data_before_action}')\n",
    "\n",
    "data.loc[data['additives_tags'].isnull(), 'additives_tags'] = ''\n",
    "risky_additives = ['E250', 'E450', 'E202', 'E407', 'E252', 'E621', 'E224', 'E211', 'E482', 'E249', 'E212', 'E343',\n",
    "                   'E1102', 'E511', 'E155']\n",
    "risky_additives_regex = '|'.join(risky_additives)  # join the elements of the list with `|`\n",
    "data['additives_tags_clean'] = data['additives_tags'].str.replace('en:', '')\n",
    "\n",
    "# print(data.loc[40:55, 'additives_tags_clean'])\n",
    "data['risky'] = 'non'\n",
    "risky = data[data['additives_tags_clean'].str.contains(risky_additives_regex, case=False)]\n",
    "data.loc[risky.index, 'risky'] = 'oui'\n",
    "\n",
    "risky_count = len(data[data['risky'] == 'oui'])\n",
    "non_risky_count = len(data[data['risky'] == 'non'])\n",
    "# Créer un dataframe avec les données à afficher dans le graphique\n",
    "risky_frame = pd.DataFrame({'Situation': ['Risqué', 'Non risqué'], 'Count': [risky_count, non_risky_count]})\n",
    "sns.barplot(x='Situation', y='Count', data=risky_frame)\n",
    "\n",
    "#retirer les aliments risqué\n",
    "print(f'{risky_count} produits ont été retirés')\n",
    "data.drop(data[data['risky'] == 'oui'].index, inplace=True)\n"
   ],
   "metadata": {
    "collapsed": false
   }
  },
  {
   "cell_type": "code",
   "execution_count": 43,
   "outputs": [
    {
     "name": "stdout",
     "output_type": "stream",
     "text": [
      "Le nombre de lignes data avant action est 226468\n",
      "Les lignes <= 0 sont au nombre de 46053\n",
      "Les lignes > 900 sont au nombre de 0\n"
     ]
    }
   ],
   "source": [
    "# Recalcul des valeurs énergétiques et suppression des données aberrantes\n",
    "\n",
    "data_before_action = data.shape[0]\n",
    "print(f'Le nombre de lignes data avant action est {data_before_action}')\n",
    "\n",
    "kcal_prot = 4\n",
    "kcal_glucide = 4\n",
    "kcal_lipide = 9\n",
    "data['kcal'] = (data['proteins_100g'] * kcal_prot + data['carbohydrates_100g'] * kcal_glucide + data['fat_100g'] * kcal_lipide)\n",
    "# #Suppression des valeurs énergétiques <= 0 ou > 900\n",
    "mask = ((data['kcal'] <= 0) | (data['kcal'] > 900 ))\n",
    "print(f'Les lignes <= 0 sont au nombre de {(data[\"kcal\"] <= 0).sum()}')\n",
    "print(f'Les lignes > 900 sont au nombre de {(data[\"kcal\"] > 900).sum()}')\n",
    "data.drop(data[mask].index, inplace=True)\n"
   ],
   "metadata": {
    "collapsed": false
   }
  },
  {
   "cell_type": "code",
   "execution_count": 44,
   "outputs": [],
   "source": [
    "# calculer le nutriscore pour les valeurs vides (en moyenne)\n",
    "def calcul_nutriscore(line):\n",
    "    A = -0.6 #moyenne des possibilités\n",
    "    B = 3\n",
    "    C = 2\n",
    "    D = 1\n",
    "    E = 0.35 #moyenne des possibilités\n",
    "    nutriscore = (A * (2 * line['kcal'] / 100) + B * (line['sugars_100g'] / 100) + C * (line['saturated-fat_100g'] / 100) - D * (line['fiber_100g'] / 100) - E * (line['proteins_100g'] / 100))\n",
    "    if nutriscore < -2:\n",
    "        nutriscore_letter = 'a'\n",
    "    elif nutriscore < -1:\n",
    "        nutriscore_letter = 'b'\n",
    "    elif nutriscore < 1:\n",
    "        nutriscore_letter = 'c'\n",
    "    elif nutriscore < 3:\n",
    "        nutriscore_letter = 'd'\n",
    "    else:\n",
    "        nutriscore_letter = 'e'\n",
    "    return  nutriscore_letter\n",
    "\n",
    "\n",
    "data.loc[(data['nutrition_grade_fr'].isna()), 'nutrition_grade_fr'] = data.loc[(data['nutrition_grade_fr'].isna()), ['kcal','sugars_100g', 'saturated-fat_100g', 'fiber_100g', 'proteins_100g']].apply(calcul_nutriscore, axis=1)"
   ],
   "metadata": {
    "collapsed": false
   }
  },
  {
   "cell_type": "code",
   "execution_count": 45,
   "outputs": [
    {
     "name": "stdout",
     "output_type": "stream",
     "text": [
      "Fin du nettoyage: il reste 180415 produits\n"
     ]
    }
   ],
   "source": [
    "print(f'Fin du nettoyage: il reste {data.shape[0]} produits')\n",
    "data.to_csv('cleaned_data.csv', index=False)"
   ],
   "metadata": {
    "collapsed": false
   }
  }
 ],
 "metadata": {
  "kernelspec": {
   "display_name": "Python 3",
   "language": "python",
   "name": "python3"
  },
  "language_info": {
   "codemirror_mode": {
    "name": "ipython",
    "version": 2
   },
   "file_extension": ".py",
   "mimetype": "text/x-python",
   "name": "python",
   "nbconvert_exporter": "python",
   "pygments_lexer": "ipython2",
   "version": "2.7.6"
  }
 },
 "nbformat": 4,
 "nbformat_minor": 0
}
