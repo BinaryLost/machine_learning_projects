{
 "cells": [
  {
   "cell_type": "code",
   "execution_count": 73,
   "outputs": [],
   "source": [
    "import pandas as pd\n",
    "produits = pd.read_csv('produits.csv')\n",
    "commande = pd.read_csv('commande.csv')\n",
    "\n",
    "df = produits.merge(commande, on='id')\n"
   ],
   "metadata": {
    "collapsed": false
   }
  },
  {
   "cell_type": "code",
   "execution_count": 74,
   "outputs": [
    {
     "name": "stdout",
     "output_type": "stream",
     "text": [
      "[142.8]\n"
     ]
    }
   ],
   "source": [
    "df_agg = df.groupby('id').agg({'nombre': 'sum', 'prix': 'unique'})\n",
    "df_agg = df_agg.assign(montant=df_agg['prix'] * df_agg['nombre'])\n",
    "\n",
    "min_montant = df_agg['montant'].min()\n",
    "\n",
    "print(min_montant)\n"
   ],
   "metadata": {
    "collapsed": false
   }
  },
  {
   "cell_type": "code",
   "execution_count": 74,
   "outputs": [],
   "source": [],
   "metadata": {
    "collapsed": false
   }
  }
 ],
 "metadata": {
  "kernelspec": {
   "display_name": "Python 3",
   "language": "python",
   "name": "python3"
  },
  "language_info": {
   "codemirror_mode": {
    "name": "ipython",
    "version": 2
   },
   "file_extension": ".py",
   "mimetype": "text/x-python",
   "name": "python",
   "nbconvert_exporter": "python",
   "pygments_lexer": "ipython2",
   "version": "2.7.6"
  }
 },
 "nbformat": 4,
 "nbformat_minor": 0
}
