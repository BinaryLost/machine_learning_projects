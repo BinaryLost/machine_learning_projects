{
 "cells": [
  {
   "cell_type": "code",
   "execution_count": null,
   "metadata": {
    "collapsed": true
   },
   "outputs": [],
   "source": [
    "import pandas as pd\n",
    "import matplotlib.pyplot as plt\n",
    "import seaborn as sns\n",
    "import numpy as np\n",
    "import statsmodels.formula.api as smf\n",
    "\n",
    "data = pd.read_csv('cleaned_data.csv')"
   ]
  },
  {
   "cell_type": "code",
   "execution_count": null,
   "outputs": [],
   "source": [
    "#taux de remplissage des variables\n",
    "missing_values = 100*(data.notnull().mean())\n",
    "missing_values = missing_values.sort_values(ascending=True)\n",
    "missing_values.plot(kind='barh',title='Taux de remplissage pour chaque colonne', color='blue', xlim=[0,100])\n",
    "plt.xlabel('Pourcentage')\n",
    "plt.ylabel('Colonnes')\n",
    "plt.show()"
   ],
   "metadata": {
    "collapsed": false
   }
  },
  {
   "cell_type": "code",
   "execution_count": null,
   "outputs": [],
   "source": [
    "#répartition produits français\n",
    "france_data = data[data['countries_fr'].str.contains('France', na=False)]\n",
    "other_data = data[~data['countries_fr'].str.contains('France', na=False)]\n",
    "france_percentage = len(france_data) / len(data) * 100\n",
    "other_percentage = len(other_data) / len(data) * 100\n",
    "plt.pie([france_percentage, other_percentage], labels=['France', 'Other'], autopct='%1.1f%%')\n",
    "plt.show()"
   ],
   "metadata": {
    "collapsed": false
   }
  },
  {
   "cell_type": "code",
   "execution_count": null,
   "outputs": [],
   "source": [
    "#répartition des produits par pays\n",
    "pays = [\n",
    "    \"Afrique du Sud\",\"Albanie\",\"Algérie\",\"Allemagne\",\"Andorre\",\"Angola\",\"Arabie saoudite\",\"Argentine\",\"Arménie\",\"Australie\",\"Autriche\",\"Azerbaïdjan\",\n",
    "    \"Bahreïn\",\"Bangladesh\",\"Belgique\",\"Belize\",\"Bénin\",\"Bhoutan\",\"Biélorussie\",\"Bolivie\",\"Bosnie-Herzégovine\",\"Botswana\",\"Brésil\",\"Brunei\",\"Bulgarie\",\"Burkina Faso\",\"Burundi\",\n",
    "    \"Cambodge\",\"Cameroun\",\"Canada\",\"Cap-Vert\",\"Chili\",\"Chine\",\"Chypre\",\"Colombie\",\"Comores\",\"Congo\",\"Corée du Nord\",\"Corée du Sud\",\"Costa Rica\",\"Côte d'Ivoire\",\"Croatie\",\"Cuba\",\n",
    "    \"Danemark\",\"Djibouti\",\"Dominique\",\n",
    "    \"Égypte\",\"Émirats arabes unis\",\"Équateur\",\"Érythrée\",\"Espagne\",\"Estonie\",\"États-Unis\",\"Éthiopie\",\n",
    "    \"Fidji\",\"Finlande\",\"France\",\n",
    "    \"Gabon\",\"Gambie\",\"Géorgie\",\"Ghana\",\"Grèce\",\"Grenade\",\"Guatemala\",\"Guinée\",\"Guinée-Bissau\",\"Guinée équatoriale\",\"Guyana\",\n",
    "    \"Haïti\",\"Honduras\",\"Hong Kong\",\"Hongrie\",\n",
    "    \"Îles Marshall\",\"Inde\",\"Indonésie\",\"Irak\",\"Iran\",\"Irlande\",\"Islande\",\"Israël\",\"Italie\",\n",
    "    \"Jamaïque\",\"Japon\",\"Jordanie\",\n",
    "    \"Kazakhstan\",\"Kenya\",\"Kirghizistan\",\"Kiribati\",\"Koweït\",\n",
    "    \"Laos\",\"Lesotho\",\"Lettonie\",\"Liban\",\"Liberia\",\"Libye\",\"Liechten\",\"Liban\",\"Lituanie\",\"Luxembourg\",\n",
    "    \"Malaisie\",\"Malawi\", \"Mali\", \"Malte\", \"Maroc\", \"Maurice\", \"Mauritanie\", \"Mexique\", \"Moldavie\", \"Monaco\",\"Mongolie\", \"Monténégro\",\n",
    "    \"Nigeria\", \"Norvège\", \"Nouvelle-Calédonie\", \"Nouvelle-Zélande\",\n",
    "    \"Oman\",\n",
    "    \"Pays-Bas\", \"Pérou\", \"Philippines\", \"Pologne\", \"Portugal\",\n",
    "    \"Qatar\",\n",
    "    \"Roumanie\", \"Royaume-Uni\", \"République centrafricaine\", \"République dominicaine\", \"République tchèque\",\n",
    "    \"Salvador\", \"Serbie\", \"Singapour\", \"Slovaquie\", \"Slovénie\", \"Suède\",    \"Suisse\",\n",
    "    \"Taiwan\", \"Tanzanie\", \"Thaïlande\", \"Togo\", \"Tunisie\", \"Turquie\",\n",
    "    \"Ukraine\",\n",
    "    \"Venezuela\", \"Viêt Nam\",\n",
    "    \"Yémen\",\n",
    "    \"Zambie\", \"Zimbabwe\"\n",
    "]\n",
    "\n",
    "data['countries_split'] = data['countries_fr'].str.split(',')\n",
    "countries_series = data['countries_split'].explode().value_counts()\n",
    "filtered_series = countries_series[countries_series.index.isin(pays)]\n",
    "\n",
    "seuil = 1000\n",
    "pays = filtered_series.loc[filtered_series >= seuil]\n",
    "autre = pd.Series([filtered_series.loc[filtered_series < seuil].sum()], index=['autre'])\n",
    "reordered_series =  pd.concat([pays, autre])\n",
    "\n",
    "sns.barplot(x=reordered_series.values, y=reordered_series.index)\n",
    "plt.show()"
   ],
   "metadata": {
    "collapsed": false
   }
  },
  {
   "cell_type": "markdown",
   "source": [],
   "metadata": {
    "collapsed": false
   }
  },
  {
   "cell_type": "code",
   "execution_count": null,
   "outputs": [],
   "source": [
    "data_before_action = data.shape[0]\n",
    "print(f'Le nombre de lignes data avant action est {data_before_action}')\n",
    "\n",
    "# (Distribution du nombre de produits par tranche d'énergie)\n",
    "bins = 5\n",
    "\n",
    "# # Plot the histogram\n",
    "data['kcal'].hist(bins=bins, rwidth=1, color='g')\n",
    "\n",
    "# # Add axis labels and plot title\n",
    "plt.xlabel(\"kcal\")\n",
    "plt.ylabel(\"Count\")\n",
    "plt.title(\"Distribution des kcal\")\n",
    "plt.show()"
   ],
   "metadata": {
    "collapsed": false
   }
  },
  {
   "cell_type": "code",
   "execution_count": null,
   "outputs": [],
   "source": [
    "# Créer un diagramme en boîte à moustache pour les calories\n",
    "plt.boxplot(data[\"kcal\"])\n",
    "print(f'Médiane des calories {data[\"kcal\"].median()}')\n",
    "print(f'Mode des calories {data[\"kcal\"].mode()}')\n",
    "print(f'Moyenne des calories {data[\"kcal\"].mean()}')\n",
    "print(f'Variance {data[\"kcal\"].var(ddof=0)}')\n",
    "print(f'Ecart type {data[\"kcal\"].std()}')\n",
    "\n",
    "# on constate que la médiane est proche de la moyenne ce qui témoigne d'une répartition assez équilibrée, et les outliers ne perturbent pas la moyenne"
   ],
   "metadata": {
    "collapsed": false
   }
  },
  {
   "cell_type": "code",
   "execution_count": null,
   "outputs": [],
   "source": [
    "order = ['a','b','c','d','e']\n",
    "sns.countplot(x='nutrition_grade_fr', data=data, order=order)\n",
    "\n",
    "# Set the plot's title and axis labels\n",
    "plt.title(\"Distribution du nombre de produits par tranche d'energie\")\n",
    "plt.xlabel(\"Tranche nutriscore\")\n",
    "plt.ylabel(\"Nombre de produits\")\n",
    "# Display the plot\n",
    "plt.show()\n",
    "# Print the counts of each value\n",
    "print(data['nutrition_grade_fr'].value_counts())\n",
    "print(f'Mode nutri {data[\"nutrition_grade_fr\"].mode()}')\n",
    "\n",
    "# l'imputation par le calcul du nutriscore joue en faveur de la note A, mais il faut garder en tête que les valeurs manquantes\n",
    "# à 35% pour les sucres et les graisses saturées peuvent expliquer cela"
   ],
   "metadata": {
    "collapsed": false
   }
  },
  {
   "cell_type": "code",
   "execution_count": null,
   "outputs": [],
   "source": [
    "# Création des tranches pour l'histogramme\n",
    "#Liste de variables quantitatives\n",
    "quant_vars = ['proteins_100g', 'carbohydrates_100g', 'sugars_100g','fat_100g', 'saturated-fat_100g']\n",
    "\n",
    "# Boucle à travers les variables quantitatives\n",
    "for var in quant_vars:\n",
    "    # Calcule les effectifs, les fréquences, les fréquences cumulées\n",
    "    counts, bin_edges = np.histogram(data[var], bins = 10, density = False)\n",
    "    freqs = counts / len(data[var])\n",
    "    cdf = np.cumsum(freqs)\n",
    "\n",
    "    # Tracer l'histogramme\n",
    "    plt.bar(bin_edges[:-1], freqs, width = bin_edges[1] - bin_edges[0], color = 'g', alpha = 0.5)\n",
    "    plt.xlabel(var)\n",
    "    plt.ylabel(\"Fréquence\")\n",
    "    plt.title(\"Histogramme de la variable \"+ var)\n",
    "    plt.show()\n",
    "\n",
    "quant_vars = ['fiber_100g']\n",
    "for var in quant_vars:\n",
    "    # Calcule les effectifs, les fréquences, les fréquences cumulées\n",
    "    counts, bin_edges = np.histogram(data[var], bins = 100, density = False)\n",
    "    freqs = counts / len(data[var])\n",
    "    cdf = np.cumsum(freqs)\n",
    "\n",
    "    # Tracer l'histogramme\n",
    "    plt.bar(bin_edges[:-1], freqs, width = bin_edges[1] - bin_edges[0], color = 'g', alpha = 0.5)\n",
    "    plt.xlabel(var + ' (divisé par 10)')\n",
    "    plt.ylabel(\"Fréquence\")\n",
    "    plt.title(\"Histogramme de la variable \"+ var)\n",
    "    plt.xlim(0, 20)\n",
    "    plt.show()\n",
    "\n",
    "quant_vars = ['potassium_100g','calcium_100g','vitamin-a_100g','vitamin-c_100g','cholesterol_100g']\n",
    "for var in quant_vars:\n",
    "    # Calcule les effectifs, les fréquences, les fréquences cumulées\n",
    "    counts, bin_edges = np.histogram(data[var], bins = 100, density = False)\n",
    "    freqs = counts / len(data[var])\n",
    "    cdf = np.cumsum(freqs)\n",
    "\n",
    "    # Tracer l'histogramme\n",
    "    plt.bar(bin_edges[:-1], freqs, width = bin_edges[1] - bin_edges[0], color = 'g', alpha = 0.5)\n",
    "    plt.xlabel(var)\n",
    "    plt.ylabel(\"Fréquence\")\n",
    "    plt.title(\"Histogramme de la variable \"+ var)\n",
    "    plt.xlim(0, 2)\n",
    "    plt.show()"
   ],
   "metadata": {
    "collapsed": false
   }
  },
  {
   "cell_type": "code",
   "execution_count": null,
   "outputs": [],
   "source": [
    "#  une hypothèse pourrait être que plus les calories d'un produit alimentaire sont élevées, plus il y a de chances que son nutriscore soit faible. Cela s'appuie sur l'idée que les produits alimentaires riches en calories ont tendance à être plus riches en matières grasses, sucres etc  ..\n",
    "# Utiliser la fonction boxplot de seaborn pour créer un boxplot pour chaque niveau de nutriscore\n",
    "sns.catplot(x=\"nutrition_grade_fr\", y=\"kcal\", data=data, kind=\"box\", order=[\"a\", \"b\", \"c\", \"d\", \"e\"])\n",
    "\n",
    "plt.title(\"Boxplot de kcal en fonction de nutriscore\")\n",
    "plt.show()\n",
    "\n",
    "#on rappelle que les meilleures notes sont probablement tirées vers le haut dû au valeurs manquantes à 35% des sucres et 35% des graisses saturées.\n",
    "# partant de là, on peut observer une relation assez linéaire qui pourrait appuyer l'hypothèse. Des tests statistiques doivent être faits.\n",
    "#on note aussi une plus forte dispersion autour de la médiane pour les notes A et C comparées aux autres"
   ],
   "metadata": {
    "collapsed": false
   }
  },
  {
   "cell_type": "code",
   "execution_count": null,
   "outputs": [],
   "source": [
    "X = \"nutrition_grade_fr\" # qualitative\n",
    "Y = \"kcal\" # quantitative\n",
    "\n",
    "\n",
    "def eta_squared(x,y):\n",
    "    moyenne_y = y.mean()\n",
    "    classes = []\n",
    "    for classe in x.unique():\n",
    "        yi_classe = y[x==classe]\n",
    "        classes.append({'ni': len(yi_classe),\n",
    "                        'moyenne_classe': yi_classe.mean()})\n",
    "    SCT = sum([(yj-moyenne_y)**2 for yj in y])\n",
    "    SCE = sum([c['ni']*(c['moyenne_classe']-moyenne_y)**2 for c in classes])\n",
    "    return SCE/SCT\n",
    "\n",
    "\n",
    "# Mapping des valeurs qualitatives ordinales\n",
    "map_dict = {'a':1, 'b':2, 'c':3, 'd':4, 'e':5}\n",
    "data['nutrition_grade_fr'] = data['nutrition_grade_fr'].replace({'a': 1, 'b': 2, 'c': 3, 'd': 4, 'e': 5})\n",
    "\n",
    "# covar(x,y) = 1/n * Σ((x_i - x̄) * (y_i - ȳ))\n",
    "covar_x_y = data['kcal'].cov(data['nutrition_grade_fr'])\n",
    "sx = data['kcal'].std()\n",
    "sy = data['nutrition_grade_fr'].std()\n",
    "ro_x_y = covar_x_y / sx * sy\n",
    "\n",
    "print(f'Rapport de corrélation eta carré: {eta_squared(data[X], data[Y])}')\n",
    "print(f'Coefficient de corrélation covar(x,y)/sx*sy: {ro_x_y}')\n",
    "\n",
    "print('Le rapport indique que 26% des variations de kcal peuvent être expliquées par le nutriscore et qu\\'il y a une corrélation linéaire')\n",
    "\n"
   ],
   "metadata": {
    "collapsed": false
   }
  },
  {
   "cell_type": "code",
   "execution_count": null,
   "outputs": [],
   "source": [
    "variables_quant = ['kcal','carbohydrates_100g', 'sugars_100g','fiber_100g','fat_100g', 'saturated-fat_100g']\n",
    "sns.heatmap(data[variables_quant].corr(), vmin=-1, vmax=1, cmap=\"BrBG\")"
   ],
   "metadata": {
    "collapsed": false
   }
  },
  {
   "cell_type": "code",
   "execution_count": null,
   "outputs": [],
   "source": [
    "sns.pairplot(data[[\"kcal\",\"proteins_100g\",\"carbohydrates_100g\",\"fat_100g\"]])\n"
   ],
   "metadata": {
    "collapsed": false
   }
  },
  {
   "cell_type": "code",
   "execution_count": null,
   "outputs": [],
   "source": [
    "dataf = {'x': data['fat_100g'], 'y': data['kcal']}\n",
    "df = pd.DataFrame(dataf)\n",
    "\n",
    "# Régression linéaire\n",
    "model = smf.ols(formula='y ~ x', data=df)\n",
    "results = model.fit()\n",
    "\n",
    "# Coefficients de la droite de régression\n",
    "a = results.params['x']\n",
    "b = results.params['Intercept']\n",
    "\n",
    "# Calcul des valeurs de la droite de régression pour x\n",
    "x_range = range(int(min(df['x'])), int(max(df['x']))+1)\n",
    "y_reg = [a*i + b for i in x_range]\n",
    "\n",
    "# Création du graphique\n",
    "plt.scatter(df['x'], df['y'])\n",
    "plt.plot(x_range, y_reg, color='red')\n",
    "\n",
    "# Ajout d'un titre et d'étiquettes d'axes\n",
    "plt.title(\"Nuage de points avec droite de régression\")\n",
    "plt.xlabel(\"fat\")\n",
    "plt.ylabel(\"kcal\")\n",
    "\n",
    "# Affichage du graphique\n",
    "plt.show()\n",
    "\n",
    "#est-ce que le modèle de régression linéaire est cohérent?\n",
    "R2 = results.rsquared\n",
    "print(f'Le coefficient de détermination R2: {R2} est une bonne performance pour une régression linéaire')\n"
   ],
   "metadata": {
    "collapsed": false
   }
  }
 ],
 "metadata": {
  "kernelspec": {
   "display_name": "Python 3",
   "language": "python",
   "name": "python3"
  },
  "language_info": {
   "codemirror_mode": {
    "name": "ipython",
    "version": 2
   },
   "file_extension": ".py",
   "mimetype": "text/x-python",
   "name": "python",
   "nbconvert_exporter": "python",
   "pygments_lexer": "ipython2",
   "version": "2.7.6"
  }
 },
 "nbformat": 4,
 "nbformat_minor": 0
}
